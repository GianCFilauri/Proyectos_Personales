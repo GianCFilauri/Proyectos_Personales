{
  "nbformat": 4,
  "nbformat_minor": 0,
  "metadata": {
    "colab": {
      "provenance": [],
      "collapsed_sections": [],
      "toc_visible": true,
      "authorship_tag": "ABX9TyMxe+rL/0eYDHzXtqT98Ohq",
      "include_colab_link": true
    },
    "kernelspec": {
      "name": "python3",
      "display_name": "Python 3"
    },
    "language_info": {
      "name": "python"
    },
    "accelerator": "GPU"
  },
  "cells": [
    {
      "cell_type": "markdown",
      "metadata": {
        "id": "view-in-github",
        "colab_type": "text"
      },
      "source": [
        "<a href=\"https://colab.research.google.com/github/GianCFilauri/Proyectos_Personales/blob/main/Data%20Science/TensorFlow/08_introduction_to_nlp_in_tensorflow.ipynb\" target=\"_parent\"><img src=\"https://colab.research.google.com/assets/colab-badge.svg\" alt=\"Open In Colab\"/></a>"
      ]
    },
    {
      "cell_type": "markdown",
      "source": [
        "#Introduction to NLP Fundamentals\n",
        "\n",
        "https://dev.mrdbourke.com/tensorflow-deep-learning/\n",
        "\n",
        "NLP has the goal of deriving informationn out of natural language (could be sequences text or speech).\n",
        "\n",
        "Another common for NLP problems is sequence to sequence problems (seq2seq).\n"
      ],
      "metadata": {
        "id": "EPN7-GhM9xnt"
      }
    },
    {
      "cell_type": "markdown",
      "source": [
        "#Check for GPU"
      ],
      "metadata": {
        "id": "tcYsobK5-l6z"
      }
    },
    {
      "cell_type": "code",
      "source": [
        "!nvidia-smi -L"
      ],
      "metadata": {
        "colab": {
          "base_uri": "https://localhost:8080/"
        },
        "id": "9DCDVMee-e6s",
        "outputId": "cbca5867-9a00-4e45-8c2f-ac2aab127962"
      },
      "execution_count": null,
      "outputs": [
        {
          "output_type": "stream",
          "name": "stdout",
          "text": [
            "GPU 0: Tesla T4 (UUID: GPU-c1f34eb7-ea3e-4c26-82c9-c791c6facdb1)\n"
          ]
        }
      ]
    },
    {
      "cell_type": "code",
      "source": [
        "# Download helper functions script\n",
        "!wget https://raw.githubusercontent.com/mrdbourke/tensorflow-deep-learning/main/extras/helper_functions.py"
      ],
      "metadata": {
        "colab": {
          "base_uri": "https://localhost:8080/"
        },
        "id": "uqV8PbMy_OlD",
        "outputId": "ce98edbf-ac00-4d08-e75f-629f08f57000"
      },
      "execution_count": null,
      "outputs": [
        {
          "output_type": "stream",
          "name": "stdout",
          "text": [
            "--2022-05-11 22:48:36--  https://raw.githubusercontent.com/mrdbourke/tensorflow-deep-learning/main/extras/helper_functions.py\n",
            "Resolving raw.githubusercontent.com (raw.githubusercontent.com)... 185.199.108.133, 185.199.109.133, 185.199.110.133, ...\n",
            "Connecting to raw.githubusercontent.com (raw.githubusercontent.com)|185.199.108.133|:443... connected.\n",
            "HTTP request sent, awaiting response... 200 OK\n",
            "Length: 10246 (10K) [text/plain]\n",
            "Saving to: ‘helper_functions.py’\n",
            "\n",
            "helper_functions.py 100%[===================>]  10.01K  --.-KB/s    in 0s      \n",
            "\n",
            "2022-05-11 22:48:36 (58.6 MB/s) - ‘helper_functions.py’ saved [10246/10246]\n",
            "\n"
          ]
        }
      ]
    },
    {
      "cell_type": "code",
      "source": [
        "# Import series of helper functions for the notebook\n",
        "from helper_functions import unzip_data, create_tensorboard_callback, plot_loss_curves, compare_historys"
      ],
      "metadata": {
        "id": "toagrvTH_dQu"
      },
      "execution_count": null,
      "outputs": []
    },
    {
      "cell_type": "markdown",
      "source": [
        "\n",
        "## Get a text dataset\n",
        "\n",
        "The dataset we're going to be using is Kaggle's introduction to NLP dataset (test samples of tweets labelled as disater or not disaster).\n",
        "\n",
        "See the original source here: https://www.kaggle.com/c/nlp-getting-started/data"
      ],
      "metadata": {
        "id": "GTI5I0SR_pw3"
      }
    },
    {
      "cell_type": "code",
      "source": [
        "# Download data (same as from Kaggle)\n",
        "!wget \"https://storage.googleapis.com/ztm_tf_course/nlp_getting_started.zip\"\n",
        "\n",
        "# Unzip data\n",
        "unzip_data(\"nlp_getting_started.zip\")"
      ],
      "metadata": {
        "colab": {
          "base_uri": "https://localhost:8080/"
        },
        "id": "vusKBl9iAFXU",
        "outputId": "67aaba38-a1c3-4133-eb52-6b0802433c64"
      },
      "execution_count": null,
      "outputs": [
        {
          "output_type": "stream",
          "name": "stdout",
          "text": [
            "--2022-05-11 22:48:40--  https://storage.googleapis.com/ztm_tf_course/nlp_getting_started.zip\n",
            "Resolving storage.googleapis.com (storage.googleapis.com)... 173.194.217.128, 173.194.218.128, 74.125.31.128, ...\n",
            "Connecting to storage.googleapis.com (storage.googleapis.com)|173.194.217.128|:443... connected.\n",
            "HTTP request sent, awaiting response... 200 OK\n",
            "Length: 607343 (593K) [application/zip]\n",
            "Saving to: ‘nlp_getting_started.zip’\n",
            "\n",
            "nlp_getting_started 100%[===================>] 593.11K  --.-KB/s    in 0.006s  \n",
            "\n",
            "2022-05-11 22:48:40 (105 MB/s) - ‘nlp_getting_started.zip’ saved [607343/607343]\n",
            "\n"
          ]
        }
      ]
    },
    {
      "cell_type": "markdown",
      "source": [
        "## Visualizing a text data set\n",
        "\n",
        "To visualizr our text samples, we first have to read them in, one way to do so would be to use Python:\n",
        "\n",
        "https://realpython.com/read-write-files-python/\n",
        "\n",
        "Another way to do this is to use Pandas.. "
      ],
      "metadata": {
        "id": "e4QbWSP2Buz3"
      }
    },
    {
      "cell_type": "code",
      "source": [
        "import pandas as pd\n",
        "train_df = pd.read_csv('train.csv')\n",
        "test_df = pd.read_csv('test.csv')\n",
        "train_df.head()"
      ],
      "metadata": {
        "colab": {
          "base_uri": "https://localhost:8080/",
          "height": 206
        },
        "id": "KBnU8LrIBsy-",
        "outputId": "31a8c9e5-d2fb-4565-8869-fa0803f3b8d6"
      },
      "execution_count": null,
      "outputs": [
        {
          "output_type": "execute_result",
          "data": {
            "text/plain": [
              "   id keyword location                                               text  \\\n",
              "0   1     NaN      NaN  Our Deeds are the Reason of this #earthquake M...   \n",
              "1   4     NaN      NaN             Forest fire near La Ronge Sask. Canada   \n",
              "2   5     NaN      NaN  All residents asked to 'shelter in place' are ...   \n",
              "3   6     NaN      NaN  13,000 people receive #wildfires evacuation or...   \n",
              "4   7     NaN      NaN  Just got sent this photo from Ruby #Alaska as ...   \n",
              "\n",
              "   target  \n",
              "0       1  \n",
              "1       1  \n",
              "2       1  \n",
              "3       1  \n",
              "4       1  "
            ],
            "text/html": [
              "\n",
              "  <div id=\"df-4e1b71d7-ef3e-460b-95cd-32dc7bd8fde7\">\n",
              "    <div class=\"colab-df-container\">\n",
              "      <div>\n",
              "<style scoped>\n",
              "    .dataframe tbody tr th:only-of-type {\n",
              "        vertical-align: middle;\n",
              "    }\n",
              "\n",
              "    .dataframe tbody tr th {\n",
              "        vertical-align: top;\n",
              "    }\n",
              "\n",
              "    .dataframe thead th {\n",
              "        text-align: right;\n",
              "    }\n",
              "</style>\n",
              "<table border=\"1\" class=\"dataframe\">\n",
              "  <thead>\n",
              "    <tr style=\"text-align: right;\">\n",
              "      <th></th>\n",
              "      <th>id</th>\n",
              "      <th>keyword</th>\n",
              "      <th>location</th>\n",
              "      <th>text</th>\n",
              "      <th>target</th>\n",
              "    </tr>\n",
              "  </thead>\n",
              "  <tbody>\n",
              "    <tr>\n",
              "      <th>0</th>\n",
              "      <td>1</td>\n",
              "      <td>NaN</td>\n",
              "      <td>NaN</td>\n",
              "      <td>Our Deeds are the Reason of this #earthquake M...</td>\n",
              "      <td>1</td>\n",
              "    </tr>\n",
              "    <tr>\n",
              "      <th>1</th>\n",
              "      <td>4</td>\n",
              "      <td>NaN</td>\n",
              "      <td>NaN</td>\n",
              "      <td>Forest fire near La Ronge Sask. Canada</td>\n",
              "      <td>1</td>\n",
              "    </tr>\n",
              "    <tr>\n",
              "      <th>2</th>\n",
              "      <td>5</td>\n",
              "      <td>NaN</td>\n",
              "      <td>NaN</td>\n",
              "      <td>All residents asked to 'shelter in place' are ...</td>\n",
              "      <td>1</td>\n",
              "    </tr>\n",
              "    <tr>\n",
              "      <th>3</th>\n",
              "      <td>6</td>\n",
              "      <td>NaN</td>\n",
              "      <td>NaN</td>\n",
              "      <td>13,000 people receive #wildfires evacuation or...</td>\n",
              "      <td>1</td>\n",
              "    </tr>\n",
              "    <tr>\n",
              "      <th>4</th>\n",
              "      <td>7</td>\n",
              "      <td>NaN</td>\n",
              "      <td>NaN</td>\n",
              "      <td>Just got sent this photo from Ruby #Alaska as ...</td>\n",
              "      <td>1</td>\n",
              "    </tr>\n",
              "  </tbody>\n",
              "</table>\n",
              "</div>\n",
              "      <button class=\"colab-df-convert\" onclick=\"convertToInteractive('df-4e1b71d7-ef3e-460b-95cd-32dc7bd8fde7')\"\n",
              "              title=\"Convert this dataframe to an interactive table.\"\n",
              "              style=\"display:none;\">\n",
              "        \n",
              "  <svg xmlns=\"http://www.w3.org/2000/svg\" height=\"24px\"viewBox=\"0 0 24 24\"\n",
              "       width=\"24px\">\n",
              "    <path d=\"M0 0h24v24H0V0z\" fill=\"none\"/>\n",
              "    <path d=\"M18.56 5.44l.94 2.06.94-2.06 2.06-.94-2.06-.94-.94-2.06-.94 2.06-2.06.94zm-11 1L8.5 8.5l.94-2.06 2.06-.94-2.06-.94L8.5 2.5l-.94 2.06-2.06.94zm10 10l.94 2.06.94-2.06 2.06-.94-2.06-.94-.94-2.06-.94 2.06-2.06.94z\"/><path d=\"M17.41 7.96l-1.37-1.37c-.4-.4-.92-.59-1.43-.59-.52 0-1.04.2-1.43.59L10.3 9.45l-7.72 7.72c-.78.78-.78 2.05 0 2.83L4 21.41c.39.39.9.59 1.41.59.51 0 1.02-.2 1.41-.59l7.78-7.78 2.81-2.81c.8-.78.8-2.07 0-2.86zM5.41 20L4 18.59l7.72-7.72 1.47 1.35L5.41 20z\"/>\n",
              "  </svg>\n",
              "      </button>\n",
              "      \n",
              "  <style>\n",
              "    .colab-df-container {\n",
              "      display:flex;\n",
              "      flex-wrap:wrap;\n",
              "      gap: 12px;\n",
              "    }\n",
              "\n",
              "    .colab-df-convert {\n",
              "      background-color: #E8F0FE;\n",
              "      border: none;\n",
              "      border-radius: 50%;\n",
              "      cursor: pointer;\n",
              "      display: none;\n",
              "      fill: #1967D2;\n",
              "      height: 32px;\n",
              "      padding: 0 0 0 0;\n",
              "      width: 32px;\n",
              "    }\n",
              "\n",
              "    .colab-df-convert:hover {\n",
              "      background-color: #E2EBFA;\n",
              "      box-shadow: 0px 1px 2px rgba(60, 64, 67, 0.3), 0px 1px 3px 1px rgba(60, 64, 67, 0.15);\n",
              "      fill: #174EA6;\n",
              "    }\n",
              "\n",
              "    [theme=dark] .colab-df-convert {\n",
              "      background-color: #3B4455;\n",
              "      fill: #D2E3FC;\n",
              "    }\n",
              "\n",
              "    [theme=dark] .colab-df-convert:hover {\n",
              "      background-color: #434B5C;\n",
              "      box-shadow: 0px 1px 3px 1px rgba(0, 0, 0, 0.15);\n",
              "      filter: drop-shadow(0px 1px 2px rgba(0, 0, 0, 0.3));\n",
              "      fill: #FFFFFF;\n",
              "    }\n",
              "  </style>\n",
              "\n",
              "      <script>\n",
              "        const buttonEl =\n",
              "          document.querySelector('#df-4e1b71d7-ef3e-460b-95cd-32dc7bd8fde7 button.colab-df-convert');\n",
              "        buttonEl.style.display =\n",
              "          google.colab.kernel.accessAllowed ? 'block' : 'none';\n",
              "\n",
              "        async function convertToInteractive(key) {\n",
              "          const element = document.querySelector('#df-4e1b71d7-ef3e-460b-95cd-32dc7bd8fde7');\n",
              "          const dataTable =\n",
              "            await google.colab.kernel.invokeFunction('convertToInteractive',\n",
              "                                                     [key], {});\n",
              "          if (!dataTable) return;\n",
              "\n",
              "          const docLinkHtml = 'Like what you see? Visit the ' +\n",
              "            '<a target=\"_blank\" href=https://colab.research.google.com/notebooks/data_table.ipynb>data table notebook</a>'\n",
              "            + ' to learn more about interactive tables.';\n",
              "          element.innerHTML = '';\n",
              "          dataTable['output_type'] = 'display_data';\n",
              "          await google.colab.output.renderOutput(dataTable, element);\n",
              "          const docLink = document.createElement('div');\n",
              "          docLink.innerHTML = docLinkHtml;\n",
              "          element.appendChild(docLink);\n",
              "        }\n",
              "      </script>\n",
              "    </div>\n",
              "  </div>\n",
              "  "
            ]
          },
          "metadata": {},
          "execution_count": 5
        }
      ]
    },
    {
      "cell_type": "code",
      "source": [
        "train_df['text'][1]"
      ],
      "metadata": {
        "colab": {
          "base_uri": "https://localhost:8080/",
          "height": 35
        },
        "id": "uJJNsdI5DLQ2",
        "outputId": "62056a48-741a-4cc7-9aae-5861115fadaf"
      },
      "execution_count": null,
      "outputs": [
        {
          "output_type": "execute_result",
          "data": {
            "text/plain": [
              "'Forest fire near La Ronge Sask. Canada'"
            ],
            "application/vnd.google.colaboratory.intrinsic+json": {
              "type": "string"
            }
          },
          "metadata": {},
          "execution_count": 6
        }
      ]
    },
    {
      "cell_type": "code",
      "source": [
        "# Shuffle trainiing dataframe\n",
        "train_df_shuffled = train_df.sample(frac=1, random_state=42)\n",
        "train_df_shuffled.head()"
      ],
      "metadata": {
        "colab": {
          "base_uri": "https://localhost:8080/",
          "height": 206
        },
        "id": "6Bd_jwb7DbJE",
        "outputId": "5cd847b2-c803-4659-ce85-a91db363ab8d"
      },
      "execution_count": null,
      "outputs": [
        {
          "output_type": "execute_result",
          "data": {
            "text/plain": [
              "        id      keyword               location  \\\n",
              "2644  3796  destruction                    NaN   \n",
              "2227  3185       deluge                    NaN   \n",
              "5448  7769       police                     UK   \n",
              "132    191   aftershock                    NaN   \n",
              "6845  9810       trauma  Montgomery County, MD   \n",
              "\n",
              "                                                   text  target  \n",
              "2644  So you have a new weapon that can cause un-ima...       1  \n",
              "2227  The f$&amp;@ing things I do for #GISHWHES Just...       0  \n",
              "5448  DT @georgegalloway: RT @Galloway4Mayor: ÛÏThe...       1  \n",
              "132   Aftershock back to school kick off was great. ...       0  \n",
              "6845  in response to trauma Children of Addicts deve...       0  "
            ],
            "text/html": [
              "\n",
              "  <div id=\"df-81c5a7ff-8669-4eda-a123-e96d132e02db\">\n",
              "    <div class=\"colab-df-container\">\n",
              "      <div>\n",
              "<style scoped>\n",
              "    .dataframe tbody tr th:only-of-type {\n",
              "        vertical-align: middle;\n",
              "    }\n",
              "\n",
              "    .dataframe tbody tr th {\n",
              "        vertical-align: top;\n",
              "    }\n",
              "\n",
              "    .dataframe thead th {\n",
              "        text-align: right;\n",
              "    }\n",
              "</style>\n",
              "<table border=\"1\" class=\"dataframe\">\n",
              "  <thead>\n",
              "    <tr style=\"text-align: right;\">\n",
              "      <th></th>\n",
              "      <th>id</th>\n",
              "      <th>keyword</th>\n",
              "      <th>location</th>\n",
              "      <th>text</th>\n",
              "      <th>target</th>\n",
              "    </tr>\n",
              "  </thead>\n",
              "  <tbody>\n",
              "    <tr>\n",
              "      <th>2644</th>\n",
              "      <td>3796</td>\n",
              "      <td>destruction</td>\n",
              "      <td>NaN</td>\n",
              "      <td>So you have a new weapon that can cause un-ima...</td>\n",
              "      <td>1</td>\n",
              "    </tr>\n",
              "    <tr>\n",
              "      <th>2227</th>\n",
              "      <td>3185</td>\n",
              "      <td>deluge</td>\n",
              "      <td>NaN</td>\n",
              "      <td>The f$&amp;amp;@ing things I do for #GISHWHES Just...</td>\n",
              "      <td>0</td>\n",
              "    </tr>\n",
              "    <tr>\n",
              "      <th>5448</th>\n",
              "      <td>7769</td>\n",
              "      <td>police</td>\n",
              "      <td>UK</td>\n",
              "      <td>DT @georgegalloway: RT @Galloway4Mayor: ÛÏThe...</td>\n",
              "      <td>1</td>\n",
              "    </tr>\n",
              "    <tr>\n",
              "      <th>132</th>\n",
              "      <td>191</td>\n",
              "      <td>aftershock</td>\n",
              "      <td>NaN</td>\n",
              "      <td>Aftershock back to school kick off was great. ...</td>\n",
              "      <td>0</td>\n",
              "    </tr>\n",
              "    <tr>\n",
              "      <th>6845</th>\n",
              "      <td>9810</td>\n",
              "      <td>trauma</td>\n",
              "      <td>Montgomery County, MD</td>\n",
              "      <td>in response to trauma Children of Addicts deve...</td>\n",
              "      <td>0</td>\n",
              "    </tr>\n",
              "  </tbody>\n",
              "</table>\n",
              "</div>\n",
              "      <button class=\"colab-df-convert\" onclick=\"convertToInteractive('df-81c5a7ff-8669-4eda-a123-e96d132e02db')\"\n",
              "              title=\"Convert this dataframe to an interactive table.\"\n",
              "              style=\"display:none;\">\n",
              "        \n",
              "  <svg xmlns=\"http://www.w3.org/2000/svg\" height=\"24px\"viewBox=\"0 0 24 24\"\n",
              "       width=\"24px\">\n",
              "    <path d=\"M0 0h24v24H0V0z\" fill=\"none\"/>\n",
              "    <path d=\"M18.56 5.44l.94 2.06.94-2.06 2.06-.94-2.06-.94-.94-2.06-.94 2.06-2.06.94zm-11 1L8.5 8.5l.94-2.06 2.06-.94-2.06-.94L8.5 2.5l-.94 2.06-2.06.94zm10 10l.94 2.06.94-2.06 2.06-.94-2.06-.94-.94-2.06-.94 2.06-2.06.94z\"/><path d=\"M17.41 7.96l-1.37-1.37c-.4-.4-.92-.59-1.43-.59-.52 0-1.04.2-1.43.59L10.3 9.45l-7.72 7.72c-.78.78-.78 2.05 0 2.83L4 21.41c.39.39.9.59 1.41.59.51 0 1.02-.2 1.41-.59l7.78-7.78 2.81-2.81c.8-.78.8-2.07 0-2.86zM5.41 20L4 18.59l7.72-7.72 1.47 1.35L5.41 20z\"/>\n",
              "  </svg>\n",
              "      </button>\n",
              "      \n",
              "  <style>\n",
              "    .colab-df-container {\n",
              "      display:flex;\n",
              "      flex-wrap:wrap;\n",
              "      gap: 12px;\n",
              "    }\n",
              "\n",
              "    .colab-df-convert {\n",
              "      background-color: #E8F0FE;\n",
              "      border: none;\n",
              "      border-radius: 50%;\n",
              "      cursor: pointer;\n",
              "      display: none;\n",
              "      fill: #1967D2;\n",
              "      height: 32px;\n",
              "      padding: 0 0 0 0;\n",
              "      width: 32px;\n",
              "    }\n",
              "\n",
              "    .colab-df-convert:hover {\n",
              "      background-color: #E2EBFA;\n",
              "      box-shadow: 0px 1px 2px rgba(60, 64, 67, 0.3), 0px 1px 3px 1px rgba(60, 64, 67, 0.15);\n",
              "      fill: #174EA6;\n",
              "    }\n",
              "\n",
              "    [theme=dark] .colab-df-convert {\n",
              "      background-color: #3B4455;\n",
              "      fill: #D2E3FC;\n",
              "    }\n",
              "\n",
              "    [theme=dark] .colab-df-convert:hover {\n",
              "      background-color: #434B5C;\n",
              "      box-shadow: 0px 1px 3px 1px rgba(0, 0, 0, 0.15);\n",
              "      filter: drop-shadow(0px 1px 2px rgba(0, 0, 0, 0.3));\n",
              "      fill: #FFFFFF;\n",
              "    }\n",
              "  </style>\n",
              "\n",
              "      <script>\n",
              "        const buttonEl =\n",
              "          document.querySelector('#df-81c5a7ff-8669-4eda-a123-e96d132e02db button.colab-df-convert');\n",
              "        buttonEl.style.display =\n",
              "          google.colab.kernel.accessAllowed ? 'block' : 'none';\n",
              "\n",
              "        async function convertToInteractive(key) {\n",
              "          const element = document.querySelector('#df-81c5a7ff-8669-4eda-a123-e96d132e02db');\n",
              "          const dataTable =\n",
              "            await google.colab.kernel.invokeFunction('convertToInteractive',\n",
              "                                                     [key], {});\n",
              "          if (!dataTable) return;\n",
              "\n",
              "          const docLinkHtml = 'Like what you see? Visit the ' +\n",
              "            '<a target=\"_blank\" href=https://colab.research.google.com/notebooks/data_table.ipynb>data table notebook</a>'\n",
              "            + ' to learn more about interactive tables.';\n",
              "          element.innerHTML = '';\n",
              "          dataTable['output_type'] = 'display_data';\n",
              "          await google.colab.output.renderOutput(dataTable, element);\n",
              "          const docLink = document.createElement('div');\n",
              "          docLink.innerHTML = docLinkHtml;\n",
              "          element.appendChild(docLink);\n",
              "        }\n",
              "      </script>\n",
              "    </div>\n",
              "  </div>\n",
              "  "
            ]
          },
          "metadata": {},
          "execution_count": 7
        }
      ]
    },
    {
      "cell_type": "code",
      "source": [
        "# What does the test dataframe looks like?\n",
        "test_df.head()"
      ],
      "metadata": {
        "colab": {
          "base_uri": "https://localhost:8080/",
          "height": 206
        },
        "id": "I8-6Gex2D2HQ",
        "outputId": "d9b9e51e-5ffd-490e-dce8-c94c8a1492e0"
      },
      "execution_count": null,
      "outputs": [
        {
          "output_type": "execute_result",
          "data": {
            "text/plain": [
              "   id keyword location                                               text\n",
              "0   0     NaN      NaN                 Just happened a terrible car crash\n",
              "1   2     NaN      NaN  Heard about #earthquake is different cities, s...\n",
              "2   3     NaN      NaN  there is a forest fire at spot pond, geese are...\n",
              "3   9     NaN      NaN           Apocalypse lighting. #Spokane #wildfires\n",
              "4  11     NaN      NaN      Typhoon Soudelor kills 28 in China and Taiwan"
            ],
            "text/html": [
              "\n",
              "  <div id=\"df-e32f8e25-2335-4a9f-bd7f-98ada5f390f6\">\n",
              "    <div class=\"colab-df-container\">\n",
              "      <div>\n",
              "<style scoped>\n",
              "    .dataframe tbody tr th:only-of-type {\n",
              "        vertical-align: middle;\n",
              "    }\n",
              "\n",
              "    .dataframe tbody tr th {\n",
              "        vertical-align: top;\n",
              "    }\n",
              "\n",
              "    .dataframe thead th {\n",
              "        text-align: right;\n",
              "    }\n",
              "</style>\n",
              "<table border=\"1\" class=\"dataframe\">\n",
              "  <thead>\n",
              "    <tr style=\"text-align: right;\">\n",
              "      <th></th>\n",
              "      <th>id</th>\n",
              "      <th>keyword</th>\n",
              "      <th>location</th>\n",
              "      <th>text</th>\n",
              "    </tr>\n",
              "  </thead>\n",
              "  <tbody>\n",
              "    <tr>\n",
              "      <th>0</th>\n",
              "      <td>0</td>\n",
              "      <td>NaN</td>\n",
              "      <td>NaN</td>\n",
              "      <td>Just happened a terrible car crash</td>\n",
              "    </tr>\n",
              "    <tr>\n",
              "      <th>1</th>\n",
              "      <td>2</td>\n",
              "      <td>NaN</td>\n",
              "      <td>NaN</td>\n",
              "      <td>Heard about #earthquake is different cities, s...</td>\n",
              "    </tr>\n",
              "    <tr>\n",
              "      <th>2</th>\n",
              "      <td>3</td>\n",
              "      <td>NaN</td>\n",
              "      <td>NaN</td>\n",
              "      <td>there is a forest fire at spot pond, geese are...</td>\n",
              "    </tr>\n",
              "    <tr>\n",
              "      <th>3</th>\n",
              "      <td>9</td>\n",
              "      <td>NaN</td>\n",
              "      <td>NaN</td>\n",
              "      <td>Apocalypse lighting. #Spokane #wildfires</td>\n",
              "    </tr>\n",
              "    <tr>\n",
              "      <th>4</th>\n",
              "      <td>11</td>\n",
              "      <td>NaN</td>\n",
              "      <td>NaN</td>\n",
              "      <td>Typhoon Soudelor kills 28 in China and Taiwan</td>\n",
              "    </tr>\n",
              "  </tbody>\n",
              "</table>\n",
              "</div>\n",
              "      <button class=\"colab-df-convert\" onclick=\"convertToInteractive('df-e32f8e25-2335-4a9f-bd7f-98ada5f390f6')\"\n",
              "              title=\"Convert this dataframe to an interactive table.\"\n",
              "              style=\"display:none;\">\n",
              "        \n",
              "  <svg xmlns=\"http://www.w3.org/2000/svg\" height=\"24px\"viewBox=\"0 0 24 24\"\n",
              "       width=\"24px\">\n",
              "    <path d=\"M0 0h24v24H0V0z\" fill=\"none\"/>\n",
              "    <path d=\"M18.56 5.44l.94 2.06.94-2.06 2.06-.94-2.06-.94-.94-2.06-.94 2.06-2.06.94zm-11 1L8.5 8.5l.94-2.06 2.06-.94-2.06-.94L8.5 2.5l-.94 2.06-2.06.94zm10 10l.94 2.06.94-2.06 2.06-.94-2.06-.94-.94-2.06-.94 2.06-2.06.94z\"/><path d=\"M17.41 7.96l-1.37-1.37c-.4-.4-.92-.59-1.43-.59-.52 0-1.04.2-1.43.59L10.3 9.45l-7.72 7.72c-.78.78-.78 2.05 0 2.83L4 21.41c.39.39.9.59 1.41.59.51 0 1.02-.2 1.41-.59l7.78-7.78 2.81-2.81c.8-.78.8-2.07 0-2.86zM5.41 20L4 18.59l7.72-7.72 1.47 1.35L5.41 20z\"/>\n",
              "  </svg>\n",
              "      </button>\n",
              "      \n",
              "  <style>\n",
              "    .colab-df-container {\n",
              "      display:flex;\n",
              "      flex-wrap:wrap;\n",
              "      gap: 12px;\n",
              "    }\n",
              "\n",
              "    .colab-df-convert {\n",
              "      background-color: #E8F0FE;\n",
              "      border: none;\n",
              "      border-radius: 50%;\n",
              "      cursor: pointer;\n",
              "      display: none;\n",
              "      fill: #1967D2;\n",
              "      height: 32px;\n",
              "      padding: 0 0 0 0;\n",
              "      width: 32px;\n",
              "    }\n",
              "\n",
              "    .colab-df-convert:hover {\n",
              "      background-color: #E2EBFA;\n",
              "      box-shadow: 0px 1px 2px rgba(60, 64, 67, 0.3), 0px 1px 3px 1px rgba(60, 64, 67, 0.15);\n",
              "      fill: #174EA6;\n",
              "    }\n",
              "\n",
              "    [theme=dark] .colab-df-convert {\n",
              "      background-color: #3B4455;\n",
              "      fill: #D2E3FC;\n",
              "    }\n",
              "\n",
              "    [theme=dark] .colab-df-convert:hover {\n",
              "      background-color: #434B5C;\n",
              "      box-shadow: 0px 1px 3px 1px rgba(0, 0, 0, 0.15);\n",
              "      filter: drop-shadow(0px 1px 2px rgba(0, 0, 0, 0.3));\n",
              "      fill: #FFFFFF;\n",
              "    }\n",
              "  </style>\n",
              "\n",
              "      <script>\n",
              "        const buttonEl =\n",
              "          document.querySelector('#df-e32f8e25-2335-4a9f-bd7f-98ada5f390f6 button.colab-df-convert');\n",
              "        buttonEl.style.display =\n",
              "          google.colab.kernel.accessAllowed ? 'block' : 'none';\n",
              "\n",
              "        async function convertToInteractive(key) {\n",
              "          const element = document.querySelector('#df-e32f8e25-2335-4a9f-bd7f-98ada5f390f6');\n",
              "          const dataTable =\n",
              "            await google.colab.kernel.invokeFunction('convertToInteractive',\n",
              "                                                     [key], {});\n",
              "          if (!dataTable) return;\n",
              "\n",
              "          const docLinkHtml = 'Like what you see? Visit the ' +\n",
              "            '<a target=\"_blank\" href=https://colab.research.google.com/notebooks/data_table.ipynb>data table notebook</a>'\n",
              "            + ' to learn more about interactive tables.';\n",
              "          element.innerHTML = '';\n",
              "          dataTable['output_type'] = 'display_data';\n",
              "          await google.colab.output.renderOutput(dataTable, element);\n",
              "          const docLink = document.createElement('div');\n",
              "          docLink.innerHTML = docLinkHtml;\n",
              "          element.appendChild(docLink);\n",
              "        }\n",
              "      </script>\n",
              "    </div>\n",
              "  </div>\n",
              "  "
            ]
          },
          "metadata": {},
          "execution_count": 8
        }
      ]
    },
    {
      "cell_type": "code",
      "source": [
        "# How many examples of each class?\n",
        "train_df.target.value_counts()"
      ],
      "metadata": {
        "colab": {
          "base_uri": "https://localhost:8080/"
        },
        "id": "ZEVHEDhhEGF8",
        "outputId": "5060a471-9105-4810-82a0-1790ccfbb43c"
      },
      "execution_count": null,
      "outputs": [
        {
          "output_type": "execute_result",
          "data": {
            "text/plain": [
              "0    4342\n",
              "1    3271\n",
              "Name: target, dtype: int64"
            ]
          },
          "metadata": {},
          "execution_count": 9
        }
      ]
    },
    {
      "cell_type": "code",
      "source": [
        "# How many total samples?\n",
        "len(train_df), len(test_df)"
      ],
      "metadata": {
        "colab": {
          "base_uri": "https://localhost:8080/"
        },
        "id": "IU9dGzOIEpo9",
        "outputId": "fa8871c1-ae6f-44ae-dbe9-731c288665c4"
      },
      "execution_count": null,
      "outputs": [
        {
          "output_type": "execute_result",
          "data": {
            "text/plain": [
              "(7613, 3263)"
            ]
          },
          "metadata": {},
          "execution_count": 10
        }
      ]
    },
    {
      "cell_type": "code",
      "source": [
        "# Let's visualize some random training examples\n",
        "import random\n",
        "random_index = random.randint(0, len(train_df)-5) # create random indexes not higher than the total number of samples\n",
        "for row in train_df_shuffled[['text','target']][random_index:random_index+5].itertuples():\n",
        "  _, text, target = row\n",
        "  print(f'Target: {target}', 'real disaster' if target > 0 else '(not real disaster)')\n",
        "  print(f'Text:\\n{text}\\n')\n",
        "  print('---\\n')"
      ],
      "metadata": {
        "colab": {
          "base_uri": "https://localhost:8080/"
        },
        "id": "6Exqs6amE2Fs",
        "outputId": "70cce5fd-2ea0-4075-b317-48cc0b1f780d"
      },
      "execution_count": null,
      "outputs": [
        {
          "output_type": "stream",
          "name": "stdout",
          "text": [
            "Target: 0 (not real disaster)\n",
            "Text:\n",
            "I really wanna brownie batter blizzard ??\n",
            "\n",
            "---\n",
            "\n",
            "Target: 1 real disaster\n",
            "Text:\n",
            "Detonation fashionable mountaineering electronic watch water-resistant couples leisure tabÛ_ http://t.co/7dYOgLhMRe http://t.co/HKm3rtD4ZF\n",
            "\n",
            "---\n",
            "\n",
            "Target: 1 real disaster\n",
            "Text:\n",
            "Two cranes restoring a bridge in the central Dutch town of Alphen aan den Rijn collapse on to buildings with rescuers searching for\n",
            "\n",
            "---\n",
            "\n",
            "Target: 0 (not real disaster)\n",
            "Text:\n",
            "Leading emergency services boss welcomes new ambulance charity http://t.co/Mj2jQ2pSv6\n",
            "\n",
            "---\n",
            "\n",
            "Target: 0 (not real disaster)\n",
            "Text:\n",
            "We should all have a fire safety plan. RT @Matt_Kroschel: MOCK WILDFIRE near #Vail as agencies prepare for the worst. http://t.co/SWwyLRk0fv\n",
            "\n",
            "---\n",
            "\n"
          ]
        }
      ]
    },
    {
      "cell_type": "markdown",
      "source": [
        "### Split data into training and validation sets "
      ],
      "metadata": {
        "id": "VQX8eh1F4Myk"
      }
    },
    {
      "cell_type": "code",
      "source": [
        "from sklearn.model_selection import train_test_split"
      ],
      "metadata": {
        "id": "kofZsZIx4LDR"
      },
      "execution_count": null,
      "outputs": []
    },
    {
      "cell_type": "code",
      "source": [
        "# Use train_test_split ti split data into trainig and validation sets\n",
        "train_sentences, val_sentences, train_labels, val_labels = train_test_split(train_df_shuffled['text'].to_numpy(),\n",
        "                                                                             train_df_shuffled['target'].to_numpy(),\n",
        "                                                                             test_size = 0.1, #use 10% of training data for validation split\n",
        "                                                                             random_state = 42)"
      ],
      "metadata": {
        "id": "LCE8VVix4flf"
      },
      "execution_count": null,
      "outputs": []
    },
    {
      "cell_type": "code",
      "source": [
        "# Check the lenghts\n",
        "len(train_sentences), len(train_labels), len(val_sentences), len(val_labels)"
      ],
      "metadata": {
        "colab": {
          "base_uri": "https://localhost:8080/"
        },
        "id": "fXxEMy7J505F",
        "outputId": "e9695e48-b826-44cd-e987-9cc37349e340"
      },
      "execution_count": null,
      "outputs": [
        {
          "output_type": "execute_result",
          "data": {
            "text/plain": [
              "(6851, 6851, 762, 762)"
            ]
          },
          "metadata": {},
          "execution_count": 14
        }
      ]
    },
    {
      "cell_type": "code",
      "source": [
        "# Check the first 10 samples\n",
        "train_sentences[:10], train_labels[:10]"
      ],
      "metadata": {
        "colab": {
          "base_uri": "https://localhost:8080/"
        },
        "id": "tQc5oJsd6KEh",
        "outputId": "93dbaf2f-f09d-475d-ece1-13b9eb14e387"
      },
      "execution_count": null,
      "outputs": [
        {
          "output_type": "execute_result",
          "data": {
            "text/plain": [
              "(array(['@mogacola @zamtriossu i screamed after hitting tweet',\n",
              "        'Imagine getting flattened by Kurt Zouma',\n",
              "        '@Gurmeetramrahim #MSGDoing111WelfareWorks Green S welfare force ke appx 65000 members har time disaster victim ki help ke liye tyar hai....',\n",
              "        \"@shakjn @C7 @Magnums im shaking in fear he's gonna hack the planet\",\n",
              "        'Somehow find you and I collide http://t.co/Ee8RpOahPk',\n",
              "        '@EvaHanderek @MarleyKnysh great times until the bus driver held us hostage in the mall parking lot lmfao',\n",
              "        'destroy the free fandom honestly',\n",
              "        'Weapons stolen from National Guard Armory in New Albany still missing #Gunsense http://t.co/lKNU8902JE',\n",
              "        '@wfaaweather Pete when will the heat wave pass? Is it really going to be mid month? Frisco Boy Scouts have a canoe trip in Okla.',\n",
              "        'Patient-reported outcomes in long-term survivors of metastatic colorectal cancer - British Journal of Surgery http://t.co/5Yl4DC1Tqt'],\n",
              "       dtype=object), array([0, 0, 1, 0, 0, 1, 1, 0, 1, 1]))"
            ]
          },
          "metadata": {},
          "execution_count": 15
        }
      ]
    },
    {
      "cell_type": "markdown",
      "source": [
        "## Converting text into numbers\n",
        "\n",
        "When dealing with a text problem, one of the first things you'll have to do  before you can build a model is to convert text to noumbers.\n",
        "\n",
        "There are few ways to do this, namely:\n",
        "* tokenization - direct mapping of token (token could be a word or a character) to number.\n",
        "* Embedding - create a matrix of feature vector for each token (the size of the vector can be defined and thsiembedding can be learned)."
      ],
      "metadata": {
        "id": "lS0u1kIg62xL"
      }
    },
    {
      "cell_type": "markdown",
      "source": [
        "### Text vectorization (tokenization)"
      ],
      "metadata": {
        "id": "NZ8o2zlZ9br8"
      }
    },
    {
      "cell_type": "code",
      "source": [
        "import tensorflow as tf\n",
        "from tensorflow.keras.layers.experimental.preprocessing import TextVectorization\n",
        "\n",
        "# Use the default TextVectorization parameters\n",
        "text_vectorizer = TextVectorization(max_tokens = None, #how many words in the vocabulary (automatically add <00V>)\n",
        "                                    standardize = 'lower_and_strip_punctuation',\n",
        "                                    split = 'whitespace',\n",
        "                                    ngrams = None, # create groups of n-words\n",
        "                                    output_mode = 'int', # how to map tokens to numbers\n",
        "                                    output_sequence_length = None, #how long do you want your sequences to be\n",
        "                                    #pad_to_max_tokens = True # Not valid if using max_tokens=None\n",
        "                                    )"
      ],
      "metadata": {
        "id": "soSCKg2R6nNU"
      },
      "execution_count": null,
      "outputs": []
    },
    {
      "cell_type": "code",
      "source": [
        "# Find the average number of tokens (words) int the trainig tweets\n",
        "round(sum([len(i.split()) for i in train_sentences])/len(train_sentences))"
      ],
      "metadata": {
        "colab": {
          "base_uri": "https://localhost:8080/"
        },
        "id": "QtJqzlm_Br-M",
        "outputId": "ab881786-2d78-40ed-97b5-d8b4983c489a"
      },
      "execution_count": null,
      "outputs": [
        {
          "output_type": "execute_result",
          "data": {
            "text/plain": [
              "15"
            ]
          },
          "metadata": {},
          "execution_count": 17
        }
      ]
    },
    {
      "cell_type": "code",
      "source": [
        "# setup text vectorization variables\n",
        "max_vocab_length = 10000 # max number of words to have in opur vocabulary\n",
        "max_length = 15 # max length our sequences will be (e.g how many words from a tweet does a models see)\n",
        "\n",
        "text_vectorizer = TextVectorization(max_tokens = max_vocab_length,\n",
        "                                    output_mode = 'int',\n",
        "                                    output_sequence_length = max_length)"
      ],
      "metadata": {
        "id": "alsqxxJ7Ciab"
      },
      "execution_count": null,
      "outputs": []
    },
    {
      "cell_type": "code",
      "source": [
        "# Fit the text vectorizer to the training text\n",
        "text_vectorizer.adapt(train_sentences)"
      ],
      "metadata": {
        "id": "oik1aa6LDxmL"
      },
      "execution_count": null,
      "outputs": []
    },
    {
      "cell_type": "code",
      "source": [
        "# Create a sample sentece and tokenize it\n",
        "sample_sentence = \"There's a flood in my street!\"\n",
        "text_vectorizer(sample_sentence) "
      ],
      "metadata": {
        "colab": {
          "base_uri": "https://localhost:8080/"
        },
        "id": "A7ORY196EgU6",
        "outputId": "ddb50897-4669-45a9-c535-7a2ddb97ba4f"
      },
      "execution_count": null,
      "outputs": [
        {
          "output_type": "execute_result",
          "data": {
            "text/plain": [
              "<tf.Tensor: shape=(15,), dtype=int64, numpy=\n",
              "array([264,   3, 232,   4,  13, 698,   0,   0,   0,   0,   0,   0,   0,\n",
              "         0,   0])>"
            ]
          },
          "metadata": {},
          "execution_count": 20
        }
      ]
    },
    {
      "cell_type": "code",
      "source": [
        "# Choose a random sentece from the training dataset and tokenize it\n",
        "random_sentence = random.choice(train_sentences)\n",
        "print(f'Original text:\\n {random_sentence}\\\n",
        "      \\n\\nVectorized version:')\n",
        "text_vectorizer([random_sentence])"
      ],
      "metadata": {
        "colab": {
          "base_uri": "https://localhost:8080/"
        },
        "id": "Fg5OtUWWFIkh",
        "outputId": "6575b45c-0b7d-4efe-e110-9b0c34359896"
      },
      "execution_count": null,
      "outputs": [
        {
          "output_type": "stream",
          "name": "stdout",
          "text": [
            "Original text:\n",
            " Hw18 going 90-100. Dude was keeping up with me. Took the same exit. Pulled to the side and told me he blew his motor. Lolol #2fast2furious      \n",
            "\n",
            "Vectorized version:\n"
          ]
        },
        {
          "output_type": "execute_result",
          "data": {
            "text/plain": [
              "<tf.Tensor: shape=(1, 15), dtype=int64, numpy=\n",
              "array([[   1,  104,    1, 1087,   23,    1,   27,   14,   31, 1166,    2,\n",
              "         726, 1681, 2770,    5]])>"
            ]
          },
          "metadata": {},
          "execution_count": 21
        }
      ]
    },
    {
      "cell_type": "code",
      "source": [
        "# Get the unique words in the vocabulary\n",
        "\n",
        "words_in_vocab = text_vectorizer.get_vocabulary() # get all the unique words in our trainig data\n",
        "top_5_words = words_in_vocab[:5] # get most common words\n",
        "botton_5_words = words_in_vocab[-5:] # get most uncommon words\n",
        "print(f'Number of words in vocab: {len(words_in_vocab)}')\n",
        "print(f'5 most common words: {top_5_words}')\n",
        "print(f'5 least common words: {botton_5_words}')"
      ],
      "metadata": {
        "colab": {
          "base_uri": "https://localhost:8080/"
        },
        "id": "UBcpKxFaG3dh",
        "outputId": "6f3416e1-e4db-449e-f9fb-c04d885cbb5d"
      },
      "execution_count": null,
      "outputs": [
        {
          "output_type": "stream",
          "name": "stdout",
          "text": [
            "Number of words in vocab: 10000\n",
            "5 most common words: ['', '[UNK]', 'the', 'a', 'in']\n",
            "5 least common words: ['pages', 'paeds', 'pads', 'padres', 'paddytomlinson1']\n"
          ]
        }
      ]
    },
    {
      "cell_type": "markdown",
      "source": [
        "### Creating an Embedding using an Embedding Layer\n",
        "\n",
        "To make out embedding, we're going to use Tensorflow's embedding layer: https://www.tensorflow.org/api_docs/python/tf/keras/layers/Embedding\n",
        "\n",
        "The parameters we care most about for our embedding layer:\n",
        "* `input_dim` = the size of our vocabulary\n",
        "* `output_dim` = the size of the ouput embedding vector, for example, a value of 100 would mena each token gets represented by a vector 100 long\n",
        "* `input_length` = length of the sequences being passed to the embedding layer"
      ],
      "metadata": {
        "id": "K4lfWo6UJBbW"
      }
    },
    {
      "cell_type": "code",
      "source": [
        "from tensorflow.keras import layers\n",
        "\n",
        "embedding = layers.Embedding(input_dim = max_vocab_length, # set input shape\n",
        "                              output_dim = 128,\n",
        "                              input_length = max_length # how long is each input\n",
        "                              )\n",
        "embedding"
      ],
      "metadata": {
        "colab": {
          "base_uri": "https://localhost:8080/"
        },
        "id": "zImPTF6sG4dF",
        "outputId": "601c4015-f13a-4464-f0cf-a3a6b89ad250"
      },
      "execution_count": null,
      "outputs": [
        {
          "output_type": "execute_result",
          "data": {
            "text/plain": [
              "<keras.layers.embeddings.Embedding at 0x7fa27c0716d0>"
            ]
          },
          "metadata": {},
          "execution_count": 23
        }
      ]
    },
    {
      "cell_type": "code",
      "source": [
        "# Get a random sentece from the training set\n",
        "random_sentence = random.choice(train_sentences)\n",
        "print(f'Original text:\\n {random_sentence}\\\n",
        "      \\n\\nEmbedded version:')\n",
        "\n",
        "# Embed the random sentence (turn it into dense vectors of fixed size)\n",
        "sample_embed = embedding(text_vectorizer([random_sentence]))\n",
        "sample_embed"
      ],
      "metadata": {
        "colab": {
          "base_uri": "https://localhost:8080/"
        },
        "id": "kTV-SKMANUCO",
        "outputId": "45d80f33-8d4c-4bba-aa13-4ab60b05b4b3"
      },
      "execution_count": null,
      "outputs": [
        {
          "output_type": "stream",
          "name": "stdout",
          "text": [
            "Original text:\n",
            " Richmond police officer wounded suspect killed http://t.co/m9d2ElImZI      \n",
            "\n",
            "Embedded version:\n"
          ]
        },
        {
          "output_type": "execute_result",
          "data": {
            "text/plain": [
              "<tf.Tensor: shape=(1, 15, 128), dtype=float32, numpy=\n",
              "array([[[-0.00952792,  0.02730573,  0.02228179, ...,  0.03081029,\n",
              "         -0.04663166,  0.01897192],\n",
              "        [-0.00622183, -0.04398892,  0.0481433 , ..., -0.0273626 ,\n",
              "         -0.01176715,  0.00677754],\n",
              "        [-0.03183271, -0.03655442, -0.02075601, ...,  0.0036617 ,\n",
              "          0.02238217,  0.03451976],\n",
              "        ...,\n",
              "        [-0.0280627 ,  0.01524446, -0.03231024, ..., -0.01753761,\n",
              "         -0.04782645, -0.0070853 ],\n",
              "        [-0.0280627 ,  0.01524446, -0.03231024, ..., -0.01753761,\n",
              "         -0.04782645, -0.0070853 ],\n",
              "        [-0.0280627 ,  0.01524446, -0.03231024, ..., -0.01753761,\n",
              "         -0.04782645, -0.0070853 ]]], dtype=float32)>"
            ]
          },
          "metadata": {},
          "execution_count": 24
        }
      ]
    },
    {
      "cell_type": "code",
      "source": [
        "# Check out a single tokens embedding\n",
        "sample_embed[0][0], sample_embed[0][0].shape, random_sentence"
      ],
      "metadata": {
        "colab": {
          "base_uri": "https://localhost:8080/"
        },
        "id": "FeAVYIlyOqtJ",
        "outputId": "f43cfa4e-c5a3-4954-b87d-26bcc4454607"
      },
      "execution_count": null,
      "outputs": [
        {
          "output_type": "execute_result",
          "data": {
            "text/plain": [
              "(<tf.Tensor: shape=(128,), dtype=float32, numpy=\n",
              " array([-0.00952792,  0.02730573,  0.02228179,  0.04654136,  0.02019134,\n",
              "        -0.00191079, -0.03286699,  0.04521174, -0.02051443,  0.04212448,\n",
              "         0.02372527,  0.00672323,  0.03967891, -0.01661044, -0.01762797,\n",
              "        -0.02863181,  0.00188164,  0.02557779,  0.03725428,  0.00383959,\n",
              "        -0.0088981 , -0.01086264,  0.02674467,  0.0088063 ,  0.02752903,\n",
              "        -0.04155142, -0.01983093,  0.01763627, -0.01684878,  0.0200084 ,\n",
              "         0.03169215,  0.02978088, -0.01011133,  0.01133312, -0.04492791,\n",
              "        -0.00160254, -0.00777642, -0.03592446,  0.02930428,  0.04664477,\n",
              "        -0.0093835 , -0.00962799, -0.00837325, -0.00696788, -0.0026765 ,\n",
              "         0.02127004,  0.03386537, -0.01206817, -0.01256373,  0.04300395,\n",
              "        -0.00765512,  0.03774932, -0.03363996, -0.0258448 ,  0.01001123,\n",
              "         0.04345367, -0.04398878, -0.02222974,  0.04675378,  0.02475747,\n",
              "         0.03316014,  0.04638663, -0.04438555,  0.04434223, -0.04914193,\n",
              "        -0.03805109,  0.02010586,  0.04518931,  0.00561614,  0.04826898,\n",
              "        -0.04952307,  0.00222229,  0.0145283 ,  0.01431337,  0.03852607,\n",
              "         0.02457299,  0.04589791,  0.00619966,  0.01444313, -0.00304108,\n",
              "        -0.00864868, -0.00028156,  0.04026184, -0.03157327, -0.00749799,\n",
              "         0.04255602,  0.04314585,  0.01673542, -0.04114358, -0.01047873,\n",
              "        -0.03780385,  0.03077445,  0.03472629, -0.0376303 , -0.00756852,\n",
              "         0.02205199,  0.04807622,  0.02225902,  0.04463073, -0.02116804,\n",
              "         0.03024746,  0.019786  ,  0.00138911, -0.00753447,  0.02318791,\n",
              "         0.02541342, -0.02837805,  0.04454017,  0.01817694, -0.00317721,\n",
              "        -0.01915144,  0.00167487, -0.01759523,  0.00674675,  0.01720399,\n",
              "        -0.01744699,  0.04282491,  0.04215056, -0.02755973,  0.00905619,\n",
              "        -0.00528365,  0.01873794,  0.02964668, -0.03647215, -0.03208268,\n",
              "         0.03081029, -0.04663166,  0.01897192], dtype=float32)>,\n",
              " TensorShape([128]),\n",
              " 'Richmond police officer wounded suspect killed http://t.co/m9d2ElImZI')"
            ]
          },
          "metadata": {},
          "execution_count": 25
        }
      ]
    },
    {
      "cell_type": "markdown",
      "source": [
        "## Modelling a text dataset (running a series of experiments)\n",
        "\n",
        "Now we've a got way to turn text sequences into numbers, it's time to star building a series of modelling experiments.\n",
        "\n",
        "We'll star with a baseline and move on from there.\n",
        "\n",
        "* Model 0: Naive Bayes (baseline), this is from Sklearn ML map: https://scikit-learn.org/stable/tutorial/machine_learning_map/index.html\n",
        "* Model 1: Feed-forward neural network (dense model)\n",
        "* Model 2: LSTM model (RNN)\n",
        "* Model 3: GRU model (RNN)\n",
        "* Model 4: Bidirectional-LSTM model (RNN)\n",
        "* Model 5: 1D Convolutional Neural Network (CNN)\n",
        "* Model 6: TensorFlow Hub Pretrained Feature Extractor (using transfer learning for NLP)\n",
        "* Model 7: Same as model 6 with 10% of training data\n",
        "\n",
        "How are going to approach all of these?\n",
        "\n",
        "Use the standard steps in modelling with tensorflow:\n",
        "\n",
        "* Create a model\n",
        "* Build a model\n",
        "* Fit a model\n",
        "* Evaluate our model\n"
      ],
      "metadata": {
        "id": "iNPnnCLBPfB4"
      }
    },
    {
      "cell_type": "markdown",
      "source": [
        "### Model 0: Getting a baseline\n",
        "\n",
        "As with all machine learning modelling experiments, its important to create a baseline model so you've got a benchmark for future experiments to build upon.\n",
        "\n",
        "To create our baseline, we'll use Skelarn's Multinomial Naive Bayes using the TF-IDF formula to convert our words to numbers.\n",
        "\n",
        "> 🔑 **Note:** It's common practice to use non-DL algorithms as a baseline because of their speed and then later using DL to see if you can improve upon them.\n",
        "\n"
      ],
      "metadata": {
        "id": "k6MdhX0HYz-O"
      }
    },
    {
      "cell_type": "code",
      "source": [
        "from sklearn.feature_extraction.text import TfidfVectorizer\n",
        "from sklearn.naive_bayes import MultinomialNB\n",
        "from sklearn.pipeline import Pipeline\n",
        "\n",
        "# Create tokenization and modelling pipeline\n",
        "model_0 = Pipeline([\n",
        "                    (\"tfidf\", TfidfVectorizer()), #convert words to numbers using tfidf\n",
        "                    (\"clf\", MultinomialNB()) #model the text\n",
        "])\n",
        "\n",
        "# Fit the pipeline to the training data\n",
        "model_0.fit(train_sentences, train_labels)"
      ],
      "metadata": {
        "colab": {
          "base_uri": "https://localhost:8080/"
        },
        "id": "zb2jgKFDadm8",
        "outputId": "ebd40efd-2537-4c76-c9a4-6657a1bfce37"
      },
      "execution_count": null,
      "outputs": [
        {
          "output_type": "execute_result",
          "data": {
            "text/plain": [
              "Pipeline(steps=[('tfidf', TfidfVectorizer()), ('clf', MultinomialNB())])"
            ]
          },
          "metadata": {},
          "execution_count": 26
        }
      ]
    },
    {
      "cell_type": "code",
      "source": [
        "# Evalaute our baseline model\n",
        "baseline_score = model_0.score(val_sentences, val_labels)\n",
        "print(f\"Our baseline model achives an accuracy of: {baseline_score*100:.2f}%\")"
      ],
      "metadata": {
        "colab": {
          "base_uri": "https://localhost:8080/"
        },
        "id": "w82MrpyMdKNc",
        "outputId": "077e7372-a6a7-4948-d8f8-a15621247740"
      },
      "execution_count": null,
      "outputs": [
        {
          "output_type": "stream",
          "name": "stdout",
          "text": [
            "Our baseline model achives an accuracy of: 79.27%\n"
          ]
        }
      ]
    },
    {
      "cell_type": "code",
      "source": [
        "# Make predictions\n",
        "baseline_preds = model_0.predict(val_sentences)\n",
        "baseline_preds[:20]"
      ],
      "metadata": {
        "colab": {
          "base_uri": "https://localhost:8080/"
        },
        "id": "ns-MzgA3d49h",
        "outputId": "c8446101-affe-42e0-d8c3-8a83e3921e3b"
      },
      "execution_count": null,
      "outputs": [
        {
          "output_type": "execute_result",
          "data": {
            "text/plain": [
              "array([1, 1, 1, 0, 0, 1, 1, 1, 1, 0, 0, 1, 0, 0, 0, 0, 0, 0, 0, 1])"
            ]
          },
          "metadata": {},
          "execution_count": 28
        }
      ]
    },
    {
      "cell_type": "markdown",
      "source": [
        "### Creating an evaluation functionfor our model experiments\n",
        "\n",
        "We could evaluate all of our model's predictions with different metrics every time, however, this will be cumbersome and could easily be fixed with a function.\n",
        "\n",
        "Let's create one to compare our model's predictions with the truth labels using the following metrics:\n",
        "* Accuracy\n",
        "* Precision\n",
        "* Recall\n",
        "* F1-score\n",
        "\n",
        "> For a deep overview of many different evaluation methods, see the Sklearn documentation: https://scikit-learn.org/stable/modules/model_evaluation.html"
      ],
      "metadata": {
        "id": "n5AEp8De-3U3"
      }
    },
    {
      "cell_type": "code",
      "source": [
        "# Function to evaluate: accuracy, precison, recall, f1-score\n",
        "from sklearn.metrics import accuracy_score, precision_recall_fscore_support\n",
        "\n",
        "def calculate_results(y_true, y_pred):\n",
        "  \"\"\"\n",
        "  Calculates model accuracy, precesion, recall and f1-score of a binary classification model.\n",
        "  \"\"\"\n",
        "\n",
        "  # Calculate model accuracy\n",
        "  model_accuracy = accuracy_score(y_true, y_pred) * 100\n",
        "  # Calculate  model precision, recall and f1-score using \"weighted\" averge\n",
        "  model_precision, model_recall, model_f1, _ = precision_recall_fscore_support(y_true, y_pred, average = \"weighted\")\n",
        "  model_results = {\"accuracy\": model_accuracy,\n",
        "                   \"precision\": model_precision,\n",
        "                   \"recall\": model_recall,\n",
        "                   \"f1\": model_f1}\n",
        "  return model_results"
      ],
      "metadata": {
        "id": "7e6uVizMeK71"
      },
      "execution_count": null,
      "outputs": []
    },
    {
      "cell_type": "code",
      "source": [
        "# Get baseline results\n",
        "baseline_results = calculate_results(y_true = val_labels,\n",
        "                                     y_pred = baseline_preds)\n",
        "\n",
        "baseline_results"
      ],
      "metadata": {
        "colab": {
          "base_uri": "https://localhost:8080/"
        },
        "id": "LcTZScaREnIE",
        "outputId": "5d6fff2b-8f86-4726-8715-320964805041"
      },
      "execution_count": null,
      "outputs": [
        {
          "output_type": "execute_result",
          "data": {
            "text/plain": [
              "{'accuracy': 79.26509186351706,\n",
              " 'f1': 0.7862189758049549,\n",
              " 'precision': 0.8111390004213173,\n",
              " 'recall': 0.7926509186351706}"
            ]
          },
          "metadata": {},
          "execution_count": 30
        }
      ]
    },
    {
      "cell_type": "markdown",
      "source": [
        "### Model 1: A simple dense model"
      ],
      "metadata": {
        "id": "fmFKmjJsLTzA"
      }
    },
    {
      "cell_type": "code",
      "source": [
        "# Create a tensorboard callback (need to create a new one for each model)\n",
        "from helper_functions import create_tensorboard_callback\n",
        "\n",
        "# Create a directory to save TensorBoard logs\n",
        "SAVE_DIR = \"model_logs\""
      ],
      "metadata": {
        "id": "wtPIf8pzLSkL"
      },
      "execution_count": null,
      "outputs": []
    },
    {
      "cell_type": "code",
      "source": [
        "# Build model with the Functional API\n",
        "from tensorflow.keras import layers\n",
        "inputs = layers.Input(shape = (1,), dtype = tf.string) #inputs are 1-dimensional strings\n",
        "x = text_vectorizer(inputs) # turns the input text into numbers\n",
        "x = embedding(x) # create an embedding of the numberized inputs\n",
        "x = layers.GlobalAveragePooling1D()(x) # condense the feature vector for each token to one vector\n",
        "outputs = layers.Dense(1, activation= \"sigmoid\")(x) # create the output layer, want binary outputs so use sigmoid activation function\n",
        "model_1 = tf.keras.Model(inputs, outputs, name = \"model_1_dense\")"
      ],
      "metadata": {
        "id": "BZW5vzUvL7n6"
      },
      "execution_count": null,
      "outputs": []
    },
    {
      "cell_type": "code",
      "source": [
        "model_1.summary()"
      ],
      "metadata": {
        "colab": {
          "base_uri": "https://localhost:8080/"
        },
        "id": "-U_t27G3PbWt",
        "outputId": "8a7ae85e-ab66-4517-a293-470de8f99044"
      },
      "execution_count": null,
      "outputs": [
        {
          "output_type": "stream",
          "name": "stdout",
          "text": [
            "Model: \"model_1_dense\"\n",
            "_________________________________________________________________\n",
            " Layer (type)                Output Shape              Param #   \n",
            "=================================================================\n",
            " input_1 (InputLayer)        [(None, 1)]               0         \n",
            "                                                                 \n",
            " text_vectorization_1 (TextV  (None, 15)               0         \n",
            " ectorization)                                                   \n",
            "                                                                 \n",
            " embedding (Embedding)       (None, 15, 128)           1280000   \n",
            "                                                                 \n",
            " global_average_pooling1d (G  (None, 128)              0         \n",
            " lobalAveragePooling1D)                                          \n",
            "                                                                 \n",
            " dense (Dense)               (None, 1)                 129       \n",
            "                                                                 \n",
            "=================================================================\n",
            "Total params: 1,280,129\n",
            "Trainable params: 1,280,129\n",
            "Non-trainable params: 0\n",
            "_________________________________________________________________\n"
          ]
        }
      ]
    },
    {
      "cell_type": "code",
      "source": [
        "# Compile model\n",
        "model_1.compile(loss = \"binary_crossentropy\",\n",
        "                optimizer = tf.keras.optimizers.Adam(),\n",
        "                metrics = [\"accuracy\"])"
      ],
      "metadata": {
        "id": "tQpBiovXPzog"
      },
      "execution_count": null,
      "outputs": []
    },
    {
      "cell_type": "code",
      "source": [
        "# Fit the model\n",
        "mode_1_history = model_1.fit(x = train_sentences,\n",
        "                             y = train_labels,\n",
        "                             epochs = 5,\n",
        "                             validation_data = (val_sentences, val_labels),\n",
        "                             callbacks = [create_tensorboard_callback(dir_name = SAVE_DIR,\n",
        "                                                                      experiment_name = \"model_1_dense\")])"
      ],
      "metadata": {
        "colab": {
          "base_uri": "https://localhost:8080/"
        },
        "id": "TJAuJs3nQQuv",
        "outputId": "70d21f69-9538-418e-a008-76dc428ed32e"
      },
      "execution_count": null,
      "outputs": [
        {
          "output_type": "stream",
          "name": "stdout",
          "text": [
            "Saving TensorBoard log files to: model_logs/model_1_dense/20220511-224849\n",
            "Epoch 1/5\n",
            "215/215 [==============================] - 9s 10ms/step - loss: 0.6095 - accuracy: 0.6987 - val_loss: 0.5354 - val_accuracy: 0.7572\n",
            "Epoch 2/5\n",
            "215/215 [==============================] - 2s 9ms/step - loss: 0.4407 - accuracy: 0.8202 - val_loss: 0.4688 - val_accuracy: 0.7835\n",
            "Epoch 3/5\n",
            "215/215 [==============================] - 2s 8ms/step - loss: 0.3460 - accuracy: 0.8634 - val_loss: 0.4583 - val_accuracy: 0.7940\n",
            "Epoch 4/5\n",
            "215/215 [==============================] - 2s 9ms/step - loss: 0.2836 - accuracy: 0.8897 - val_loss: 0.4630 - val_accuracy: 0.7900\n",
            "Epoch 5/5\n",
            "215/215 [==============================] - 2s 7ms/step - loss: 0.2369 - accuracy: 0.9123 - val_loss: 0.4742 - val_accuracy: 0.7808\n"
          ]
        }
      ]
    },
    {
      "cell_type": "code",
      "source": [
        "# Check the results\n",
        "model_1.evaluate(val_sentences, val_labels)"
      ],
      "metadata": {
        "colab": {
          "base_uri": "https://localhost:8080/"
        },
        "id": "P4Vt2t4iTLm8",
        "outputId": "a262d9cb-684f-4db6-c8e3-2b430e832d5f"
      },
      "execution_count": null,
      "outputs": [
        {
          "output_type": "stream",
          "name": "stdout",
          "text": [
            "24/24 [==============================] - 0s 3ms/step - loss: 0.4742 - accuracy: 0.7808\n"
          ]
        },
        {
          "output_type": "execute_result",
          "data": {
            "text/plain": [
              "[0.4741736054420471, 0.7808399200439453]"
            ]
          },
          "metadata": {},
          "execution_count": 36
        }
      ]
    },
    {
      "cell_type": "code",
      "source": [
        "# Make some predictions and evaluate those\n",
        "model_1_preds_probs = model_1.predict(val_sentences)\n",
        "model_1_preds_probs.shape"
      ],
      "metadata": {
        "colab": {
          "base_uri": "https://localhost:8080/"
        },
        "id": "UfPIXIxDTToP",
        "outputId": "3aca3636-c562-472a-bb0b-39669180b9ab"
      },
      "execution_count": null,
      "outputs": [
        {
          "output_type": "execute_result",
          "data": {
            "text/plain": [
              "(762, 1)"
            ]
          },
          "metadata": {},
          "execution_count": 37
        }
      ]
    },
    {
      "cell_type": "code",
      "source": [
        "# Look at a single prediction\n",
        "model_1_preds_probs[0]"
      ],
      "metadata": {
        "colab": {
          "base_uri": "https://localhost:8080/"
        },
        "id": "57sLY_MeTn2E",
        "outputId": "bc26a2fe-6aba-41f6-ff5e-9f07ddf8ab70"
      },
      "execution_count": null,
      "outputs": [
        {
          "output_type": "execute_result",
          "data": {
            "text/plain": [
              "array([0.39581847], dtype=float32)"
            ]
          },
          "metadata": {},
          "execution_count": 38
        }
      ]
    },
    {
      "cell_type": "code",
      "source": [
        "# Look at the first 10 predictions\n",
        "model_1_preds_probs[:10]"
      ],
      "metadata": {
        "colab": {
          "base_uri": "https://localhost:8080/"
        },
        "id": "QA4bdSpSTrnv",
        "outputId": "e91f0af7-594a-4511-b0d4-14e9f93759fa"
      },
      "execution_count": null,
      "outputs": [
        {
          "output_type": "execute_result",
          "data": {
            "text/plain": [
              "array([[0.39581847],\n",
              "       [0.8295355 ],\n",
              "       [0.9978004 ],\n",
              "       [0.11626671],\n",
              "       [0.13439222],\n",
              "       [0.9345114 ],\n",
              "       [0.9217013 ],\n",
              "       [0.99277484],\n",
              "       [0.9649311 ],\n",
              "       [0.27848938]], dtype=float32)"
            ]
          },
          "metadata": {},
          "execution_count": 39
        }
      ]
    },
    {
      "cell_type": "code",
      "source": [
        "# Convert model predictions  probabilities to labels format\n",
        "model_1_preds = tf.squeeze(tf.round(model_1_preds_probs))\n",
        "model_1_preds[:20]"
      ],
      "metadata": {
        "colab": {
          "base_uri": "https://localhost:8080/"
        },
        "id": "sb-K0c_qT9WS",
        "outputId": "9c73af5f-4838-4597-ae51-7073d09529c4"
      },
      "execution_count": null,
      "outputs": [
        {
          "output_type": "execute_result",
          "data": {
            "text/plain": [
              "<tf.Tensor: shape=(20,), dtype=float32, numpy=\n",
              "array([0., 1., 1., 0., 0., 1., 1., 1., 1., 0., 0., 1., 0., 0., 0., 0., 0.,\n",
              "       0., 0., 1.], dtype=float32)>"
            ]
          },
          "metadata": {},
          "execution_count": 40
        }
      ]
    },
    {
      "cell_type": "code",
      "source": [
        "# Calculate our model_1 results\n",
        "model_1_results = calculate_results(y_true = val_labels, y_pred = model_1_preds)\n",
        "model_1_results"
      ],
      "metadata": {
        "id": "NeX10LU4Uk0G",
        "colab": {
          "base_uri": "https://localhost:8080/"
        },
        "outputId": "58d22d93-b14a-4816-835e-4b40e6263d10"
      },
      "execution_count": null,
      "outputs": [
        {
          "output_type": "execute_result",
          "data": {
            "text/plain": [
              "{'accuracy': 78.08398950131233,\n",
              " 'f1': 0.7782630349987989,\n",
              " 'precision': 0.7841274438015813,\n",
              " 'recall': 0.7808398950131233}"
            ]
          },
          "metadata": {},
          "execution_count": 41
        }
      ]
    },
    {
      "cell_type": "code",
      "source": [
        "import numpy as np\n",
        "np.array(list(model_1_results.values())) > np.array(list(baseline_results.values()))"
      ],
      "metadata": {
        "colab": {
          "base_uri": "https://localhost:8080/"
        },
        "id": "yPPRXBNLtldb",
        "outputId": "d72ee399-3c68-43a8-db3f-52b7fe13f572"
      },
      "execution_count": null,
      "outputs": [
        {
          "output_type": "execute_result",
          "data": {
            "text/plain": [
              "array([False, False, False, False])"
            ]
          },
          "metadata": {},
          "execution_count": 42
        }
      ]
    },
    {
      "cell_type": "markdown",
      "source": [
        "#### Visualizing learned embeddings"
      ],
      "metadata": {
        "id": "1sD93q9vlsw5"
      }
    },
    {
      "cell_type": "code",
      "source": [
        "# Get the vocabulary from the text vectorization\n",
        "words_in_vocab = text_vectorizer.get_vocabulary()\n",
        "len(words_in_vocab), words_in_vocab[:10]"
      ],
      "metadata": {
        "colab": {
          "base_uri": "https://localhost:8080/"
        },
        "id": "iC1B95Iblzik",
        "outputId": "cea3fc1b-68bd-4793-9b51-3300ed0febef"
      },
      "execution_count": null,
      "outputs": [
        {
          "output_type": "execute_result",
          "data": {
            "text/plain": [
              "(10000, ['', '[UNK]', 'the', 'a', 'in', 'to', 'of', 'and', 'i', 'is'])"
            ]
          },
          "metadata": {},
          "execution_count": 43
        }
      ]
    },
    {
      "cell_type": "code",
      "source": [
        "# Model 1 summary\n",
        "model_1.summary()"
      ],
      "metadata": {
        "colab": {
          "base_uri": "https://localhost:8080/"
        },
        "id": "bMKniSIdmjAT",
        "outputId": "2be1a628-a5ef-43c7-ccf6-8b386c2b3ff6"
      },
      "execution_count": null,
      "outputs": [
        {
          "output_type": "stream",
          "name": "stdout",
          "text": [
            "Model: \"model_1_dense\"\n",
            "_________________________________________________________________\n",
            " Layer (type)                Output Shape              Param #   \n",
            "=================================================================\n",
            " input_1 (InputLayer)        [(None, 1)]               0         \n",
            "                                                                 \n",
            " text_vectorization_1 (TextV  (None, 15)               0         \n",
            " ectorization)                                                   \n",
            "                                                                 \n",
            " embedding (Embedding)       (None, 15, 128)           1280000   \n",
            "                                                                 \n",
            " global_average_pooling1d (G  (None, 128)              0         \n",
            " lobalAveragePooling1D)                                          \n",
            "                                                                 \n",
            " dense (Dense)               (None, 1)                 129       \n",
            "                                                                 \n",
            "=================================================================\n",
            "Total params: 1,280,129\n",
            "Trainable params: 1,280,129\n",
            "Non-trainable params: 0\n",
            "_________________________________________________________________\n"
          ]
        }
      ]
    },
    {
      "cell_type": "code",
      "source": [
        "# Get the weight matrix of embedding layer\n",
        "# (these are the numerical representations of each token in our trainning data, which have been learned for 5 epochs)\n",
        "embed_weights = model_1.get_layer(\"embedding\").get_weights()[0]\n",
        "embed_weights\n",
        "print(embed_weights.shape) # same shape as vocab size and embedding_dim (output_dim of our embedding layer)"
      ],
      "metadata": {
        "colab": {
          "base_uri": "https://localhost:8080/"
        },
        "id": "KOvNWFf1mxs1",
        "outputId": "41d1061f-ea88-4a66-a3aa-7a25292a663d"
      },
      "execution_count": null,
      "outputs": [
        {
          "output_type": "stream",
          "name": "stdout",
          "text": [
            "(10000, 128)\n"
          ]
        }
      ]
    },
    {
      "cell_type": "markdown",
      "source": [
        "Now we've got the embrdding matrix our model has learned to represent our tokens, let's see how we can visualize it.\n",
        "\n",
        "To do so, TensorFlow has a handy tool call projector: http://projector.tensorflow.org/\n",
        "\n",
        "And TensorFlow also has an incredible guide on word enbeddings themselves: https://www.tensorflow.org/text/guide/word_embeddings"
      ],
      "metadata": {
        "id": "iDe0lmJVpTBZ"
      }
    },
    {
      "cell_type": "code",
      "source": [
        "# Create embedding files (we got this from TensorFlow's word embeddings documentation)\n",
        "import io\n",
        "out_v = io.open('vectors.tsv', 'w', encoding='utf-8')\n",
        "out_m = io.open('metadata.tsv', 'w', encoding='utf-8')\n",
        "\n",
        "for index, word in enumerate(words_in_vocab):\n",
        "  if index == 0:\n",
        "    continue  # skip 0, it's padding.\n",
        "  vec = embed_weights[index]\n",
        "  out_v.write('\\t'.join([str(x) for x in vec]) + \"\\n\")\n",
        "  out_m.write(word + \"\\n\")\n",
        "out_v.close()\n",
        "out_m.close()"
      ],
      "metadata": {
        "id": "INzD6xinpSwC"
      },
      "execution_count": null,
      "outputs": []
    },
    {
      "cell_type": "code",
      "source": [
        "# download files from Colab to upload to projector\n",
        "try:\n",
        "  from google.colab import files\n",
        "  files.download('vectors.tsv')\n",
        "  files.download('metadata.tsv')\n",
        "except Exception:\n",
        "  pass"
      ],
      "metadata": {
        "id": "9r0DhhObrvWf",
        "colab": {
          "base_uri": "https://localhost:8080/",
          "height": 17
        },
        "outputId": "c6fc33e9-dce8-40a9-92fb-48cca5beaf88"
      },
      "execution_count": null,
      "outputs": [
        {
          "output_type": "display_data",
          "data": {
            "text/plain": [
              "<IPython.core.display.Javascript object>"
            ],
            "application/javascript": [
              "\n",
              "    async function download(id, filename, size) {\n",
              "      if (!google.colab.kernel.accessAllowed) {\n",
              "        return;\n",
              "      }\n",
              "      const div = document.createElement('div');\n",
              "      const label = document.createElement('label');\n",
              "      label.textContent = `Downloading \"${filename}\": `;\n",
              "      div.appendChild(label);\n",
              "      const progress = document.createElement('progress');\n",
              "      progress.max = size;\n",
              "      div.appendChild(progress);\n",
              "      document.body.appendChild(div);\n",
              "\n",
              "      const buffers = [];\n",
              "      let downloaded = 0;\n",
              "\n",
              "      const channel = await google.colab.kernel.comms.open(id);\n",
              "      // Send a message to notify the kernel that we're ready.\n",
              "      channel.send({})\n",
              "\n",
              "      for await (const message of channel.messages) {\n",
              "        // Send a message to notify the kernel that we're ready.\n",
              "        channel.send({})\n",
              "        if (message.buffers) {\n",
              "          for (const buffer of message.buffers) {\n",
              "            buffers.push(buffer);\n",
              "            downloaded += buffer.byteLength;\n",
              "            progress.value = downloaded;\n",
              "          }\n",
              "        }\n",
              "      }\n",
              "      const blob = new Blob(buffers, {type: 'application/binary'});\n",
              "      const a = document.createElement('a');\n",
              "      a.href = window.URL.createObjectURL(blob);\n",
              "      a.download = filename;\n",
              "      div.appendChild(a);\n",
              "      a.click();\n",
              "      div.remove();\n",
              "    }\n",
              "  "
            ]
          },
          "metadata": {}
        },
        {
          "output_type": "display_data",
          "data": {
            "text/plain": [
              "<IPython.core.display.Javascript object>"
            ],
            "application/javascript": [
              "download(\"download_5964629e-fdba-43cc-bcbd-d7e0e484c995\", \"vectors.tsv\", 15382440)"
            ]
          },
          "metadata": {}
        },
        {
          "output_type": "display_data",
          "data": {
            "text/plain": [
              "<IPython.core.display.Javascript object>"
            ],
            "application/javascript": [
              "\n",
              "    async function download(id, filename, size) {\n",
              "      if (!google.colab.kernel.accessAllowed) {\n",
              "        return;\n",
              "      }\n",
              "      const div = document.createElement('div');\n",
              "      const label = document.createElement('label');\n",
              "      label.textContent = `Downloading \"${filename}\": `;\n",
              "      div.appendChild(label);\n",
              "      const progress = document.createElement('progress');\n",
              "      progress.max = size;\n",
              "      div.appendChild(progress);\n",
              "      document.body.appendChild(div);\n",
              "\n",
              "      const buffers = [];\n",
              "      let downloaded = 0;\n",
              "\n",
              "      const channel = await google.colab.kernel.comms.open(id);\n",
              "      // Send a message to notify the kernel that we're ready.\n",
              "      channel.send({})\n",
              "\n",
              "      for await (const message of channel.messages) {\n",
              "        // Send a message to notify the kernel that we're ready.\n",
              "        channel.send({})\n",
              "        if (message.buffers) {\n",
              "          for (const buffer of message.buffers) {\n",
              "            buffers.push(buffer);\n",
              "            downloaded += buffer.byteLength;\n",
              "            progress.value = downloaded;\n",
              "          }\n",
              "        }\n",
              "      }\n",
              "      const blob = new Blob(buffers, {type: 'application/binary'});\n",
              "      const a = document.createElement('a');\n",
              "      a.href = window.URL.createObjectURL(blob);\n",
              "      a.download = filename;\n",
              "      div.appendChild(a);\n",
              "      a.click();\n",
              "      div.remove();\n",
              "    }\n",
              "  "
            ]
          },
          "metadata": {}
        },
        {
          "output_type": "display_data",
          "data": {
            "text/plain": [
              "<IPython.core.display.Javascript object>"
            ],
            "application/javascript": [
              "download(\"download_1b98da06-0939-4b98-9d52-91cbff72e82e\", \"metadata.tsv\", 80388)"
            ]
          },
          "metadata": {}
        }
      ]
    },
    {
      "cell_type": "markdown",
      "source": [
        "## Recurrent Neural Networks (RNN's)\n",
        "\n",
        "RNN's are useful for sequence data.\n",
        "\n",
        "the premise of a recurrent neural network is to use the representation of a previous input to aid the representacin of a later input.\n",
        "\n",
        "If you want an overview of the internals of a recurrent neural network, see the following:\n",
        "\n",
        "📖 Resources:\n",
        "\n",
        "- MIT's sequence modelling lecture: https://www.youtube.com/watch?v=SEnXr6v2ifU\n",
        "- Chris Olah's introduction to LSTM: https://colah.github.io/posts/2015-08-Understanding-LSTMs/\n",
        "- Andrej Karpathy blog: http://karpathy.github.io/2015/05/21/rnn-effectiveness/"
      ],
      "metadata": {
        "id": "xy3HPeGgsnW0"
      }
    },
    {
      "cell_type": "markdown",
      "source": [
        "### Model 2: LSTM\n",
        "\n",
        "LSTM = Long short term memory (one of the most popular LSTM cells).\n",
        "\n",
        "Our structure of an RNN typically looks like this:\n",
        "\n",
        "```\n",
        "Input (text) -> Tokenize -> Embedding -> Layers -> Output (label probability)\n",
        "```"
      ],
      "metadata": {
        "id": "lWw4oLyQyMLP"
      }
    },
    {
      "cell_type": "code",
      "source": [
        "# Set random seed and create embedding layer (new embedding layer for each model)\n",
        "tf.random.set_seed(42)\n",
        "from tensorflow.keras import layers\n",
        "model_2_embedding = layers.Embedding(input_dim=max_vocab_length,\n",
        "                                     output_dim=128,\n",
        "                                     embeddings_initializer=\"uniform\",\n",
        "                                     input_length=max_length,\n",
        "                                     name=\"embedding_2\")\n",
        "\n",
        "\n",
        "# Create LSTM model\n",
        "inputs = layers.Input(shape=(1,), dtype=\"string\")\n",
        "x = text_vectorizer(inputs)\n",
        "x = model_2_embedding(x)\n",
        "#print(x.shape)\n",
        "# x = layers.LSTM(64, return_sequences=True)(x) # return vector for each word in the Tweet (you can stack RNN cells as long as return_sequences=True)\n",
        "x = layers.LSTM(64)(x) # return vector for whole sequence\n",
        "#print(x.shape)\n",
        "# x = layers.Dense(64, activation=\"relu\")(x) # optional dense layer on top of output of LSTM cell\n",
        "outputs = layers.Dense(1, activation=\"sigmoid\")(x)\n",
        "model_2 = tf.keras.Model(inputs, outputs, name=\"model_2_LSTM\")"
      ],
      "metadata": {
        "id": "aDBQcbzlsm5i"
      },
      "execution_count": null,
      "outputs": []
    },
    {
      "cell_type": "code",
      "source": [
        "# Compile model\n",
        "model_2.compile(loss=\"binary_crossentropy\",\n",
        "                optimizer=tf.keras.optimizers.Adam(),\n",
        "                metrics=[\"accuracy\"])"
      ],
      "metadata": {
        "id": "glUXZIfi1qXK"
      },
      "execution_count": null,
      "outputs": []
    },
    {
      "cell_type": "code",
      "source": [
        "# Model 2 summary\n",
        "model_2.summary()"
      ],
      "metadata": {
        "colab": {
          "base_uri": "https://localhost:8080/"
        },
        "id": "jnFRVxFw1rPc",
        "outputId": "66d2d4ac-190a-4abb-913a-0eda32f45474"
      },
      "execution_count": null,
      "outputs": [
        {
          "output_type": "stream",
          "name": "stdout",
          "text": [
            "Model: \"model_2_LSTM\"\n",
            "_________________________________________________________________\n",
            " Layer (type)                Output Shape              Param #   \n",
            "=================================================================\n",
            " input_2 (InputLayer)        [(None, 1)]               0         \n",
            "                                                                 \n",
            " text_vectorization_1 (TextV  (None, 15)               0         \n",
            " ectorization)                                                   \n",
            "                                                                 \n",
            " embedding_2 (Embedding)     (None, 15, 128)           1280000   \n",
            "                                                                 \n",
            " lstm (LSTM)                 (None, 64)                49408     \n",
            "                                                                 \n",
            " dense_1 (Dense)             (None, 1)                 65        \n",
            "                                                                 \n",
            "=================================================================\n",
            "Total params: 1,329,473\n",
            "Trainable params: 1,329,473\n",
            "Non-trainable params: 0\n",
            "_________________________________________________________________\n"
          ]
        }
      ]
    },
    {
      "cell_type": "code",
      "source": [
        "# Fit model\n",
        "model_2_history = model_2.fit(train_sentences,\n",
        "                              train_labels,\n",
        "                              epochs=5,\n",
        "                              validation_data=(val_sentences, val_labels),\n",
        "                              callbacks=[create_tensorboard_callback(SAVE_DIR, \n",
        "                                                                     \"LSTM\")])"
      ],
      "metadata": {
        "colab": {
          "base_uri": "https://localhost:8080/"
        },
        "id": "9UkwX4Nb1_tt",
        "outputId": "c65ee53b-72d2-4ea4-c2d1-c3646a714ea1"
      },
      "execution_count": null,
      "outputs": [
        {
          "output_type": "stream",
          "name": "stdout",
          "text": [
            "Saving TensorBoard log files to: model_logs/LSTM/20220511-224908\n",
            "Epoch 1/5\n",
            "215/215 [==============================] - 7s 9ms/step - loss: 0.5100 - accuracy: 0.7416 - val_loss: 0.4566 - val_accuracy: 0.7822\n",
            "Epoch 2/5\n",
            "215/215 [==============================] - 1s 7ms/step - loss: 0.3176 - accuracy: 0.8717 - val_loss: 0.5138 - val_accuracy: 0.7756\n",
            "Epoch 3/5\n",
            "215/215 [==============================] - 2s 7ms/step - loss: 0.2201 - accuracy: 0.9152 - val_loss: 0.5858 - val_accuracy: 0.7677\n",
            "Epoch 4/5\n",
            "215/215 [==============================] - 2s 7ms/step - loss: 0.1556 - accuracy: 0.9428 - val_loss: 0.6041 - val_accuracy: 0.7743\n",
            "Epoch 5/5\n",
            "215/215 [==============================] - 1s 7ms/step - loss: 0.1076 - accuracy: 0.9594 - val_loss: 0.8746 - val_accuracy: 0.7507\n"
          ]
        }
      ]
    },
    {
      "cell_type": "code",
      "source": [
        "# Make predictions on the validation dataset\n",
        "model_2_pred_probs = model_2.predict(val_sentences)\n",
        "model_2_pred_probs.shape, model_2_pred_probs[:10] # view the first 10"
      ],
      "metadata": {
        "colab": {
          "base_uri": "https://localhost:8080/"
        },
        "id": "fO7KGCED2H12",
        "outputId": "6a10c562-103d-4810-c10d-5bdc3fe21436"
      },
      "execution_count": null,
      "outputs": [
        {
          "output_type": "execute_result",
          "data": {
            "text/plain": [
              "((762, 1), array([[0.00712599],\n",
              "        [0.7873676 ],\n",
              "        [0.9996376 ],\n",
              "        [0.05679165],\n",
              "        [0.0025822 ],\n",
              "        [0.9996238 ],\n",
              "        [0.92170197],\n",
              "        [0.9997993 ],\n",
              "        [0.9994954 ],\n",
              "        [0.6645741 ]], dtype=float32))"
            ]
          },
          "metadata": {},
          "execution_count": 52
        }
      ]
    },
    {
      "cell_type": "code",
      "source": [
        "# Round out predictions and reduce to 1-dimensional array\n",
        "model_2_preds = tf.squeeze(tf.round(model_2_pred_probs))\n",
        "model_2_preds[:10]"
      ],
      "metadata": {
        "colab": {
          "base_uri": "https://localhost:8080/"
        },
        "id": "b8o1OMlS2hSw",
        "outputId": "60e07f35-8ab6-43dd-fc71-beb57d7d6014"
      },
      "execution_count": null,
      "outputs": [
        {
          "output_type": "execute_result",
          "data": {
            "text/plain": [
              "<tf.Tensor: shape=(10,), dtype=float32, numpy=array([0., 1., 1., 0., 0., 1., 1., 1., 1., 1.], dtype=float32)>"
            ]
          },
          "metadata": {},
          "execution_count": 53
        }
      ]
    },
    {
      "cell_type": "code",
      "source": [
        "# Calculate LSTM model results\n",
        "model_2_results = calculate_results(y_true=val_labels,\n",
        "                                    y_pred=model_2_preds)\n",
        "model_2_results"
      ],
      "metadata": {
        "colab": {
          "base_uri": "https://localhost:8080/"
        },
        "id": "VrCCHnhB2n7q",
        "outputId": "00b0dfc5-5482-45bb-c5bd-271b7fb8c8de"
      },
      "execution_count": null,
      "outputs": [
        {
          "output_type": "execute_result",
          "data": {
            "text/plain": [
              "{'accuracy': 75.06561679790026,\n",
              " 'f1': 0.7489268622514025,\n",
              " 'precision': 0.7510077975908164,\n",
              " 'recall': 0.7506561679790026}"
            ]
          },
          "metadata": {},
          "execution_count": 54
        }
      ]
    },
    {
      "cell_type": "code",
      "source": [
        "# Compare model 2 to baseline\n",
        "import numpy as np\n",
        "np.array(list(model_2_results.values())) > np.array(list(baseline_results.values()))"
      ],
      "metadata": {
        "colab": {
          "base_uri": "https://localhost:8080/"
        },
        "id": "pF3JFLs32sg2",
        "outputId": "e8307db8-9777-4ba1-87ab-01efd7933f44"
      },
      "execution_count": null,
      "outputs": [
        {
          "output_type": "execute_result",
          "data": {
            "text/plain": [
              "array([False, False, False, False])"
            ]
          },
          "metadata": {},
          "execution_count": 55
        }
      ]
    },
    {
      "cell_type": "markdown",
      "source": [
        "### Model 3: GRU\n",
        "\n",
        "Another popular and effective RNN component is the GRU or gated recurrent unit.\n",
        "\n",
        "The GRU cell has similar features to an LSTM cell but has less parameters.\n",
        "\n",
        "📖 Resource: A full explanation of the GRU cell is beyond the scope of this noteook but I'd suggest the following resources to learn more:\n",
        "\n",
        "* Gated Recurrent Unit Wikipedia page\n",
        "* Understanding GRU networks by Simeon Kostadinov\n",
        "\n",
        "To use the GRU cell in TensorFlow, we can call the tensorflow.keras.layers.GRU() class.\n",
        "\n",
        "The architecture of the GRU-powered model will follow the same structure we've been using:\n",
        "```\n",
        "Input (text) -> Tokenize -> Embedding -> Layers -> Output (label probability)\n",
        "```"
      ],
      "metadata": {
        "id": "jqpMH9lbbXGR"
      }
    },
    {
      "cell_type": "code",
      "source": [
        "# Set random seed and create embedding layer (new embedding layer for each model)\n",
        "tf.random.set_seed(42)\n",
        "from tensorflow.keras import layers\n",
        "model_3_embedding = layers.Embedding(input_dim=max_vocab_length,\n",
        "                                     output_dim=128,\n",
        "                                     embeddings_initializer=\"uniform\",\n",
        "                                     input_length=max_length,\n",
        "                                     name=\"embedding_3\")\n",
        "\n",
        "# Build an RNN using the GRU cell\n",
        "inputs = layers.Input(shape=(1,), dtype=\"string\")\n",
        "x = text_vectorizer(inputs)\n",
        "x = model_3_embedding(x)\n",
        "# x = layers.GRU(64, return_sequences=True) # stacking recurrent cells requires return_sequences=True\n",
        "x = layers.GRU(64)(x) \n",
        "# x = layers.Dense(64, activation=\"relu\")(x) # optional dense layer after GRU cell\n",
        "outputs = layers.Dense(1, activation=\"sigmoid\")(x)\n",
        "model_3 = tf.keras.Model(inputs, outputs, name=\"model_3_GRU\")"
      ],
      "metadata": {
        "id": "zG88liynbW0T"
      },
      "execution_count": null,
      "outputs": []
    },
    {
      "cell_type": "code",
      "source": [
        "# Compile GRU model\n",
        "model_3.compile(loss=\"binary_crossentropy\",\n",
        "                optimizer=tf.keras.optimizers.Adam(),\n",
        "                metrics=[\"accuracy\"])"
      ],
      "metadata": {
        "id": "4r9VnVKxdZRW"
      },
      "execution_count": null,
      "outputs": []
    },
    {
      "cell_type": "code",
      "source": [
        "# Get a summary of the GRU model\n",
        "model_3.summary()"
      ],
      "metadata": {
        "colab": {
          "base_uri": "https://localhost:8080/"
        },
        "id": "o4t_Xnf_ddEt",
        "outputId": "734cfe50-d908-4ae3-ea2d-6592550cac0c"
      },
      "execution_count": null,
      "outputs": [
        {
          "output_type": "stream",
          "name": "stdout",
          "text": [
            "Model: \"model_3_GRU\"\n",
            "_________________________________________________________________\n",
            " Layer (type)                Output Shape              Param #   \n",
            "=================================================================\n",
            " input_3 (InputLayer)        [(None, 1)]               0         \n",
            "                                                                 \n",
            " text_vectorization_1 (TextV  (None, 15)               0         \n",
            " ectorization)                                                   \n",
            "                                                                 \n",
            " embedding_3 (Embedding)     (None, 15, 128)           1280000   \n",
            "                                                                 \n",
            " gru (GRU)                   (None, 64)                37248     \n",
            "                                                                 \n",
            " dense_2 (Dense)             (None, 1)                 65        \n",
            "                                                                 \n",
            "=================================================================\n",
            "Total params: 1,317,313\n",
            "Trainable params: 1,317,313\n",
            "Non-trainable params: 0\n",
            "_________________________________________________________________\n"
          ]
        }
      ]
    },
    {
      "cell_type": "code",
      "source": [
        "# Fit model\n",
        "model_3_history = model_3.fit(train_sentences,\n",
        "                              train_labels,\n",
        "                              epochs=5,\n",
        "                              validation_data=(val_sentences, val_labels),\n",
        "                              callbacks=[create_tensorboard_callback(SAVE_DIR, \"GRU\")])"
      ],
      "metadata": {
        "colab": {
          "base_uri": "https://localhost:8080/"
        },
        "id": "Q68tsW--dj5E",
        "outputId": "20c6aef4-6775-4e7a-cb44-0398087bcafd"
      },
      "execution_count": null,
      "outputs": [
        {
          "output_type": "stream",
          "name": "stdout",
          "text": [
            "Saving TensorBoard log files to: model_logs/GRU/20220511-224921\n",
            "Epoch 1/5\n",
            "215/215 [==============================] - 4s 9ms/step - loss: 0.5242 - accuracy: 0.7314 - val_loss: 0.4553 - val_accuracy: 0.7769\n",
            "Epoch 2/5\n",
            "215/215 [==============================] - 2s 7ms/step - loss: 0.3195 - accuracy: 0.8694 - val_loss: 0.4937 - val_accuracy: 0.7808\n",
            "Epoch 3/5\n",
            "215/215 [==============================] - 1s 7ms/step - loss: 0.2197 - accuracy: 0.9181 - val_loss: 0.5607 - val_accuracy: 0.7743\n",
            "Epoch 4/5\n",
            "215/215 [==============================] - 1s 7ms/step - loss: 0.1599 - accuracy: 0.9441 - val_loss: 0.6220 - val_accuracy: 0.7782\n",
            "Epoch 5/5\n",
            "215/215 [==============================] - 1s 7ms/step - loss: 0.1221 - accuracy: 0.9584 - val_loss: 0.6205 - val_accuracy: 0.7677\n"
          ]
        }
      ]
    },
    {
      "cell_type": "code",
      "source": [
        "# Make predictions on the validation data\n",
        "model_3_pred_probs = model_3.predict(val_sentences)\n",
        "model_3_pred_probs.shape, model_3_pred_probs[:10]"
      ],
      "metadata": {
        "colab": {
          "base_uri": "https://localhost:8080/"
        },
        "id": "-zKSIUHtdtwu",
        "outputId": "ded5dae7-b0f6-4c0f-f8d9-e2a504470c90"
      },
      "execution_count": null,
      "outputs": [
        {
          "output_type": "execute_result",
          "data": {
            "text/plain": [
              "((762, 1), array([[0.33325273],\n",
              "        [0.87741184],\n",
              "        [0.9980252 ],\n",
              "        [0.11561754],\n",
              "        [0.01235959],\n",
              "        [0.9925639 ],\n",
              "        [0.6214262 ],\n",
              "        [0.99813336],\n",
              "        [0.9982377 ],\n",
              "        [0.5018107 ]], dtype=float32))"
            ]
          },
          "metadata": {},
          "execution_count": 60
        }
      ]
    },
    {
      "cell_type": "code",
      "source": [
        "# Convert prediction probabilities to prediction classes\n",
        "model_3_preds = tf.squeeze(tf.round(model_3_pred_probs))\n",
        "model_3_preds[:10]"
      ],
      "metadata": {
        "colab": {
          "base_uri": "https://localhost:8080/"
        },
        "id": "-cakkmr2dwyV",
        "outputId": "87522bbc-492e-45a5-ccb5-89db5bfe2dce"
      },
      "execution_count": null,
      "outputs": [
        {
          "output_type": "execute_result",
          "data": {
            "text/plain": [
              "<tf.Tensor: shape=(10,), dtype=float32, numpy=array([0., 1., 1., 0., 0., 1., 1., 1., 1., 1.], dtype=float32)>"
            ]
          },
          "metadata": {},
          "execution_count": 61
        }
      ]
    },
    {
      "cell_type": "code",
      "source": [
        "# Calcuate model_3 results\n",
        "model_3_results = calculate_results(y_true=val_labels, \n",
        "                                    y_pred=model_3_preds)\n",
        "model_3_results"
      ],
      "metadata": {
        "colab": {
          "base_uri": "https://localhost:8080/"
        },
        "id": "ekolKPy3dzgl",
        "outputId": "019684c8-640b-4b1a-d4b7-b7f60fb197d3"
      },
      "execution_count": null,
      "outputs": [
        {
          "output_type": "execute_result",
          "data": {
            "text/plain": [
              "{'accuracy': 76.77165354330708,\n",
              " 'f1': 0.7667932666650168,\n",
              " 'precision': 0.7675450859410361,\n",
              " 'recall': 0.7677165354330708}"
            ]
          },
          "metadata": {},
          "execution_count": 62
        }
      ]
    },
    {
      "cell_type": "code",
      "source": [
        "# Compare to baseline\n",
        "import numpy as np\n",
        "np.array(list(model_3_results.values())) > np.array(list(baseline_results.values()))"
      ],
      "metadata": {
        "colab": {
          "base_uri": "https://localhost:8080/"
        },
        "id": "obngwUsdd3IH",
        "outputId": "819ff94f-a0a1-4646-8544-303aa2615934"
      },
      "execution_count": null,
      "outputs": [
        {
          "output_type": "execute_result",
          "data": {
            "text/plain": [
              "array([False, False, False, False])"
            ]
          },
          "metadata": {},
          "execution_count": 63
        }
      ]
    },
    {
      "cell_type": "markdown",
      "source": [
        "### Model 4: Bidirectonal RNN model\n",
        "\n",
        "A standard RNN will process a sequence from left to right, where as a bidirectional RNN will process the sequence from left to right and then again from right to left.\n",
        "\n",
        "Intuitively, this can be thought of as if you were reading a sentence for the first time in the normal fashion (left to right) but for some reason it didn't make sense so you traverse back through the words and go back over them again (right to left).\n",
        "\n",
        "In practice, many sequence models often see and improvement in performance when using bidirectional RNN's.\n",
        "\n",
        "However, this improvement in performance often comes at the cost of longer training times and increased model parameters (since the model goes left to right and right to left, the number of trainable parameters doubles)."
      ],
      "metadata": {
        "id": "XcL1QBoQedxR"
      }
    },
    {
      "cell_type": "code",
      "source": [
        "# Set random seed and create embedding layer (new embedding layer for each model)\n",
        "tf.random.set_seed(42)\n",
        "from tensorflow.keras import layers\n",
        "model_4_embedding = layers.Embedding(input_dim=max_vocab_length,\n",
        "                                     output_dim=128,\n",
        "                                     embeddings_initializer=\"uniform\",\n",
        "                                     input_length=max_length,\n",
        "                                     name=\"embedding_4\")\n",
        "\n",
        "# Build a Bidirectional RNN in TensorFlow\n",
        "inputs = layers.Input(shape=(1,), dtype=\"string\")\n",
        "x = text_vectorizer(inputs)\n",
        "x = model_4_embedding(x)\n",
        "#x = layers.Bidirectional(layers.LSTM(64, return_sequences=True))(x) # stacking RNN layers requires return_sequences=True\n",
        "x = layers.Bidirectional(layers.LSTM(64))(x) # bidirectional goes both ways so has double the parameters of a regular LSTM layer\n",
        "#x = layers.Bidirectional(layers.GRU(64))(x)\n",
        "outputs = layers.Dense(1, activation=\"sigmoid\")(x)\n",
        "model_4 = tf.keras.Model(inputs, outputs, name=\"model_4_Bidirectional\")"
      ],
      "metadata": {
        "id": "zvEy8xGvfq4J"
      },
      "execution_count": null,
      "outputs": []
    },
    {
      "cell_type": "code",
      "source": [
        "# Compile\n",
        "model_4.compile(loss=\"binary_crossentropy\",\n",
        "                optimizer=tf.keras.optimizers.Adam(),\n",
        "                metrics=[\"accuracy\"])"
      ],
      "metadata": {
        "id": "CecSIqsXfu_X"
      },
      "execution_count": null,
      "outputs": []
    },
    {
      "cell_type": "code",
      "source": [
        "# Get a summary of our bidirectional model\n",
        "model_4.summary()"
      ],
      "metadata": {
        "colab": {
          "base_uri": "https://localhost:8080/"
        },
        "id": "O4k1M-Mlfx8c",
        "outputId": "842affa5-62ce-44d9-c4c3-d82264751865"
      },
      "execution_count": null,
      "outputs": [
        {
          "output_type": "stream",
          "name": "stdout",
          "text": [
            "Model: \"model_4_Bidirectional\"\n",
            "_________________________________________________________________\n",
            " Layer (type)                Output Shape              Param #   \n",
            "=================================================================\n",
            " input_4 (InputLayer)        [(None, 1)]               0         \n",
            "                                                                 \n",
            " text_vectorization_1 (TextV  (None, 15)               0         \n",
            " ectorization)                                                   \n",
            "                                                                 \n",
            " embedding_4 (Embedding)     (None, 15, 128)           1280000   \n",
            "                                                                 \n",
            " bidirectional (Bidirectiona  (None, 128)              98816     \n",
            " l)                                                              \n",
            "                                                                 \n",
            " dense_3 (Dense)             (None, 1)                 129       \n",
            "                                                                 \n",
            "=================================================================\n",
            "Total params: 1,378,945\n",
            "Trainable params: 1,378,945\n",
            "Non-trainable params: 0\n",
            "_________________________________________________________________\n"
          ]
        }
      ]
    },
    {
      "cell_type": "code",
      "source": [
        "# Fit the model (takes longer because of the bidirectional layers)\n",
        "model_4_history = model_4.fit(train_sentences,\n",
        "                              train_labels,\n",
        "                              epochs=5,\n",
        "                              validation_data=(val_sentences, val_labels),\n",
        "                              callbacks=[create_tensorboard_callback(SAVE_DIR, \"bidirectional_RNN\")])"
      ],
      "metadata": {
        "colab": {
          "base_uri": "https://localhost:8080/"
        },
        "id": "rqFwxCSdfzCw",
        "outputId": "a9385e89-4627-4a19-9d8f-8d0e1ecc4e46"
      },
      "execution_count": null,
      "outputs": [
        {
          "output_type": "stream",
          "name": "stdout",
          "text": [
            "Saving TensorBoard log files to: model_logs/bidirectional_RNN/20220511-224934\n",
            "Epoch 1/5\n",
            "215/215 [==============================] - 6s 13ms/step - loss: 0.5093 - accuracy: 0.7481 - val_loss: 0.4606 - val_accuracy: 0.7795\n",
            "Epoch 2/5\n",
            "215/215 [==============================] - 2s 9ms/step - loss: 0.3135 - accuracy: 0.8708 - val_loss: 0.5144 - val_accuracy: 0.7690\n",
            "Epoch 3/5\n",
            "215/215 [==============================] - 2s 9ms/step - loss: 0.2150 - accuracy: 0.9178 - val_loss: 0.5626 - val_accuracy: 0.7677\n",
            "Epoch 4/5\n",
            "215/215 [==============================] - 2s 9ms/step - loss: 0.1523 - accuracy: 0.9469 - val_loss: 0.6365 - val_accuracy: 0.7769\n",
            "Epoch 5/5\n",
            "215/215 [==============================] - 2s 9ms/step - loss: 0.1083 - accuracy: 0.9639 - val_loss: 0.6509 - val_accuracy: 0.7664\n"
          ]
        }
      ]
    },
    {
      "cell_type": "code",
      "source": [
        "# Make predictions with bidirectional RNN on the validation data\n",
        "model_4_pred_probs = model_4.predict(val_sentences)\n",
        "model_4_pred_probs[:10]"
      ],
      "metadata": {
        "colab": {
          "base_uri": "https://localhost:8080/"
        },
        "id": "_e2s8Bt-f2Lx",
        "outputId": "50c164fb-d6db-4f9c-8c01-84b3dad9e331"
      },
      "execution_count": null,
      "outputs": [
        {
          "output_type": "execute_result",
          "data": {
            "text/plain": [
              "array([[0.04000051],\n",
              "       [0.8279291 ],\n",
              "       [0.99842227],\n",
              "       [0.13531096],\n",
              "       [0.00311337],\n",
              "       [0.99220747],\n",
              "       [0.9552836 ],\n",
              "       [0.99945647],\n",
              "       [0.99898285],\n",
              "       [0.28141686]], dtype=float32)"
            ]
          },
          "metadata": {},
          "execution_count": 68
        }
      ]
    },
    {
      "cell_type": "code",
      "source": [
        "# Convert prediction probabilities to labels\n",
        "model_4_preds = tf.squeeze(tf.round(model_4_pred_probs))\n",
        "model_4_preds[:10]"
      ],
      "metadata": {
        "colab": {
          "base_uri": "https://localhost:8080/"
        },
        "id": "FzbDGxBqf4x8",
        "outputId": "6ceb894f-089e-4795-e2fa-c80c5815d0f4"
      },
      "execution_count": null,
      "outputs": [
        {
          "output_type": "execute_result",
          "data": {
            "text/plain": [
              "<tf.Tensor: shape=(10,), dtype=float32, numpy=array([0., 1., 1., 0., 0., 1., 1., 1., 1., 0.], dtype=float32)>"
            ]
          },
          "metadata": {},
          "execution_count": 69
        }
      ]
    },
    {
      "cell_type": "code",
      "source": [
        "# Calculate bidirectional RNN model results\n",
        "model_4_results = calculate_results(val_labels, model_4_preds)\n",
        "model_4_results"
      ],
      "metadata": {
        "colab": {
          "base_uri": "https://localhost:8080/"
        },
        "id": "2BZWz7aJgIW5",
        "outputId": "bad3985f-819c-40aa-defb-fded944430aa"
      },
      "execution_count": null,
      "outputs": [
        {
          "output_type": "execute_result",
          "data": {
            "text/plain": [
              "{'accuracy': 76.64041994750657,\n",
              " 'f1': 0.7651213533864446,\n",
              " 'precision': 0.7665895370389821,\n",
              " 'recall': 0.7664041994750657}"
            ]
          },
          "metadata": {},
          "execution_count": 70
        }
      ]
    },
    {
      "cell_type": "code",
      "source": [
        "# Check to see how the bidirectional model performs against the baseline\n",
        "import numpy as np\n",
        "np.array(list(model_4_results.values())) > np.array(list(baseline_results.values()))"
      ],
      "metadata": {
        "colab": {
          "base_uri": "https://localhost:8080/"
        },
        "id": "bcilkkPkgK8-",
        "outputId": "572f6788-73e4-4f89-d7b3-8fcf1d61862b"
      },
      "execution_count": null,
      "outputs": [
        {
          "output_type": "execute_result",
          "data": {
            "text/plain": [
              "array([False, False, False, False])"
            ]
          },
          "metadata": {},
          "execution_count": 71
        }
      ]
    },
    {
      "cell_type": "markdown",
      "source": [
        "## Convolutional Neural Networks for Text\n",
        "\n",
        "You might've used convolutional neural networks (CNNs) for images before but they can also be used for sequences.\n",
        "\n",
        "The main difference between using CNNs for images and sequences is the shape of the data. Images come in 2-dimensions (height x width) where as sequences are often 1-dimensional (a string of text).\n",
        "\n",
        "So to use CNNs with sequences, we use a 1-dimensional convolution instead of a 2-dimensional convolution.\n",
        "\n",
        "A typical CNN architecture for sequences will look like the following\n",
        "\n",
        "```\n",
        "Inputs (text) -> Tokenization -> Embedding -> Layers (typically Conv1D + pooling) -> Outputs (class probabilities)\n",
        "\n",
        "```\n",
        "You might be thinking \"that just looks like the architecture layout we've been using for the other models...\"\n",
        "\n",
        "And you'd be right.\n",
        "\n",
        "The difference again is in the layers component. Instead of using an LSTM or GRU cell, we're going to use a [tensorflow.keras.layers.Conv1D()](https://www.tensorflow.org/api_docs/python/tf/keras/layers/Conv1D) layer followed by a [tensorflow.keras.layers.GlobablMaxPool1D()](https://www.tensorflow.org/api_docs/python/tf/keras/layers/GlobalMaxPool1D) layer.\n",
        "\n",
        "📖 Resource: The intuition here is explained succinctly in the paper [Understanding Convolutional Neural Networks for Text Classification](https://aclanthology.org/W18-5408.pdf), where they state that CNNs classify text through the following steps:\n",
        "\n",
        "1- dimensional convolving filters are used as ngram detectors, each filter specializing in a closely-related family of ngrams (an ngram is a collection of n-words, for example, an ngram of 5 might result in \"hello, my name is Daniel\").\n",
        "\n",
        "2- Max-pooling over time extracts the relevant ngrams for making a decision.\n",
        "\n",
        "3- The rest of the network classifies the text based on this information.\n",
        "\n"
      ],
      "metadata": {
        "id": "Dn8xOyblfqi2"
      }
    },
    {
      "cell_type": "markdown",
      "source": [
        "### Model 5: Conv1D\n",
        "\n",
        "Before we build a full 1-dimensional CNN model, let's see a 1-dimensional convolutional layer (also called a temporal convolution) in action.\n",
        "\n",
        "We'll first create an embedding of a sample of text and experiment passing it through a Conv1D() layer and GlobalMaxPool1D() layer."
      ],
      "metadata": {
        "id": "Ln5GHmmelHZj"
      }
    },
    {
      "cell_type": "code",
      "source": [
        "# Test out the embedding, 1D convolutional and max pooling\n",
        "embedding_test = embedding(text_vectorizer([\"this is a test sentence\"])) # turn target sentence into embedding\n",
        "conv_1d = layers.Conv1D(filters=32, kernel_size=5, activation=\"relu\", padding=\"valid\") # convolve over target sequence 5 words at a time\n",
        "conv_1d_output = conv_1d(embedding_test) # pass embedding through 1D convolutional layer\n",
        "max_pool = layers.GlobalMaxPool1D() \n",
        "max_pool_output = max_pool(conv_1d_output) # get the most important features\n",
        "embedding_test.shape, conv_1d_output.shape, max_pool_output.shape"
      ],
      "metadata": {
        "colab": {
          "base_uri": "https://localhost:8080/"
        },
        "id": "zDZITpTMlGh6",
        "outputId": "6336e912-2a56-48b5-8307-54dde09c12fb"
      },
      "execution_count": null,
      "outputs": [
        {
          "output_type": "execute_result",
          "data": {
            "text/plain": [
              "(TensorShape([1, 15, 128]), TensorShape([1, 11, 32]), TensorShape([1, 32]))"
            ]
          },
          "metadata": {},
          "execution_count": 72
        }
      ]
    },
    {
      "cell_type": "code",
      "source": [
        "# See the outputs of each layer\n",
        "embedding_test[:1], conv_1d_output[:1], max_pool_output[:1]"
      ],
      "metadata": {
        "colab": {
          "base_uri": "https://localhost:8080/"
        },
        "id": "X99kT83ql8Oa",
        "outputId": "249229ec-9a04-46df-ac01-ab9123980609"
      },
      "execution_count": null,
      "outputs": [
        {
          "output_type": "execute_result",
          "data": {
            "text/plain": [
              "(<tf.Tensor: shape=(1, 15, 128), dtype=float32, numpy=\n",
              " array([[[-0.01011311, -0.00569782,  0.03518535, ..., -0.05331556,\n",
              "           0.02700303,  0.01647879],\n",
              "         [ 0.0306751 , -0.01692459, -0.06167873, ...,  0.03575867,\n",
              "          -0.02340784, -0.02136257],\n",
              "         [-0.0031186 , -0.03084413,  0.01659802, ..., -0.03680301,\n",
              "          -0.03680465, -0.02837771],\n",
              "         ...,\n",
              "         [-0.01549233,  0.00081708, -0.04794382, ..., -0.00286594,\n",
              "          -0.04024208,  0.00691175],\n",
              "         [-0.01549233,  0.00081708, -0.04794382, ..., -0.00286594,\n",
              "          -0.04024208,  0.00691175],\n",
              "         [-0.01549233,  0.00081708, -0.04794382, ..., -0.00286594,\n",
              "          -0.04024208,  0.00691175]]], dtype=float32)>,\n",
              " <tf.Tensor: shape=(1, 11, 32), dtype=float32, numpy=\n",
              " array([[[0.02250773, 0.06811386, 0.01372178, 0.        , 0.08102117,\n",
              "          0.        , 0.01412072, 0.02407098, 0.        , 0.        ,\n",
              "          0.        , 0.        , 0.        , 0.        , 0.0375401 ,\n",
              "          0.04808602, 0.02881088, 0.        , 0.        , 0.04370314,\n",
              "          0.        , 0.        , 0.00287288, 0.04497229, 0.        ,\n",
              "          0.02952828, 0.        , 0.06672576, 0.        , 0.07366994,\n",
              "          0.10282934, 0.        ],\n",
              "         [0.        , 0.0052954 , 0.        , 0.01198444, 0.        ,\n",
              "          0.        , 0.02365012, 0.04630854, 0.01096325, 0.        ,\n",
              "          0.        , 0.        , 0.02206636, 0.03141917, 0.00651186,\n",
              "          0.06673522, 0.03938801, 0.        , 0.07649046, 0.        ,\n",
              "          0.02224244, 0.        , 0.07718056, 0.02496109, 0.        ,\n",
              "          0.        , 0.        , 0.05551337, 0.        , 0.04867208,\n",
              "          0.04839352, 0.        ],\n",
              "         [0.        , 0.09937127, 0.        , 0.03343971, 0.03653007,\n",
              "          0.08205677, 0.04269006, 0.04185624, 0.        , 0.00384634,\n",
              "          0.01050861, 0.01303993, 0.        , 0.        , 0.01030046,\n",
              "          0.10781166, 0.01125199, 0.        , 0.        , 0.05490901,\n",
              "          0.        , 0.        , 0.09101401, 0.        , 0.        ,\n",
              "          0.07272126, 0.04508165, 0.        , 0.01403824, 0.02776224,\n",
              "          0.11638466, 0.        ],\n",
              "         [0.00932098, 0.02923079, 0.        , 0.02469472, 0.04855925,\n",
              "          0.01076983, 0.03515876, 0.17590988, 0.        , 0.06683433,\n",
              "          0.03041293, 0.        , 0.03068786, 0.04312259, 0.        ,\n",
              "          0.        , 0.        , 0.        , 0.        , 0.        ,\n",
              "          0.03078138, 0.        , 0.06372577, 0.01708454, 0.        ,\n",
              "          0.        , 0.        , 0.        , 0.        , 0.        ,\n",
              "          0.06954289, 0.        ],\n",
              "         [0.        , 0.00594656, 0.        , 0.01102378, 0.01917186,\n",
              "          0.        , 0.        , 0.07590311, 0.        , 0.08561113,\n",
              "          0.01107088, 0.        , 0.02455825, 0.0445297 , 0.02870925,\n",
              "          0.016514  , 0.02600016, 0.01269513, 0.03611882, 0.        ,\n",
              "          0.        , 0.        , 0.05489103, 0.02535414, 0.        ,\n",
              "          0.        , 0.03830634, 0.02344111, 0.        , 0.01957378,\n",
              "          0.07825215, 0.        ],\n",
              "         [0.02714291, 0.02139368, 0.        , 0.        , 0.0105909 ,\n",
              "          0.01020543, 0.        , 0.0936237 , 0.        , 0.0758272 ,\n",
              "          0.02997684, 0.        , 0.        , 0.04771581, 0.04952969,\n",
              "          0.01719879, 0.02655483, 0.        , 0.00775863, 0.        ,\n",
              "          0.        , 0.        , 0.07135616, 0.00516148, 0.        ,\n",
              "          0.        , 0.02118662, 0.02899143, 0.        , 0.02286273,\n",
              "          0.09497426, 0.        ],\n",
              "         [0.02714291, 0.02139369, 0.        , 0.        , 0.0105909 ,\n",
              "          0.01020544, 0.        , 0.09362368, 0.        , 0.07582721,\n",
              "          0.02997685, 0.        , 0.        , 0.04771581, 0.04952969,\n",
              "          0.01719878, 0.02655483, 0.        , 0.00775863, 0.        ,\n",
              "          0.        , 0.        , 0.07135614, 0.00516148, 0.        ,\n",
              "          0.        , 0.02118663, 0.02899143, 0.        , 0.02286273,\n",
              "          0.09497426, 0.        ],\n",
              "         [0.02714291, 0.02139369, 0.        , 0.        , 0.0105909 ,\n",
              "          0.01020545, 0.        , 0.09362368, 0.        , 0.07582721,\n",
              "          0.02997686, 0.        , 0.        , 0.0477158 , 0.04952969,\n",
              "          0.01719879, 0.02655483, 0.        , 0.00775863, 0.        ,\n",
              "          0.        , 0.        , 0.07135615, 0.00516148, 0.        ,\n",
              "          0.        , 0.02118663, 0.02899143, 0.        , 0.02286273,\n",
              "          0.09497425, 0.        ],\n",
              "         [0.02714292, 0.02139369, 0.        , 0.        , 0.0105909 ,\n",
              "          0.01020544, 0.        , 0.09362368, 0.        , 0.0758272 ,\n",
              "          0.02997684, 0.        , 0.        , 0.04771581, 0.04952969,\n",
              "          0.01719878, 0.02655483, 0.        , 0.00775862, 0.        ,\n",
              "          0.        , 0.        , 0.07135615, 0.00516148, 0.        ,\n",
              "          0.        , 0.02118662, 0.02899143, 0.        , 0.02286274,\n",
              "          0.09497425, 0.        ],\n",
              "         [0.02714292, 0.02139369, 0.        , 0.        , 0.0105909 ,\n",
              "          0.01020543, 0.        , 0.09362368, 0.        , 0.0758272 ,\n",
              "          0.02997685, 0.        , 0.        , 0.04771581, 0.04952969,\n",
              "          0.01719878, 0.02655483, 0.        , 0.00775864, 0.        ,\n",
              "          0.        , 0.        , 0.07135616, 0.00516148, 0.        ,\n",
              "          0.        , 0.02118663, 0.02899144, 0.        , 0.02286273,\n",
              "          0.09497426, 0.        ],\n",
              "         [0.02714292, 0.02139369, 0.        , 0.        , 0.0105909 ,\n",
              "          0.01020544, 0.        , 0.09362368, 0.        , 0.0758272 ,\n",
              "          0.02997684, 0.        , 0.        , 0.04771581, 0.04952969,\n",
              "          0.01719878, 0.02655484, 0.        , 0.00775862, 0.        ,\n",
              "          0.        , 0.        , 0.07135615, 0.00516149, 0.        ,\n",
              "          0.        , 0.02118663, 0.02899143, 0.        , 0.02286273,\n",
              "          0.09497425, 0.        ]]], dtype=float32)>,\n",
              " <tf.Tensor: shape=(1, 32), dtype=float32, numpy=\n",
              " array([[0.02714292, 0.09937127, 0.01372178, 0.03343971, 0.08102117,\n",
              "         0.08205677, 0.04269006, 0.17590988, 0.01096325, 0.08561113,\n",
              "         0.03041293, 0.01303993, 0.03068786, 0.04771581, 0.04952969,\n",
              "         0.10781166, 0.03938801, 0.01269513, 0.07649046, 0.05490901,\n",
              "         0.03078138, 0.        , 0.09101401, 0.04497229, 0.        ,\n",
              "         0.07272126, 0.04508165, 0.06672576, 0.01403824, 0.07366994,\n",
              "         0.11638466, 0.        ]], dtype=float32)>)"
            ]
          },
          "metadata": {},
          "execution_count": 73
        }
      ]
    },
    {
      "cell_type": "code",
      "source": [
        "# Set random seed and create embedding layer (new embedding layer for each model)\n",
        "tf.random.set_seed(42)\n",
        "from tensorflow.keras import layers\n",
        "model_5_embedding = layers.Embedding(input_dim=max_vocab_length,\n",
        "                                     output_dim=128,\n",
        "                                     embeddings_initializer=\"uniform\",\n",
        "                                     input_length=max_length,\n",
        "                                     name=\"embedding_5\")\n",
        "\n",
        "# Create 1-dimensional convolutional layer to model sequences\n",
        "from tensorflow.keras import layers\n",
        "inputs = layers.Input(shape=(1,), dtype=\"string\")\n",
        "x = text_vectorizer(inputs)\n",
        "x = model_5_embedding(x)\n",
        "x = layers.Conv1D(filters=32, kernel_size=5, activation=\"relu\")(x)\n",
        "x = layers.GlobalMaxPool1D()(x)\n",
        "# x = layers.Dense(64, activation=\"relu\")(x) # optional dense layer\n",
        "outputs = layers.Dense(1, activation=\"sigmoid\")(x)\n",
        "model_5 = tf.keras.Model(inputs, outputs, name=\"model_5_Conv1D\")\n",
        "\n",
        "# Compile Conv1D model\n",
        "model_5.compile(loss=\"binary_crossentropy\",\n",
        "                optimizer=tf.keras.optimizers.Adam(),\n",
        "                metrics=[\"accuracy\"])\n",
        "\n",
        "# Get a summary of our 1D convolution model\n",
        "model_5.summary()"
      ],
      "metadata": {
        "colab": {
          "base_uri": "https://localhost:8080/"
        },
        "id": "b5fGtZaho1hB",
        "outputId": "02e5a2bd-ec85-4d2c-ccb8-509f49d26d5e"
      },
      "execution_count": null,
      "outputs": [
        {
          "output_type": "stream",
          "name": "stdout",
          "text": [
            "Model: \"model_5_Conv1D\"\n",
            "_________________________________________________________________\n",
            " Layer (type)                Output Shape              Param #   \n",
            "=================================================================\n",
            " input_5 (InputLayer)        [(None, 1)]               0         \n",
            "                                                                 \n",
            " text_vectorization_1 (TextV  (None, 15)               0         \n",
            " ectorization)                                                   \n",
            "                                                                 \n",
            " embedding_5 (Embedding)     (None, 15, 128)           1280000   \n",
            "                                                                 \n",
            " conv1d_1 (Conv1D)           (None, 11, 32)            20512     \n",
            "                                                                 \n",
            " global_max_pooling1d_1 (Glo  (None, 32)               0         \n",
            " balMaxPooling1D)                                                \n",
            "                                                                 \n",
            " dense_4 (Dense)             (None, 1)                 33        \n",
            "                                                                 \n",
            "=================================================================\n",
            "Total params: 1,300,545\n",
            "Trainable params: 1,300,545\n",
            "Non-trainable params: 0\n",
            "_________________________________________________________________\n"
          ]
        }
      ]
    },
    {
      "cell_type": "code",
      "source": [
        "# Fit the model\n",
        "model_5_history = model_5.fit(train_sentences,\n",
        "                              train_labels,\n",
        "                              epochs=5,\n",
        "                              validation_data=(val_sentences, val_labels),\n",
        "                              callbacks=[create_tensorboard_callback(SAVE_DIR, \n",
        "                                                                     \"Conv1D\")])"
      ],
      "metadata": {
        "colab": {
          "base_uri": "https://localhost:8080/"
        },
        "id": "3bDvQZZqpcNb",
        "outputId": "f44f17ce-5c1b-427a-df98-ef04dbce0701"
      },
      "execution_count": null,
      "outputs": [
        {
          "output_type": "stream",
          "name": "stdout",
          "text": [
            "Saving TensorBoard log files to: model_logs/Conv1D/20220511-225005\n",
            "Epoch 1/5\n",
            "215/215 [==============================] - 3s 7ms/step - loss: 0.5652 - accuracy: 0.7141 - val_loss: 0.4733 - val_accuracy: 0.7795\n",
            "Epoch 2/5\n",
            "215/215 [==============================] - 1s 6ms/step - loss: 0.3380 - accuracy: 0.8615 - val_loss: 0.4758 - val_accuracy: 0.7730\n",
            "Epoch 3/5\n",
            "215/215 [==============================] - 1s 6ms/step - loss: 0.2070 - accuracy: 0.9234 - val_loss: 0.5457 - val_accuracy: 0.7730\n",
            "Epoch 4/5\n",
            "215/215 [==============================] - 1s 6ms/step - loss: 0.1314 - accuracy: 0.9578 - val_loss: 0.6163 - val_accuracy: 0.7730\n",
            "Epoch 5/5\n",
            "215/215 [==============================] - 1s 5ms/step - loss: 0.0933 - accuracy: 0.9691 - val_loss: 0.6779 - val_accuracy: 0.7782\n"
          ]
        }
      ]
    },
    {
      "cell_type": "code",
      "source": [
        "# Make predictions with model_5\n",
        "model_5_pred_probs = model_5.predict(val_sentences)\n",
        "model_5_pred_probs[:10]"
      ],
      "metadata": {
        "colab": {
          "base_uri": "https://localhost:8080/"
        },
        "id": "FYvd7xAZpiOx",
        "outputId": "fa7a3c39-4e80-4c90-d668-500991ad64d2"
      },
      "execution_count": null,
      "outputs": [
        {
          "output_type": "execute_result",
          "data": {
            "text/plain": [
              "array([[0.22534485],\n",
              "       [0.7534112 ],\n",
              "       [0.9995602 ],\n",
              "       [0.05562789],\n",
              "       [0.01449848],\n",
              "       [0.9858518 ],\n",
              "       [0.98418933],\n",
              "       [0.99758804],\n",
              "       [0.99862623],\n",
              "       [0.26914376]], dtype=float32)"
            ]
          },
          "metadata": {},
          "execution_count": 76
        }
      ]
    },
    {
      "cell_type": "code",
      "source": [
        "# Convert model_5 prediction probabilities to labels\n",
        "model_5_preds = tf.squeeze(tf.round(model_5_pred_probs))\n",
        "model_5_preds[:10]"
      ],
      "metadata": {
        "colab": {
          "base_uri": "https://localhost:8080/"
        },
        "id": "G5F4DhlVp3Yh",
        "outputId": "f45aa4f1-ecc9-4415-f540-b2412a58cad8"
      },
      "execution_count": null,
      "outputs": [
        {
          "output_type": "execute_result",
          "data": {
            "text/plain": [
              "<tf.Tensor: shape=(10,), dtype=float32, numpy=array([0., 1., 1., 0., 0., 1., 1., 1., 1., 0.], dtype=float32)>"
            ]
          },
          "metadata": {},
          "execution_count": 77
        }
      ]
    },
    {
      "cell_type": "code",
      "source": [
        "# Calculate model_5 evaluation metrics \n",
        "model_5_results = calculate_results(y_true=val_labels, \n",
        "                                    y_pred=model_5_preds)\n",
        "model_5_results"
      ],
      "metadata": {
        "colab": {
          "base_uri": "https://localhost:8080/"
        },
        "id": "M19tRpimptaq",
        "outputId": "61405e19-7b69-40bd-bc6d-14bfdf9a394d"
      },
      "execution_count": null,
      "outputs": [
        {
          "output_type": "execute_result",
          "data": {
            "text/plain": [
              "{'accuracy': 77.82152230971128,\n",
              " 'f1': 0.7758810170952618,\n",
              " 'precision': 0.7807522349051432,\n",
              " 'recall': 0.7782152230971129}"
            ]
          },
          "metadata": {},
          "execution_count": 78
        }
      ]
    },
    {
      "cell_type": "code",
      "source": [
        "# Compare model_5 results to baseline \n",
        "import numpy as np\n",
        "np.array(list(model_5_results.values())) > np.array(list(baseline_results.values()))"
      ],
      "metadata": {
        "colab": {
          "base_uri": "https://localhost:8080/"
        },
        "id": "tsT5GCe7pvr1",
        "outputId": "6e4a01cc-6388-4e32-dda5-d6161dc3d6a8"
      },
      "execution_count": null,
      "outputs": [
        {
          "output_type": "execute_result",
          "data": {
            "text/plain": [
              "array([False, False, False, False])"
            ]
          },
          "metadata": {},
          "execution_count": 79
        }
      ]
    },
    {
      "cell_type": "markdown",
      "source": [
        "###Model 6: TensorFlow Hub Pretrained Sentence Encode\n",
        "\n",
        "The main difference between the embedding layer we created and the Universal Sentence Encoder is that rather than create a word-level embedding, the Universal Sentence Encoder, as you might've guessed, creates a whole sentence-level embedding.\n",
        "\n",
        "Our embedding layer also outputs an a 128 dimensional vector for each word, where as, the Universal Sentence Encoder outputs a 512 dimensional vector for each sentence.\n",
        "\n",
        "![imagen.png](data:image/png;base64,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)\n",
        "\n",
        "The feature extractor model we're building through the eyes of an encoder/decoder model.\n",
        "\n",
        ">🔑 Note: An encoder is the name for a model which converts raw data such as text into a numerical representation (feature vector), a decoder converts the numerical representation to a desired output.\n",
        "\n",
        "As usual, this is best demonstrated with an example.\n",
        "\n",
        "We can load in a TensorFlow Hub module using the hub.load() method and passing it the target URL of the module we'd like to use, in our case, it's \"https://tfhub.dev/google/universal-sentence-encoder/4\".\n",
        "\n",
        "Let's load the Universal Sentence Encoder model and test it on a couple of sentences."
      ],
      "metadata": {
        "id": "PhTDgEBwWupe"
      }
    },
    {
      "cell_type": "code",
      "source": [
        "# Example of pretrained embedding with universal sentence encoder - https://tfhub.dev/google/universal-sentence-encoder/4\n",
        "import tensorflow_hub as hub\n",
        "embed = hub.load(\"https://tfhub.dev/google/universal-sentence-encoder/4\") # load Universal Sentence Encoder\n",
        "embed_samples = embed([sample_sentence,\n",
        "                      \"When you call the universal sentence encoder on a sentence, it turns it into numbers.\"])\n",
        "\n",
        "print(embed_samples[0][:50])"
      ],
      "metadata": {
        "colab": {
          "base_uri": "https://localhost:8080/"
        },
        "id": "ZyVBO6liWyX9",
        "outputId": "b3bc2876-b679-4e11-8afa-f6aee2820928"
      },
      "execution_count": null,
      "outputs": [
        {
          "output_type": "stream",
          "name": "stdout",
          "text": [
            "tf.Tensor(\n",
            "[-0.01157028  0.0248591   0.02878048 -0.012715    0.03971538  0.0882776\n",
            "  0.02680984  0.05589836 -0.0106873  -0.00597291  0.00639323 -0.01819518\n",
            "  0.00030813  0.09105888  0.05874644 -0.03180628  0.01512474 -0.05162929\n",
            "  0.00991367 -0.06865347 -0.04209306  0.02678981  0.03011006  0.00321069\n",
            " -0.00337973 -0.04787357  0.0226672  -0.00985925 -0.04063613 -0.01292092\n",
            " -0.04666384  0.05630299 -0.03949255  0.00517686  0.02495829 -0.0701444\n",
            "  0.02871508  0.04947684 -0.00633979 -0.08960192  0.02807118 -0.00808364\n",
            " -0.01360602  0.0599865  -0.10361787 -0.05195374  0.00232954 -0.02332531\n",
            " -0.03758105  0.03327728], shape=(50,), dtype=float32)\n"
          ]
        }
      ]
    },
    {
      "cell_type": "code",
      "source": [
        "# Each sentence has been encoded into a 512 dimension vector\n",
        "embed_samples[0].shape"
      ],
      "metadata": {
        "colab": {
          "base_uri": "https://localhost:8080/"
        },
        "id": "sh7lMmoaYC_M",
        "outputId": "6aaa28ff-7577-412e-9835-a10f913e4277"
      },
      "execution_count": null,
      "outputs": [
        {
          "output_type": "execute_result",
          "data": {
            "text/plain": [
              "TensorShape([512])"
            ]
          },
          "metadata": {},
          "execution_count": 81
        }
      ]
    },
    {
      "cell_type": "markdown",
      "source": [
        "\n",
        "\n",
        "Passing our sentences to the Universal Sentence Encoder (USE) encodes them from strings to 512 dimensional vectors, which make no sense to us but hopefully make sense to our machine learning models.\n",
        "\n",
        "Speaking of models, let's build one with the USE as our embedding layer.\n",
        "\n",
        "We can convert the TensorFlow Hub USE module into a Keras layer using the hub.KerasLayer class.\n",
        "\n",
        ">🔑 Note: Due to the size of the USE TensorFlow Hub module, it may take a little while to download. Once it's downloaded though, it'll be cached and ready to use. And as with many TensorFlow Hub modules, there is a [\"lite\" version of the USE](https://tfhub.dev/google/universal-sentence-encoder-lite/2) which takes up less space but sacrifices some performance and requires more preprocessing steps. However, depending on your available compute power, the lite version may be better for your application use case."
      ],
      "metadata": {
        "id": "ze3qGhzOYD-L"
      }
    },
    {
      "cell_type": "code",
      "source": [
        "# We can use this encoding layer in place of our text_vectorizer and embedding layer\n",
        "sentence_encoder_layer = hub.KerasLayer(\"https://tfhub.dev/google/universal-sentence-encoder/4\",\n",
        "                                        input_shape=[], # shape of inputs coming to our model \n",
        "                                        dtype=tf.string, # data type of inputs coming to the USE layer\n",
        "                                        trainable=False, # keep the pretrained weights (we'll create a feature extractor)\n",
        "                                        name=\"USE\") "
      ],
      "metadata": {
        "id": "rvmrZa-cYpe5"
      },
      "execution_count": null,
      "outputs": []
    },
    {
      "cell_type": "markdown",
      "source": [
        "Beautiful! Now we've got the USE as a Keras layer, we can use it in a Keras Sequential model."
      ],
      "metadata": {
        "id": "byfuUuKqY7m-"
      }
    },
    {
      "cell_type": "code",
      "source": [
        "# Create model using the Sequential API\n",
        "model_6 = tf.keras.Sequential([\n",
        "  sentence_encoder_layer, # take in sentences and then encode them into an embedding\n",
        "  layers.Dense(64, activation=\"relu\"),\n",
        "  layers.Dense(1, activation=\"sigmoid\")\n",
        "], name=\"model_6_USE\")\n",
        "\n",
        "# Compile model\n",
        "model_6.compile(loss=\"binary_crossentropy\",\n",
        "                optimizer=tf.keras.optimizers.Adam(),\n",
        "                metrics=[\"accuracy\"])\n",
        "\n",
        "model_6.summary()"
      ],
      "metadata": {
        "colab": {
          "base_uri": "https://localhost:8080/"
        },
        "id": "YPw4VChSY8nv",
        "outputId": "74b192ab-2ecc-4fba-b8f5-a7ad5b6ff236"
      },
      "execution_count": null,
      "outputs": [
        {
          "output_type": "stream",
          "name": "stdout",
          "text": [
            "Model: \"model_6_USE\"\n",
            "_________________________________________________________________\n",
            " Layer (type)                Output Shape              Param #   \n",
            "=================================================================\n",
            " USE (KerasLayer)            (None, 512)               256797824 \n",
            "                                                                 \n",
            " dense_5 (Dense)             (None, 64)                32832     \n",
            "                                                                 \n",
            " dense_6 (Dense)             (None, 1)                 65        \n",
            "                                                                 \n",
            "=================================================================\n",
            "Total params: 256,830,721\n",
            "Trainable params: 32,897\n",
            "Non-trainable params: 256,797,824\n",
            "_________________________________________________________________\n"
          ]
        }
      ]
    },
    {
      "cell_type": "markdown",
      "source": [
        "Notice the number of paramters in the USE layer, these are the pretrained weights its learned on various text sources (Wikipedia, web news, web question-answer forums, etc, see the Universal Sentence Encoder paper for more).\n",
        "\n",
        "The trainable parameters are only in our output layers, in other words, we're keeping the USE weights frozen and using it as a feature-extractor. We could fine-tune these weights by setting trainable=True when creating the hub.KerasLayer instance.\n",
        "\n",
        "Now we've got a feature extractor model ready, let's train it and track its results to TensorBoard using our create_tensorboard_callback() function.\n"
      ],
      "metadata": {
        "id": "S_-hwTgnZEQm"
      }
    },
    {
      "cell_type": "code",
      "source": [
        "# Train a classifier on top of pretrained embeddings\n",
        "model_6_history = model_6.fit(train_sentences,\n",
        "                              train_labels,\n",
        "                              epochs=5,\n",
        "                              validation_data=(val_sentences, val_labels),\n",
        "                              callbacks=[create_tensorboard_callback(SAVE_DIR, \n",
        "                                                                     \"tf_hub_sentence_encoder\")])"
      ],
      "metadata": {
        "colab": {
          "base_uri": "https://localhost:8080/"
        },
        "id": "m4Uy8PTSZEDP",
        "outputId": "a2e5d91d-69a4-4e23-f996-99a127f07153"
      },
      "execution_count": null,
      "outputs": [
        {
          "output_type": "stream",
          "name": "stdout",
          "text": [
            "Saving TensorBoard log files to: model_logs/tf_hub_sentence_encoder/20220511-225038\n",
            "Epoch 1/5\n",
            "215/215 [==============================] - 6s 15ms/step - loss: 0.5008 - accuracy: 0.7892 - val_loss: 0.4478 - val_accuracy: 0.7966\n",
            "Epoch 2/5\n",
            "215/215 [==============================] - 3s 13ms/step - loss: 0.4144 - accuracy: 0.8133 - val_loss: 0.4369 - val_accuracy: 0.8058\n",
            "Epoch 3/5\n",
            "215/215 [==============================] - 3s 13ms/step - loss: 0.3998 - accuracy: 0.8212 - val_loss: 0.4329 - val_accuracy: 0.8110\n",
            "Epoch 4/5\n",
            "215/215 [==============================] - 3s 13ms/step - loss: 0.3925 - accuracy: 0.8266 - val_loss: 0.4288 - val_accuracy: 0.8110\n",
            "Epoch 5/5\n",
            "215/215 [==============================] - 3s 14ms/step - loss: 0.3860 - accuracy: 0.8276 - val_loss: 0.4309 - val_accuracy: 0.8123\n"
          ]
        }
      ]
    },
    {
      "cell_type": "code",
      "source": [
        "# Make predictions with USE TF Hub model\n",
        "model_6_pred_probs = model_6.predict(val_sentences)\n",
        "model_6_pred_probs[:10]"
      ],
      "metadata": {
        "colab": {
          "base_uri": "https://localhost:8080/"
        },
        "id": "TKM0jQvOZJlM",
        "outputId": "b7f75ad5-7563-4f45-c1d1-3446681fe4d7"
      },
      "execution_count": null,
      "outputs": [
        {
          "output_type": "execute_result",
          "data": {
            "text/plain": [
              "array([[0.14443192],\n",
              "       [0.7271505 ],\n",
              "       [0.9856655 ],\n",
              "       [0.19740927],\n",
              "       [0.73417026],\n",
              "       [0.68596625],\n",
              "       [0.9808888 ],\n",
              "       [0.9741101 ],\n",
              "       [0.9157322 ],\n",
              "       [0.08070081]], dtype=float32)"
            ]
          },
          "metadata": {},
          "execution_count": 85
        }
      ]
    },
    {
      "cell_type": "code",
      "source": [
        "# Convert prediction probabilities to labels\n",
        "model_6_preds = tf.squeeze(tf.round(model_6_pred_probs))\n",
        "model_6_preds[:10]"
      ],
      "metadata": {
        "colab": {
          "base_uri": "https://localhost:8080/"
        },
        "id": "kou0Q7MCZjzk",
        "outputId": "3a570791-1dcf-4ad2-c05a-9a32b6692ed5"
      },
      "execution_count": null,
      "outputs": [
        {
          "output_type": "execute_result",
          "data": {
            "text/plain": [
              "<tf.Tensor: shape=(10,), dtype=float32, numpy=array([0., 1., 1., 0., 1., 1., 1., 1., 1., 0.], dtype=float32)>"
            ]
          },
          "metadata": {},
          "execution_count": 86
        }
      ]
    },
    {
      "cell_type": "code",
      "source": [
        "# Calculate model 6 performance metrics\n",
        "model_6_results = calculate_results(val_labels, model_6_preds)\n",
        "model_6_results"
      ],
      "metadata": {
        "colab": {
          "base_uri": "https://localhost:8080/"
        },
        "id": "TBIDUI9WZL1Z",
        "outputId": "cdf4210d-6889-4488-e45f-9ccffefdd75c"
      },
      "execution_count": null,
      "outputs": [
        {
          "output_type": "execute_result",
          "data": {
            "text/plain": [
              "{'accuracy': 81.23359580052494,\n",
              " 'f1': 0.810686575717776,\n",
              " 'precision': 0.8148798668657973,\n",
              " 'recall': 0.8123359580052494}"
            ]
          },
          "metadata": {},
          "execution_count": 87
        }
      ]
    },
    {
      "cell_type": "code",
      "source": [
        "# Compare model_6 results to baseline \n",
        "import numpy as np\n",
        "np.array(list(model_6_results.values())) > np.array(list(baseline_results.values()))"
      ],
      "metadata": {
        "colab": {
          "base_uri": "https://localhost:8080/"
        },
        "id": "-r_1W0rGZOF0",
        "outputId": "74d1a5b2-87b9-4b9a-bf1a-8fc8028369f5"
      },
      "execution_count": null,
      "outputs": [
        {
          "output_type": "execute_result",
          "data": {
            "text/plain": [
              "array([ True,  True,  True,  True])"
            ]
          },
          "metadata": {},
          "execution_count": 88
        }
      ]
    },
    {
      "cell_type": "markdown",
      "source": [
        "###Model 7: TensorFlow Hub Pretrained Sentence Encoder 10% of the training data\n",
        "\n",
        "One of the benefits of using transfer learning methods, such as, the pretrained embeddings within the USE is the ability to get great results on a small amount of data (the USE paper even mentions this in the abstract).\n",
        "\n",
        "To put this to the test, we're going to make a small subset of the training data (10%), train a model and evaluate it."
      ],
      "metadata": {
        "id": "yydkiUI5cB4o"
      }
    },
    {
      "cell_type": "code",
      "source": [
        "### NOTE: Making splits like this will lead to data leakage ###\n",
        "### (some of the training examples in the validation set) ###\n",
        "\n",
        "### WRONG WAY TO MAKE SPLITS (train_df_shuffled has already been split) ### \n",
        "\n",
        "# # Create subsets of 10% of the training data\n",
        "# train_10_percent = train_df_shuffled[[\"text\", \"target\"]].sample(frac=0.1, random_state=42)\n",
        "# train_sentences_10_percent = train_10_percent[\"text\"].to_list()\n",
        "# train_labels_10_percent = train_10_percent[\"target\"].to_list()\n",
        "# len(train_sentences_10_percent), len(train_labels_10_percent)"
      ],
      "metadata": {
        "id": "eHzJ2C4dcUJi"
      },
      "execution_count": null,
      "outputs": []
    },
    {
      "cell_type": "code",
      "source": [
        "# One kind of correct way (there are more) to make data subset\n",
        "# (split the already split train_sentences/train_labels)\n",
        "train_sentences_90_percent, train_sentences_10_percent, train_labels_90_percent, train_labels_10_percent = train_test_split(np.array(train_sentences),\n",
        "                                                                                                                            train_labels,\n",
        "                                                                                                                            test_size=0.1,\n",
        "                                                                                                                            random_state=42)"
      ],
      "metadata": {
        "id": "DnbcF8DEcVCx"
      },
      "execution_count": null,
      "outputs": []
    },
    {
      "cell_type": "code",
      "source": [
        "# Check length of 10 percent datasets\n",
        "print(f\"Total training examples: {len(train_sentences)}\")\n",
        "print(f\"Length of 10% training examples: {len(train_sentences_10_percent)}\")"
      ],
      "metadata": {
        "colab": {
          "base_uri": "https://localhost:8080/"
        },
        "id": "c_RJz5fWcrPa",
        "outputId": "3c8c29a3-d93b-4e1b-dd76-cc230363c690"
      },
      "execution_count": null,
      "outputs": [
        {
          "output_type": "stream",
          "name": "stdout",
          "text": [
            "Total training examples: 6851\n",
            "Length of 10% training examples: 686\n"
          ]
        }
      ]
    },
    {
      "cell_type": "markdown",
      "source": [
        "Because we've selected a random subset of the training samples, the classes should be roughly balanced (as they are in the full training dataset)."
      ],
      "metadata": {
        "id": "PFW533qecwKj"
      }
    },
    {
      "cell_type": "code",
      "source": [
        "# Check the number of targets in our subset of data \n",
        "# (this should be close to the distribution of labels in the original train_labels)\n",
        "pd.Series(train_labels_10_percent).value_counts()"
      ],
      "metadata": {
        "colab": {
          "base_uri": "https://localhost:8080/"
        },
        "id": "Xva1uN8ecv2Q",
        "outputId": "18816fd5-8e59-43d5-a8c1-f1ddd8bcc924"
      },
      "execution_count": null,
      "outputs": [
        {
          "output_type": "execute_result",
          "data": {
            "text/plain": [
              "0    415\n",
              "1    271\n",
              "dtype: int64"
            ]
          },
          "metadata": {},
          "execution_count": 92
        }
      ]
    },
    {
      "cell_type": "markdown",
      "source": [
        "To make sure we're making an appropriate comparison between our model's ability to learn from the full training set and 10% subset, we'll clone our USE model (model_6) using the tf.keras.models.clone_model() method.\n",
        "\n",
        "Doing this will create the same architecture but reset the learned weights of the clone target (pretrained weights from the USE will remain but all others will be reset)."
      ],
      "metadata": {
        "id": "mTRzzFVdc1Ug"
      }
    },
    {
      "cell_type": "code",
      "source": [
        "# Clone model_6 but reset weights\n",
        "model_7 = tf.keras.models.clone_model(model_6)\n",
        "\n",
        "# Compile model\n",
        "model_7.compile(loss=\"binary_crossentropy\",\n",
        "                optimizer=tf.keras.optimizers.Adam(),\n",
        "                metrics=[\"accuracy\"])\n",
        "\n",
        "# Get a summary (will be same as model_6)\n",
        "model_7.summary()"
      ],
      "metadata": {
        "colab": {
          "base_uri": "https://localhost:8080/"
        },
        "id": "Bpa7BCBVcynf",
        "outputId": "dbf5bcfb-b935-429f-feb8-6ebe7df1adcd"
      },
      "execution_count": null,
      "outputs": [
        {
          "output_type": "stream",
          "name": "stdout",
          "text": [
            "Model: \"model_6_USE\"\n",
            "_________________________________________________________________\n",
            " Layer (type)                Output Shape              Param #   \n",
            "=================================================================\n",
            " USE (KerasLayer)            (None, 512)               256797824 \n",
            "                                                                 \n",
            " dense_5 (Dense)             (None, 64)                32832     \n",
            "                                                                 \n",
            " dense_6 (Dense)             (None, 1)                 65        \n",
            "                                                                 \n",
            "=================================================================\n",
            "Total params: 256,830,721\n",
            "Trainable params: 32,897\n",
            "Non-trainable params: 256,797,824\n",
            "_________________________________________________________________\n"
          ]
        }
      ]
    },
    {
      "cell_type": "code",
      "source": [
        "# Fit the model to 10% of the training data\n",
        "model_7_history = model_7.fit(x=train_sentences_10_percent,\n",
        "                              y=train_labels_10_percent,\n",
        "                              epochs=5,\n",
        "                              validation_data=(val_sentences, val_labels),\n",
        "                              callbacks=[create_tensorboard_callback(SAVE_DIR, \"10_percent_tf_hub_sentence_encoder\")])"
      ],
      "metadata": {
        "colab": {
          "base_uri": "https://localhost:8080/"
        },
        "id": "SFmKJMfjc5GB",
        "outputId": "619e115b-d753-4c7b-aded-497ddb14339d"
      },
      "execution_count": null,
      "outputs": [
        {
          "output_type": "stream",
          "name": "stdout",
          "text": [
            "Saving TensorBoard log files to: model_logs/10_percent_tf_hub_sentence_encoder/20220511-225059\n",
            "Epoch 1/5\n",
            "22/22 [==============================] - 4s 48ms/step - loss: 0.6716 - accuracy: 0.6574 - val_loss: 0.6526 - val_accuracy: 0.6903\n",
            "Epoch 2/5\n",
            "22/22 [==============================] - 1s 28ms/step - loss: 0.5972 - accuracy: 0.8032 - val_loss: 0.5944 - val_accuracy: 0.7362\n",
            "Epoch 3/5\n",
            "22/22 [==============================] - 1s 27ms/step - loss: 0.5178 - accuracy: 0.8149 - val_loss: 0.5398 - val_accuracy: 0.7625\n",
            "Epoch 4/5\n",
            "22/22 [==============================] - 1s 27ms/step - loss: 0.4526 - accuracy: 0.8265 - val_loss: 0.5084 - val_accuracy: 0.7677\n",
            "Epoch 5/5\n",
            "22/22 [==============================] - 1s 25ms/step - loss: 0.4094 - accuracy: 0.8382 - val_loss: 0.4915 - val_accuracy: 0.7703\n"
          ]
        }
      ]
    },
    {
      "cell_type": "code",
      "source": [
        "# Make predictions with the model trained on 10% of the data\n",
        "model_7_pred_probs = model_7.predict(val_sentences)\n",
        "model_7_pred_probs[:10]"
      ],
      "metadata": {
        "colab": {
          "base_uri": "https://localhost:8080/"
        },
        "id": "wo5J9m8Hc-Wh",
        "outputId": "bf23d19c-8eb8-4c81-ae3e-e00496fd62e2"
      },
      "execution_count": null,
      "outputs": [
        {
          "output_type": "execute_result",
          "data": {
            "text/plain": [
              "array([[0.24043241],\n",
              "       [0.7683785 ],\n",
              "       [0.90137184],\n",
              "       [0.29067948],\n",
              "       [0.57149994],\n",
              "       [0.83565134],\n",
              "       [0.8062943 ],\n",
              "       [0.83358175],\n",
              "       [0.8554568 ],\n",
              "       [0.11749922]], dtype=float32)"
            ]
          },
          "metadata": {},
          "execution_count": 95
        }
      ]
    },
    {
      "cell_type": "code",
      "source": [
        "# Convert prediction probabilities to labels\n",
        "model_7_preds = tf.squeeze(tf.round(model_7_pred_probs))\n",
        "model_7_preds[:10]"
      ],
      "metadata": {
        "colab": {
          "base_uri": "https://localhost:8080/"
        },
        "id": "fpeMKd7ydAU5",
        "outputId": "6850a97d-0676-4373-8cf4-0afa26724265"
      },
      "execution_count": null,
      "outputs": [
        {
          "output_type": "execute_result",
          "data": {
            "text/plain": [
              "<tf.Tensor: shape=(10,), dtype=float32, numpy=array([0., 1., 1., 0., 1., 1., 1., 1., 1., 0.], dtype=float32)>"
            ]
          },
          "metadata": {},
          "execution_count": 96
        }
      ]
    },
    {
      "cell_type": "code",
      "source": [
        "# Calculate model results\n",
        "model_7_results = calculate_results(val_labels, model_7_preds)\n",
        "model_7_results"
      ],
      "metadata": {
        "colab": {
          "base_uri": "https://localhost:8080/"
        },
        "id": "DJwyvAmddBIr",
        "outputId": "718998b3-a201-4aa8-b382-cb43b19a7aa7"
      },
      "execution_count": null,
      "outputs": [
        {
          "output_type": "execute_result",
          "data": {
            "text/plain": [
              "{'accuracy': 77.03412073490814,\n",
              " 'f1': 0.7667059443150692,\n",
              " 'precision': 0.7755630249535594,\n",
              " 'recall': 0.7703412073490814}"
            ]
          },
          "metadata": {},
          "execution_count": 97
        }
      ]
    },
    {
      "cell_type": "code",
      "source": [
        "# Compare model_7 results to baseline \n",
        "import numpy as np\n",
        "np.array(list(model_7_results.values())) > np.array(list(baseline_results.values()))"
      ],
      "metadata": {
        "colab": {
          "base_uri": "https://localhost:8080/"
        },
        "id": "ofEjwVF5dD8b",
        "outputId": "b45920a4-4c57-457b-c34d-cd994dc22f24"
      },
      "execution_count": null,
      "outputs": [
        {
          "output_type": "execute_result",
          "data": {
            "text/plain": [
              "array([False, False, False, False])"
            ]
          },
          "metadata": {},
          "execution_count": 98
        }
      ]
    },
    {
      "cell_type": "markdown",
      "source": [
        "##Comparing the performance of each of our models\n",
        "\n",
        "Woah. We've come a long way! From training a baseline to several deep models.\n",
        "\n",
        "Now it's time to compare our model's results.\n",
        "\n",
        "But just before we do, it's worthwhile mentioning, this type of practice is a standard deep learning workflow. Training various different models, then comparing them to see which one performed best and continuing to train it if necessary.\n",
        "\n",
        "The important thing to note is that for all of our modelling experiments we used the same training data (except for model_7 where we used 10% of the training data).\n",
        "\n",
        "To visualize our model's performances, let's create a pandas DataFrame we our results dictionaries and then plot it."
      ],
      "metadata": {
        "id": "EP0sNVfKUvUf"
      }
    },
    {
      "cell_type": "code",
      "source": [
        "# Combine model results into a DataFrame\n",
        "all_model_results = pd.DataFrame({\"baseline\": baseline_results,\n",
        "                                  \"simple_dense\": model_1_results,\n",
        "                                  \"lstm\": model_2_results,\n",
        "                                  \"gru\": model_3_results,\n",
        "                                  \"bidirectional\": model_4_results,\n",
        "                                  \"conv1d\": model_5_results,\n",
        "                                  \"tf_hub_sentence_encoder\": model_6_results,\n",
        "                                  \"tf_hub_10_percent_data\": model_7_results})\n",
        "all_model_results = all_model_results.transpose()\n",
        "all_model_results"
      ],
      "metadata": {
        "colab": {
          "base_uri": "https://localhost:8080/",
          "height": 300
        },
        "id": "1QNrqqORUs7y",
        "outputId": "f348e422-a4b1-4a4f-f5e0-996ccab317f5"
      },
      "execution_count": null,
      "outputs": [
        {
          "output_type": "execute_result",
          "data": {
            "text/plain": [
              "                          accuracy  precision    recall        f1\n",
              "baseline                 79.265092   0.811139  0.792651  0.786219\n",
              "simple_dense             78.083990   0.784127  0.780840  0.778263\n",
              "lstm                     75.065617   0.751008  0.750656  0.748927\n",
              "gru                      76.771654   0.767545  0.767717  0.766793\n",
              "bidirectional            76.640420   0.766590  0.766404  0.765121\n",
              "conv1d                   77.821522   0.780752  0.778215  0.775881\n",
              "tf_hub_sentence_encoder  81.233596   0.814880  0.812336  0.810687\n",
              "tf_hub_10_percent_data   77.034121   0.775563  0.770341  0.766706"
            ],
            "text/html": [
              "\n",
              "  <div id=\"df-30d5f95d-56d3-4697-8eab-03a8e303d3eb\">\n",
              "    <div class=\"colab-df-container\">\n",
              "      <div>\n",
              "<style scoped>\n",
              "    .dataframe tbody tr th:only-of-type {\n",
              "        vertical-align: middle;\n",
              "    }\n",
              "\n",
              "    .dataframe tbody tr th {\n",
              "        vertical-align: top;\n",
              "    }\n",
              "\n",
              "    .dataframe thead th {\n",
              "        text-align: right;\n",
              "    }\n",
              "</style>\n",
              "<table border=\"1\" class=\"dataframe\">\n",
              "  <thead>\n",
              "    <tr style=\"text-align: right;\">\n",
              "      <th></th>\n",
              "      <th>accuracy</th>\n",
              "      <th>precision</th>\n",
              "      <th>recall</th>\n",
              "      <th>f1</th>\n",
              "    </tr>\n",
              "  </thead>\n",
              "  <tbody>\n",
              "    <tr>\n",
              "      <th>baseline</th>\n",
              "      <td>79.265092</td>\n",
              "      <td>0.811139</td>\n",
              "      <td>0.792651</td>\n",
              "      <td>0.786219</td>\n",
              "    </tr>\n",
              "    <tr>\n",
              "      <th>simple_dense</th>\n",
              "      <td>78.083990</td>\n",
              "      <td>0.784127</td>\n",
              "      <td>0.780840</td>\n",
              "      <td>0.778263</td>\n",
              "    </tr>\n",
              "    <tr>\n",
              "      <th>lstm</th>\n",
              "      <td>75.065617</td>\n",
              "      <td>0.751008</td>\n",
              "      <td>0.750656</td>\n",
              "      <td>0.748927</td>\n",
              "    </tr>\n",
              "    <tr>\n",
              "      <th>gru</th>\n",
              "      <td>76.771654</td>\n",
              "      <td>0.767545</td>\n",
              "      <td>0.767717</td>\n",
              "      <td>0.766793</td>\n",
              "    </tr>\n",
              "    <tr>\n",
              "      <th>bidirectional</th>\n",
              "      <td>76.640420</td>\n",
              "      <td>0.766590</td>\n",
              "      <td>0.766404</td>\n",
              "      <td>0.765121</td>\n",
              "    </tr>\n",
              "    <tr>\n",
              "      <th>conv1d</th>\n",
              "      <td>77.821522</td>\n",
              "      <td>0.780752</td>\n",
              "      <td>0.778215</td>\n",
              "      <td>0.775881</td>\n",
              "    </tr>\n",
              "    <tr>\n",
              "      <th>tf_hub_sentence_encoder</th>\n",
              "      <td>81.233596</td>\n",
              "      <td>0.814880</td>\n",
              "      <td>0.812336</td>\n",
              "      <td>0.810687</td>\n",
              "    </tr>\n",
              "    <tr>\n",
              "      <th>tf_hub_10_percent_data</th>\n",
              "      <td>77.034121</td>\n",
              "      <td>0.775563</td>\n",
              "      <td>0.770341</td>\n",
              "      <td>0.766706</td>\n",
              "    </tr>\n",
              "  </tbody>\n",
              "</table>\n",
              "</div>\n",
              "      <button class=\"colab-df-convert\" onclick=\"convertToInteractive('df-30d5f95d-56d3-4697-8eab-03a8e303d3eb')\"\n",
              "              title=\"Convert this dataframe to an interactive table.\"\n",
              "              style=\"display:none;\">\n",
              "        \n",
              "  <svg xmlns=\"http://www.w3.org/2000/svg\" height=\"24px\"viewBox=\"0 0 24 24\"\n",
              "       width=\"24px\">\n",
              "    <path d=\"M0 0h24v24H0V0z\" fill=\"none\"/>\n",
              "    <path d=\"M18.56 5.44l.94 2.06.94-2.06 2.06-.94-2.06-.94-.94-2.06-.94 2.06-2.06.94zm-11 1L8.5 8.5l.94-2.06 2.06-.94-2.06-.94L8.5 2.5l-.94 2.06-2.06.94zm10 10l.94 2.06.94-2.06 2.06-.94-2.06-.94-.94-2.06-.94 2.06-2.06.94z\"/><path d=\"M17.41 7.96l-1.37-1.37c-.4-.4-.92-.59-1.43-.59-.52 0-1.04.2-1.43.59L10.3 9.45l-7.72 7.72c-.78.78-.78 2.05 0 2.83L4 21.41c.39.39.9.59 1.41.59.51 0 1.02-.2 1.41-.59l7.78-7.78 2.81-2.81c.8-.78.8-2.07 0-2.86zM5.41 20L4 18.59l7.72-7.72 1.47 1.35L5.41 20z\"/>\n",
              "  </svg>\n",
              "      </button>\n",
              "      \n",
              "  <style>\n",
              "    .colab-df-container {\n",
              "      display:flex;\n",
              "      flex-wrap:wrap;\n",
              "      gap: 12px;\n",
              "    }\n",
              "\n",
              "    .colab-df-convert {\n",
              "      background-color: #E8F0FE;\n",
              "      border: none;\n",
              "      border-radius: 50%;\n",
              "      cursor: pointer;\n",
              "      display: none;\n",
              "      fill: #1967D2;\n",
              "      height: 32px;\n",
              "      padding: 0 0 0 0;\n",
              "      width: 32px;\n",
              "    }\n",
              "\n",
              "    .colab-df-convert:hover {\n",
              "      background-color: #E2EBFA;\n",
              "      box-shadow: 0px 1px 2px rgba(60, 64, 67, 0.3), 0px 1px 3px 1px rgba(60, 64, 67, 0.15);\n",
              "      fill: #174EA6;\n",
              "    }\n",
              "\n",
              "    [theme=dark] .colab-df-convert {\n",
              "      background-color: #3B4455;\n",
              "      fill: #D2E3FC;\n",
              "    }\n",
              "\n",
              "    [theme=dark] .colab-df-convert:hover {\n",
              "      background-color: #434B5C;\n",
              "      box-shadow: 0px 1px 3px 1px rgba(0, 0, 0, 0.15);\n",
              "      filter: drop-shadow(0px 1px 2px rgba(0, 0, 0, 0.3));\n",
              "      fill: #FFFFFF;\n",
              "    }\n",
              "  </style>\n",
              "\n",
              "      <script>\n",
              "        const buttonEl =\n",
              "          document.querySelector('#df-30d5f95d-56d3-4697-8eab-03a8e303d3eb button.colab-df-convert');\n",
              "        buttonEl.style.display =\n",
              "          google.colab.kernel.accessAllowed ? 'block' : 'none';\n",
              "\n",
              "        async function convertToInteractive(key) {\n",
              "          const element = document.querySelector('#df-30d5f95d-56d3-4697-8eab-03a8e303d3eb');\n",
              "          const dataTable =\n",
              "            await google.colab.kernel.invokeFunction('convertToInteractive',\n",
              "                                                     [key], {});\n",
              "          if (!dataTable) return;\n",
              "\n",
              "          const docLinkHtml = 'Like what you see? Visit the ' +\n",
              "            '<a target=\"_blank\" href=https://colab.research.google.com/notebooks/data_table.ipynb>data table notebook</a>'\n",
              "            + ' to learn more about interactive tables.';\n",
              "          element.innerHTML = '';\n",
              "          dataTable['output_type'] = 'display_data';\n",
              "          await google.colab.output.renderOutput(dataTable, element);\n",
              "          const docLink = document.createElement('div');\n",
              "          docLink.innerHTML = docLinkHtml;\n",
              "          element.appendChild(docLink);\n",
              "        }\n",
              "      </script>\n",
              "    </div>\n",
              "  </div>\n",
              "  "
            ]
          },
          "metadata": {},
          "execution_count": 99
        }
      ]
    },
    {
      "cell_type": "code",
      "source": [
        "# Reduce the accuracy to same scale as other metrics\n",
        "all_model_results[\"accuracy\"] = all_model_results[\"accuracy\"]/100"
      ],
      "metadata": {
        "id": "KcRheD9lWdqB"
      },
      "execution_count": null,
      "outputs": []
    },
    {
      "cell_type": "code",
      "source": [
        "# Plot and compare all of the model results\n",
        "all_model_results.plot(kind=\"bar\", figsize=(10, 7)).legend(bbox_to_anchor=(1.0, 1.0));"
      ],
      "metadata": {
        "colab": {
          "base_uri": "https://localhost:8080/",
          "height": 546
        },
        "id": "Y7nvUc-ZWfs6",
        "outputId": "6264e794-5a12-4d76-d276-a85450f78358"
      },
      "execution_count": null,
      "outputs": [
        {
          "output_type": "display_data",
          "data": {
            "text/plain": [
              "<Figure size 720x504 with 1 Axes>"
            ],
            "image/png": "[encoded data removed]"
          },
          "metadata": {
            "needs_background": "light"
          }
        }
      ]
    },
    {
      "cell_type": "markdown",
      "source": [
        "Looks like our pretrained USE TensorFlow Hub models have the best performance, even the one with only 10% of the training data seems to outperform the other models. This goes to show the power of transfer learning.\n",
        "\n",
        "How about we drill down and get the F1-score's of each model?"
      ],
      "metadata": {
        "id": "YFGwx12hWpP0"
      }
    },
    {
      "cell_type": "code",
      "source": [
        "# Sort model results by f1-score\n",
        "all_model_results.sort_values(\"f1\", ascending=False)[\"f1\"].plot(kind=\"bar\", figsize=(10, 7));"
      ],
      "metadata": {
        "colab": {
          "base_uri": "https://localhost:8080/",
          "height": 546
        },
        "id": "BiyV2M_JWsKA",
        "outputId": "9d586655-cc5a-4b8d-eba0-4bed8eea929b"
      },
      "execution_count": null,
      "outputs": [
        {
          "output_type": "display_data",
          "data": {
            "text/plain": [
              "<Figure size 720x504 with 1 Axes>"
            ],
            "image/png": "[encoded data removed]"
          },
          "metadata": {
            "needs_background": "light"
          }
        }
      ]
    },
    {
      "cell_type": "markdown",
      "source": [
        "Drilling down into a single metric we see our USE TensorFlow Hub models performing better than all of the other models. Interestingly, the baseline's F1-score isn't too far off the rest of the deeper models.\n",
        "\n",
        "We can also visualize all of our model's training logs using TensorBoard.dev."
      ],
      "metadata": {
        "id": "51ZMul34WxgC"
      }
    },
    {
      "cell_type": "code",
      "source": [
        "# # View tensorboard logs of transfer learning modelling experiments (should be 4 models)\n",
        "# # Upload TensorBoard dev records\n",
        "# !tensorboard dev upload --logdir ./model_logs \\\n",
        "#   --name \"NLP modelling experiments\" \\\n",
        "#   --description \"A series of different NLP modellings experiments with various models\" \\\n",
        "#   --one_shot # exits the uploader when upload has finished"
      ],
      "metadata": {
        "id": "IihnHgjuWzRN"
      },
      "execution_count": null,
      "outputs": []
    },
    {
      "cell_type": "markdown",
      "source": [
        "The TensorBoard logs of the different modelling experiments we ran can be viewed here: https://tensorboard.dev/experiment/LkoAakb7QIKBZ0RL97cXbw/"
      ],
      "metadata": {
        "id": "pNxR-YhAW16w"
      }
    },
    {
      "cell_type": "code",
      "source": [
        "# If you need to remove previous experiments, you can do so using the following command\n",
        "# !tensorboard dev delete --experiment_id EXPERIMENT_ID_TO_DELETE"
      ],
      "metadata": {
        "id": "rEME5oZlW8Db"
      },
      "execution_count": null,
      "outputs": []
    },
    {
      "cell_type": "markdown",
      "source": [
        "##Combining our models (model ensembling/stacking)\n",
        "\n",
        "Many production systems use an ensemble (multiple different models combined) of models to make a prediction.\n",
        "\n",
        "The idea behind model stacking is that if several uncorrelated models agree on a prediction, then the prediction must be more robust than a prediction made by a singular model.\n",
        "\n",
        "The keyword in the sentence above is uncorrelated, which is another way of saying, different types of models. For example, in our case, we might combine our baseline, our bidirectional model and our TensorFlow Hub USE model.\n",
        "\n",
        "Although these models are all trained on the same data, they all have a different way of finding patterns.\n",
        "\n",
        "If we were to use three similarly trained models, such as three LSTM models, the predictions they output will likely be very similar.\n",
        "\n",
        "Think of it as trying to decide where to eat with your friends. If you all have similar tastes, you'll probably all pick the same restaurant. But if you've all got different tastes and still end up picking the same restaurant, the restaurant must be good.\n",
        "\n",
        "Since we're working with a classification problem, there are a few of ways we can combine our models:\n",
        "\n",
        "1. Averaging - Take the output prediction probabilities of each model for each sample, combine them and then average them.\n",
        "2. Majority vote (mode) - Make class predictions with each of your models on all samples, the predicted class is the one in majority. For example, if three different models predict [1, 0, 1] respectively, the majority class is 1, therefore, that would be the predicted label.\n",
        "3. Model stacking - Take the outputs of each of your chosen models and use them as inputs to another model.\n",
        "\n",
        "> 📖 Resource: The above methods for model stacking/ensembling were adapted from Chapter 6 of the [Machine Learning Engineering Book](http://www.mlebook.com/wiki/doku.php) by Andriy Burkov. If you're looking to enter the field of machine learning engineering, not only building models but production-scale machine learning systems, I'd highly recommend reading it in its entirety.\n",
        "\n",
        "Again, the concept of model stacking is best seen in action.\n",
        "\n",
        "We're going to combine our baseline model (model_0), LSTM model (model_2) and our USE model trained on the full training data (model_6) by averaging the combined prediction probabilities of each."
      ],
      "metadata": {
        "id": "-mDoQqCQW6kZ"
      }
    },
    {
      "cell_type": "code",
      "source": [
        "# Get mean pred probs for 3 models\n",
        "baseline_pred_probs = np.max(model_0.predict_proba(val_sentences), axis=1) # get the prediction probabilities from baseline model\n",
        "combined_pred_probs = baseline_pred_probs + tf.squeeze(model_2_pred_probs, axis=1) + tf.squeeze(model_6_pred_probs)\n",
        "combined_preds = tf.round(combined_pred_probs/3) # average and round the prediction probabilities to get prediction classes\n",
        "combined_preds[:20]"
      ],
      "metadata": {
        "colab": {
          "base_uri": "https://localhost:8080/"
        },
        "id": "aq6x12uJXdjs",
        "outputId": "08d7a4e3-8960-4154-87bc-48e69ddc62e7"
      },
      "execution_count": null,
      "outputs": [
        {
          "output_type": "execute_result",
          "data": {
            "text/plain": [
              "<tf.Tensor: shape=(20,), dtype=float32, numpy=\n",
              "array([0., 1., 1., 0., 0., 1., 1., 1., 1., 1., 0., 0., 0., 1., 0., 0., 0.,\n",
              "       0., 0., 1.], dtype=float32)>"
            ]
          },
          "metadata": {},
          "execution_count": 103
        }
      ]
    },
    {
      "cell_type": "markdown",
      "source": [
        "Wonderful! We've got a combined predictions array of different classes, let's evaluate them against the true labels and add our stacked model's results to our all_model_results DataFrame."
      ],
      "metadata": {
        "id": "Lg4Sx81fYPPL"
      }
    },
    {
      "cell_type": "code",
      "source": [
        "# Calculate results from averaging the prediction probabilities\n",
        "ensemble_results = calculate_results(val_labels, combined_preds)\n",
        "ensemble_results"
      ],
      "metadata": {
        "colab": {
          "base_uri": "https://localhost:8080/"
        },
        "id": "epoQ5XIaYROT",
        "outputId": "ea71488e-8194-45a9-d850-d5937d4c5e0c"
      },
      "execution_count": null,
      "outputs": [
        {
          "output_type": "execute_result",
          "data": {
            "text/plain": [
              "{'accuracy': 78.08398950131233,\n",
              " 'f1': 0.7805169025578647,\n",
              " 'precision': 0.7805216999297674,\n",
              " 'recall': 0.7808398950131233}"
            ]
          },
          "metadata": {},
          "execution_count": 104
        }
      ]
    },
    {
      "cell_type": "code",
      "source": [
        "# Add our combined model's results to the results DataFrame\n",
        "all_model_results.loc[\"ensemble_results\"] = ensemble_results"
      ],
      "metadata": {
        "id": "oR8dg3Z-YSH7"
      },
      "execution_count": null,
      "outputs": []
    },
    {
      "cell_type": "code",
      "source": [
        "# Convert the accuracy to the same scale as the rest of the results\n",
        "all_model_results.loc[\"ensemble_results\"][\"accuracy\"] = all_model_results.loc[\"ensemble_results\"][\"accuracy\"]/100"
      ],
      "metadata": {
        "id": "6NHYAqaiYUNt"
      },
      "execution_count": null,
      "outputs": []
    },
    {
      "cell_type": "code",
      "source": [
        "all_model_results"
      ],
      "metadata": {
        "colab": {
          "base_uri": "https://localhost:8080/",
          "height": 332
        },
        "id": "YGg_je97YYHb",
        "outputId": "efc19ca4-ef20-437d-94c8-60cf951b10bd"
      },
      "execution_count": null,
      "outputs": [
        {
          "output_type": "execute_result",
          "data": {
            "text/plain": [
              "                         accuracy  precision    recall        f1\n",
              "baseline                 0.792651   0.811139  0.792651  0.786219\n",
              "simple_dense             0.780840   0.784127  0.780840  0.778263\n",
              "lstm                     0.750656   0.751008  0.750656  0.748927\n",
              "gru                      0.767717   0.767545  0.767717  0.766793\n",
              "bidirectional            0.766404   0.766590  0.766404  0.765121\n",
              "conv1d                   0.778215   0.780752  0.778215  0.775881\n",
              "tf_hub_sentence_encoder  0.812336   0.814880  0.812336  0.810687\n",
              "tf_hub_10_percent_data   0.770341   0.775563  0.770341  0.766706\n",
              "ensemble_results         0.780840   0.780522  0.780840  0.780517"
            ],
            "text/html": [
              "\n",
              "  <div id=\"df-1ef996d3-241d-4441-b068-76dcdb830acd\">\n",
              "    <div class=\"colab-df-container\">\n",
              "      <div>\n",
              "<style scoped>\n",
              "    .dataframe tbody tr th:only-of-type {\n",
              "        vertical-align: middle;\n",
              "    }\n",
              "\n",
              "    .dataframe tbody tr th {\n",
              "        vertical-align: top;\n",
              "    }\n",
              "\n",
              "    .dataframe thead th {\n",
              "        text-align: right;\n",
              "    }\n",
              "</style>\n",
              "<table border=\"1\" class=\"dataframe\">\n",
              "  <thead>\n",
              "    <tr style=\"text-align: right;\">\n",
              "      <th></th>\n",
              "      <th>accuracy</th>\n",
              "      <th>precision</th>\n",
              "      <th>recall</th>\n",
              "      <th>f1</th>\n",
              "    </tr>\n",
              "  </thead>\n",
              "  <tbody>\n",
              "    <tr>\n",
              "      <th>baseline</th>\n",
              "      <td>0.792651</td>\n",
              "      <td>0.811139</td>\n",
              "      <td>0.792651</td>\n",
              "      <td>0.786219</td>\n",
              "    </tr>\n",
              "    <tr>\n",
              "      <th>simple_dense</th>\n",
              "      <td>0.780840</td>\n",
              "      <td>0.784127</td>\n",
              "      <td>0.780840</td>\n",
              "      <td>0.778263</td>\n",
              "    </tr>\n",
              "    <tr>\n",
              "      <th>lstm</th>\n",
              "      <td>0.750656</td>\n",
              "      <td>0.751008</td>\n",
              "      <td>0.750656</td>\n",
              "      <td>0.748927</td>\n",
              "    </tr>\n",
              "    <tr>\n",
              "      <th>gru</th>\n",
              "      <td>0.767717</td>\n",
              "      <td>0.767545</td>\n",
              "      <td>0.767717</td>\n",
              "      <td>0.766793</td>\n",
              "    </tr>\n",
              "    <tr>\n",
              "      <th>bidirectional</th>\n",
              "      <td>0.766404</td>\n",
              "      <td>0.766590</td>\n",
              "      <td>0.766404</td>\n",
              "      <td>0.765121</td>\n",
              "    </tr>\n",
              "    <tr>\n",
              "      <th>conv1d</th>\n",
              "      <td>0.778215</td>\n",
              "      <td>0.780752</td>\n",
              "      <td>0.778215</td>\n",
              "      <td>0.775881</td>\n",
              "    </tr>\n",
              "    <tr>\n",
              "      <th>tf_hub_sentence_encoder</th>\n",
              "      <td>0.812336</td>\n",
              "      <td>0.814880</td>\n",
              "      <td>0.812336</td>\n",
              "      <td>0.810687</td>\n",
              "    </tr>\n",
              "    <tr>\n",
              "      <th>tf_hub_10_percent_data</th>\n",
              "      <td>0.770341</td>\n",
              "      <td>0.775563</td>\n",
              "      <td>0.770341</td>\n",
              "      <td>0.766706</td>\n",
              "    </tr>\n",
              "    <tr>\n",
              "      <th>ensemble_results</th>\n",
              "      <td>0.780840</td>\n",
              "      <td>0.780522</td>\n",
              "      <td>0.780840</td>\n",
              "      <td>0.780517</td>\n",
              "    </tr>\n",
              "  </tbody>\n",
              "</table>\n",
              "</div>\n",
              "      <button class=\"colab-df-convert\" onclick=\"convertToInteractive('df-1ef996d3-241d-4441-b068-76dcdb830acd')\"\n",
              "              title=\"Convert this dataframe to an interactive table.\"\n",
              "              style=\"display:none;\">\n",
              "        \n",
              "  <svg xmlns=\"http://www.w3.org/2000/svg\" height=\"24px\"viewBox=\"0 0 24 24\"\n",
              "       width=\"24px\">\n",
              "    <path d=\"M0 0h24v24H0V0z\" fill=\"none\"/>\n",
              "    <path d=\"M18.56 5.44l.94 2.06.94-2.06 2.06-.94-2.06-.94-.94-2.06-.94 2.06-2.06.94zm-11 1L8.5 8.5l.94-2.06 2.06-.94-2.06-.94L8.5 2.5l-.94 2.06-2.06.94zm10 10l.94 2.06.94-2.06 2.06-.94-2.06-.94-.94-2.06-.94 2.06-2.06.94z\"/><path d=\"M17.41 7.96l-1.37-1.37c-.4-.4-.92-.59-1.43-.59-.52 0-1.04.2-1.43.59L10.3 9.45l-7.72 7.72c-.78.78-.78 2.05 0 2.83L4 21.41c.39.39.9.59 1.41.59.51 0 1.02-.2 1.41-.59l7.78-7.78 2.81-2.81c.8-.78.8-2.07 0-2.86zM5.41 20L4 18.59l7.72-7.72 1.47 1.35L5.41 20z\"/>\n",
              "  </svg>\n",
              "      </button>\n",
              "      \n",
              "  <style>\n",
              "    .colab-df-container {\n",
              "      display:flex;\n",
              "      flex-wrap:wrap;\n",
              "      gap: 12px;\n",
              "    }\n",
              "\n",
              "    .colab-df-convert {\n",
              "      background-color: #E8F0FE;\n",
              "      border: none;\n",
              "      border-radius: 50%;\n",
              "      cursor: pointer;\n",
              "      display: none;\n",
              "      fill: #1967D2;\n",
              "      height: 32px;\n",
              "      padding: 0 0 0 0;\n",
              "      width: 32px;\n",
              "    }\n",
              "\n",
              "    .colab-df-convert:hover {\n",
              "      background-color: #E2EBFA;\n",
              "      box-shadow: 0px 1px 2px rgba(60, 64, 67, 0.3), 0px 1px 3px 1px rgba(60, 64, 67, 0.15);\n",
              "      fill: #174EA6;\n",
              "    }\n",
              "\n",
              "    [theme=dark] .colab-df-convert {\n",
              "      background-color: #3B4455;\n",
              "      fill: #D2E3FC;\n",
              "    }\n",
              "\n",
              "    [theme=dark] .colab-df-convert:hover {\n",
              "      background-color: #434B5C;\n",
              "      box-shadow: 0px 1px 3px 1px rgba(0, 0, 0, 0.15);\n",
              "      filter: drop-shadow(0px 1px 2px rgba(0, 0, 0, 0.3));\n",
              "      fill: #FFFFFF;\n",
              "    }\n",
              "  </style>\n",
              "\n",
              "      <script>\n",
              "        const buttonEl =\n",
              "          document.querySelector('#df-1ef996d3-241d-4441-b068-76dcdb830acd button.colab-df-convert');\n",
              "        buttonEl.style.display =\n",
              "          google.colab.kernel.accessAllowed ? 'block' : 'none';\n",
              "\n",
              "        async function convertToInteractive(key) {\n",
              "          const element = document.querySelector('#df-1ef996d3-241d-4441-b068-76dcdb830acd');\n",
              "          const dataTable =\n",
              "            await google.colab.kernel.invokeFunction('convertToInteractive',\n",
              "                                                     [key], {});\n",
              "          if (!dataTable) return;\n",
              "\n",
              "          const docLinkHtml = 'Like what you see? Visit the ' +\n",
              "            '<a target=\"_blank\" href=https://colab.research.google.com/notebooks/data_table.ipynb>data table notebook</a>'\n",
              "            + ' to learn more about interactive tables.';\n",
              "          element.innerHTML = '';\n",
              "          dataTable['output_type'] = 'display_data';\n",
              "          await google.colab.output.renderOutput(dataTable, element);\n",
              "          const docLink = document.createElement('div');\n",
              "          docLink.innerHTML = docLinkHtml;\n",
              "          element.appendChild(docLink);\n",
              "        }\n",
              "      </script>\n",
              "    </div>\n",
              "  </div>\n",
              "  "
            ]
          },
          "metadata": {},
          "execution_count": 107
        }
      ]
    },
    {
      "cell_type": "markdown",
      "source": [
        "How did the stacked model go against the other models?\n",
        "\n",
        "> 🔑 Note: It seems many of our model's results are similar. This may mean there are some limitations to what can be learned from our data. When many of your modelling experiments return similar results, it's a good idea to revisit your data, we'll do this shortly."
      ],
      "metadata": {
        "id": "1Z1brN0VYbjd"
      }
    },
    {
      "cell_type": "markdown",
      "source": [
        "##Saving and loading a trained model\n",
        "\n",
        "Although training time didn't take very long, it's good practice to save your trained models to avoid having to retrain them.\n",
        "\n",
        "Saving your models also enables you to export them for use elsewhere outside of your notebooks, such as in a web application.\n",
        "\n",
        "There are two main ways of [saving a model in TensorFlow](https://www.tensorflow.org/tutorials/keras/save_and_load#save_the_entire_model):\n",
        "\n",
        "1. The HDF5 format.\n",
        "2. The SavedModel format (default).\n",
        "\n",
        "Let's take a look at both."
      ],
      "metadata": {
        "id": "D3ukc0uoYfHn"
      }
    },
    {
      "cell_type": "code",
      "source": [
        "# Save TF Hub Sentence Encoder model to HDF5 format\n",
        "model_6.save(\"model_6.h5\")"
      ],
      "metadata": {
        "id": "0iMF-KHGZD-0"
      },
      "execution_count": null,
      "outputs": []
    },
    {
      "cell_type": "markdown",
      "source": [
        "If you save a model as a HDF5, when loading it back in, you need to let [TensorFlow know about any custom objects you've used](https://www.tensorflow.org/tutorials/keras/save_and_load#saving_custom_objects) (e.g. components which aren't built from pure TensorFlow, such as TensorFlow Hub components)."
      ],
      "metadata": {
        "id": "2ySYlO8tZP89"
      }
    },
    {
      "cell_type": "code",
      "source": [
        "# Load model with custom Hub Layer (required with HDF5 format)\n",
        "loaded_model_6 = tf.keras.models.load_model(\"model_6.h5\", \n",
        "                                            custom_objects={\"KerasLayer\": hub.KerasLayer})"
      ],
      "metadata": {
        "id": "DSC_XGEHZdYr"
      },
      "execution_count": null,
      "outputs": []
    },
    {
      "cell_type": "code",
      "source": [
        "# How does our loaded model perform?\n",
        "loaded_model_6.evaluate(val_sentences, val_labels)"
      ],
      "metadata": {
        "colab": {
          "base_uri": "https://localhost:8080/"
        },
        "id": "yNK0q5rCZfXq",
        "outputId": "3f31a0bd-b5f1-4f84-e304-adbcc7214bf3"
      },
      "execution_count": null,
      "outputs": [
        {
          "output_type": "stream",
          "name": "stdout",
          "text": [
            "24/24 [==============================] - 1s 11ms/step - loss: 0.4309 - accuracy: 0.8123\n"
          ]
        },
        {
          "output_type": "execute_result",
          "data": {
            "text/plain": [
              "[0.43088313937187195, 0.8123359680175781]"
            ]
          },
          "metadata": {},
          "execution_count": 110
        }
      ]
    },
    {
      "cell_type": "markdown",
      "source": [
        "Calling the save() method on our target model and passing it a filepath allows us to save our model in the SavedModel format."
      ],
      "metadata": {
        "id": "ZMpHVpFlal1-"
      }
    },
    {
      "cell_type": "code",
      "source": [
        "# Save TF Hub Sentence Encoder model to SavedModel format (default)\n",
        "model_6.save(\"model_6_SavedModel_format\")"
      ],
      "metadata": {
        "colab": {
          "base_uri": "https://localhost:8080/"
        },
        "id": "kwV0Lu7SakjE",
        "outputId": "46b56800-e86c-4be2-fc5d-984f9d73e6cc"
      },
      "execution_count": null,
      "outputs": [
        {
          "output_type": "stream",
          "name": "stderr",
          "text": [
            "WARNING:absl:Function `_wrapped_model` contains input name(s) USE_input with unsupported characters which will be renamed to use_input in the SavedModel.\n"
          ]
        },
        {
          "output_type": "stream",
          "name": "stdout",
          "text": [
            "INFO:tensorflow:Assets written to: model_6_SavedModel_format/assets\n"
          ]
        },
        {
          "output_type": "stream",
          "name": "stderr",
          "text": [
            "INFO:tensorflow:Assets written to: model_6_SavedModel_format/assets\n"
          ]
        }
      ]
    },
    {
      "cell_type": "markdown",
      "source": [
        "If you use SavedModel format (default), you can reload your model without specifying custom objects using the [tensorflow.keras.models.load_model()](https://www.tensorflow.org/tutorials/keras/save_and_load) function."
      ],
      "metadata": {
        "id": "N59xnmJkZlQ-"
      }
    },
    {
      "cell_type": "code",
      "source": [
        "# Load TF Hub Sentence Encoder SavedModel\n",
        "loaded_model_6_SavedModel = tf.keras.models.load_model(\"model_6_SavedModel_format\")"
      ],
      "metadata": {
        "id": "ELzdpKuvZy8m"
      },
      "execution_count": null,
      "outputs": []
    },
    {
      "cell_type": "code",
      "source": [
        "# Evaluate loaded SavedModel format\n",
        "loaded_model_6_SavedModel.evaluate(val_sentences, val_labels)"
      ],
      "metadata": {
        "colab": {
          "base_uri": "https://localhost:8080/"
        },
        "id": "P8JwwRhRZ0hj",
        "outputId": "6155b5ab-171d-4b26-d60d-c4cafc9556f4"
      },
      "execution_count": null,
      "outputs": [
        {
          "output_type": "stream",
          "name": "stdout",
          "text": [
            "24/24 [==============================] - 1s 12ms/step - loss: 0.4309 - accuracy: 0.8123\n"
          ]
        },
        {
          "output_type": "execute_result",
          "data": {
            "text/plain": [
              "[0.43088313937187195, 0.8123359680175781]"
            ]
          },
          "metadata": {},
          "execution_count": 114
        }
      ]
    },
    {
      "cell_type": "markdown",
      "source": [
        "As you can see saving and loading our model with either format results in the same performance.\n",
        "\n",
        "> 🤔 Question: Should you used the SavedModel format or HDF5 format?\n",
        "\n",
        "For most use cases, the SavedModel format will suffice. However, this is a TensorFlow specific standard. If you need a more general-purpose data standard, HDF5 might be better. For more, check out the [TensorFlow documentation on saving and loading models](https://www.tensorflow.org/tutorials/keras/save_and_load).\n"
      ],
      "metadata": {
        "id": "zXsZBfswZ5Hw"
      }
    },
    {
      "cell_type": "markdown",
      "source": [
        "##Finding the most wrong examples\n",
        "\n",
        "We mentioned before that if many of our modelling experiments are returning similar results, despite using different kinds of models, it's a good idea to return to the data and inspect why this might be.\n",
        "\n",
        "One of the best ways to inspect your data is to sort your model's predictions and find the samples it got most wrong, meaning, what predictions had a high prediction probability but turned out to be wrong.\n",
        "\n",
        "Once again, visualization is your friend. Visualize, visualize, visualize.\n",
        "\n",
        "To make things visual, let's take our best performing model's prediction probabilities and classes along with the validation samples (text and ground truth labels) and combine them in a pandas DataFrame.\n",
        "\n",
        "* If our best model still isn't perfect, what examples is it getting wrong?\n",
        "* Which ones are the most wrong?\n",
        "* Are there some labels which are wrong? E.g. the model gets it right but the ground truth label doesn't reflect this\n"
      ],
      "metadata": {
        "id": "FOtktIJ_a22G"
      }
    },
    {
      "cell_type": "code",
      "source": [
        "# Create dataframe with validation sentences and best performing model predictions\n",
        "val_df = pd.DataFrame({\"text\": val_sentences,\n",
        "                       \"target\": val_labels,\n",
        "                       \"pred\": model_6_preds,\n",
        "                       \"pred_prob\": tf.squeeze(model_6_pred_probs)})\n",
        "val_df.head()"
      ],
      "metadata": {
        "colab": {
          "base_uri": "https://localhost:8080/",
          "height": 206
        },
        "id": "UH9oJNcLbKjV",
        "outputId": "832493ad-1af7-41a5-e7cb-3d6ca0859260"
      },
      "execution_count": null,
      "outputs": [
        {
          "output_type": "execute_result",
          "data": {
            "text/plain": [
              "                                                text  target  pred  pred_prob\n",
              "0  DFR EP016 Monthly Meltdown - On Dnbheaven 2015...       0   0.0   0.144432\n",
              "1  FedEx no longer to transport bioterror germs i...       0   1.0   0.727150\n",
              "2  Gunmen kill four in El Salvador bus attack: Su...       1   1.0   0.985666\n",
              "3  @camilacabello97 Internally and externally scr...       1   0.0   0.197409\n",
              "4  Radiation emergency #preparedness starts with ...       1   1.0   0.734170"
            ],
            "text/html": [
              "\n",
              "  <div id=\"df-889d31c8-8ef5-4079-bb84-728724359182\">\n",
              "    <div class=\"colab-df-container\">\n",
              "      <div>\n",
              "<style scoped>\n",
              "    .dataframe tbody tr th:only-of-type {\n",
              "        vertical-align: middle;\n",
              "    }\n",
              "\n",
              "    .dataframe tbody tr th {\n",
              "        vertical-align: top;\n",
              "    }\n",
              "\n",
              "    .dataframe thead th {\n",
              "        text-align: right;\n",
              "    }\n",
              "</style>\n",
              "<table border=\"1\" class=\"dataframe\">\n",
              "  <thead>\n",
              "    <tr style=\"text-align: right;\">\n",
              "      <th></th>\n",
              "      <th>text</th>\n",
              "      <th>target</th>\n",
              "      <th>pred</th>\n",
              "      <th>pred_prob</th>\n",
              "    </tr>\n",
              "  </thead>\n",
              "  <tbody>\n",
              "    <tr>\n",
              "      <th>0</th>\n",
              "      <td>DFR EP016 Monthly Meltdown - On Dnbheaven 2015...</td>\n",
              "      <td>0</td>\n",
              "      <td>0.0</td>\n",
              "      <td>0.144432</td>\n",
              "    </tr>\n",
              "    <tr>\n",
              "      <th>1</th>\n",
              "      <td>FedEx no longer to transport bioterror germs i...</td>\n",
              "      <td>0</td>\n",
              "      <td>1.0</td>\n",
              "      <td>0.727150</td>\n",
              "    </tr>\n",
              "    <tr>\n",
              "      <th>2</th>\n",
              "      <td>Gunmen kill four in El Salvador bus attack: Su...</td>\n",
              "      <td>1</td>\n",
              "      <td>1.0</td>\n",
              "      <td>0.985666</td>\n",
              "    </tr>\n",
              "    <tr>\n",
              "      <th>3</th>\n",
              "      <td>@camilacabello97 Internally and externally scr...</td>\n",
              "      <td>1</td>\n",
              "      <td>0.0</td>\n",
              "      <td>0.197409</td>\n",
              "    </tr>\n",
              "    <tr>\n",
              "      <th>4</th>\n",
              "      <td>Radiation emergency #preparedness starts with ...</td>\n",
              "      <td>1</td>\n",
              "      <td>1.0</td>\n",
              "      <td>0.734170</td>\n",
              "    </tr>\n",
              "  </tbody>\n",
              "</table>\n",
              "</div>\n",
              "      <button class=\"colab-df-convert\" onclick=\"convertToInteractive('df-889d31c8-8ef5-4079-bb84-728724359182')\"\n",
              "              title=\"Convert this dataframe to an interactive table.\"\n",
              "              style=\"display:none;\">\n",
              "        \n",
              "  <svg xmlns=\"http://www.w3.org/2000/svg\" height=\"24px\"viewBox=\"0 0 24 24\"\n",
              "       width=\"24px\">\n",
              "    <path d=\"M0 0h24v24H0V0z\" fill=\"none\"/>\n",
              "    <path d=\"M18.56 5.44l.94 2.06.94-2.06 2.06-.94-2.06-.94-.94-2.06-.94 2.06-2.06.94zm-11 1L8.5 8.5l.94-2.06 2.06-.94-2.06-.94L8.5 2.5l-.94 2.06-2.06.94zm10 10l.94 2.06.94-2.06 2.06-.94-2.06-.94-.94-2.06-.94 2.06-2.06.94z\"/><path d=\"M17.41 7.96l-1.37-1.37c-.4-.4-.92-.59-1.43-.59-.52 0-1.04.2-1.43.59L10.3 9.45l-7.72 7.72c-.78.78-.78 2.05 0 2.83L4 21.41c.39.39.9.59 1.41.59.51 0 1.02-.2 1.41-.59l7.78-7.78 2.81-2.81c.8-.78.8-2.07 0-2.86zM5.41 20L4 18.59l7.72-7.72 1.47 1.35L5.41 20z\"/>\n",
              "  </svg>\n",
              "      </button>\n",
              "      \n",
              "  <style>\n",
              "    .colab-df-container {\n",
              "      display:flex;\n",
              "      flex-wrap:wrap;\n",
              "      gap: 12px;\n",
              "    }\n",
              "\n",
              "    .colab-df-convert {\n",
              "      background-color: #E8F0FE;\n",
              "      border: none;\n",
              "      border-radius: 50%;\n",
              "      cursor: pointer;\n",
              "      display: none;\n",
              "      fill: #1967D2;\n",
              "      height: 32px;\n",
              "      padding: 0 0 0 0;\n",
              "      width: 32px;\n",
              "    }\n",
              "\n",
              "    .colab-df-convert:hover {\n",
              "      background-color: #E2EBFA;\n",
              "      box-shadow: 0px 1px 2px rgba(60, 64, 67, 0.3), 0px 1px 3px 1px rgba(60, 64, 67, 0.15);\n",
              "      fill: #174EA6;\n",
              "    }\n",
              "\n",
              "    [theme=dark] .colab-df-convert {\n",
              "      background-color: #3B4455;\n",
              "      fill: #D2E3FC;\n",
              "    }\n",
              "\n",
              "    [theme=dark] .colab-df-convert:hover {\n",
              "      background-color: #434B5C;\n",
              "      box-shadow: 0px 1px 3px 1px rgba(0, 0, 0, 0.15);\n",
              "      filter: drop-shadow(0px 1px 2px rgba(0, 0, 0, 0.3));\n",
              "      fill: #FFFFFF;\n",
              "    }\n",
              "  </style>\n",
              "\n",
              "      <script>\n",
              "        const buttonEl =\n",
              "          document.querySelector('#df-889d31c8-8ef5-4079-bb84-728724359182 button.colab-df-convert');\n",
              "        buttonEl.style.display =\n",
              "          google.colab.kernel.accessAllowed ? 'block' : 'none';\n",
              "\n",
              "        async function convertToInteractive(key) {\n",
              "          const element = document.querySelector('#df-889d31c8-8ef5-4079-bb84-728724359182');\n",
              "          const dataTable =\n",
              "            await google.colab.kernel.invokeFunction('convertToInteractive',\n",
              "                                                     [key], {});\n",
              "          if (!dataTable) return;\n",
              "\n",
              "          const docLinkHtml = 'Like what you see? Visit the ' +\n",
              "            '<a target=\"_blank\" href=https://colab.research.google.com/notebooks/data_table.ipynb>data table notebook</a>'\n",
              "            + ' to learn more about interactive tables.';\n",
              "          element.innerHTML = '';\n",
              "          dataTable['output_type'] = 'display_data';\n",
              "          await google.colab.output.renderOutput(dataTable, element);\n",
              "          const docLink = document.createElement('div');\n",
              "          docLink.innerHTML = docLinkHtml;\n",
              "          element.appendChild(docLink);\n",
              "        }\n",
              "      </script>\n",
              "    </div>\n",
              "  </div>\n",
              "  "
            ]
          },
          "metadata": {},
          "execution_count": 115
        }
      ]
    },
    {
      "cell_type": "markdown",
      "source": [
        "Oh yeah! Now let's find our model's wrong predictions (where target != pred) and sort them by their prediction probability (the pred_prob column)."
      ],
      "metadata": {
        "id": "APTDpeFpbPX6"
      }
    },
    {
      "cell_type": "code",
      "source": [
        "# Find the wrong predictions and sort by prediction probabilities\n",
        "most_wrong = val_df[val_df[\"target\"] != val_df[\"pred\"]].sort_values(\"pred_prob\", ascending=False)\n",
        "most_wrong[:10]"
      ],
      "metadata": {
        "colab": {
          "base_uri": "https://localhost:8080/",
          "height": 363
        },
        "id": "QOOsjAsGbOvE",
        "outputId": "edffced7-4825-43f7-99e9-0d945418bd6b"
      },
      "execution_count": null,
      "outputs": [
        {
          "output_type": "execute_result",
          "data": {
            "text/plain": [
              "                                                  text  target  pred  \\\n",
              "31   ? High Skies - Burning Buildings ? http://t.co...       0   1.0   \n",
              "759  FedEx will no longer transport bioterror patho...       0   1.0   \n",
              "209  Ashes 2015: AustraliaÛªs collapse at Trent Br...       0   1.0   \n",
              "393  @SonofLiberty357 all illuminated by the bright...       0   1.0   \n",
              "628  @noah_anyname That's where the concentration c...       0   1.0   \n",
              "49   @madonnamking RSPCA site multiple 7 story high...       0   1.0   \n",
              "109  [55436] 1950 LIONEL TRAINS SMOKE LOCOMOTIVES W...       0   1.0   \n",
              "251  @AshGhebranious civil rights continued in the ...       0   1.0   \n",
              "698  åÈMGN-AFRICAå¨ pin:263789F4 åÈ Correction: Ten...       0   1.0   \n",
              "144                                 The Sound of Arson       0   1.0   \n",
              "\n",
              "     pred_prob  \n",
              "31    0.910481  \n",
              "759   0.864676  \n",
              "209   0.837961  \n",
              "393   0.836361  \n",
              "628   0.835225  \n",
              "49    0.834875  \n",
              "109   0.800890  \n",
              "251   0.782611  \n",
              "698   0.782433  \n",
              "144   0.771343  "
            ],
            "text/html": [
              "\n",
              "  <div id=\"df-0de2d782-1c63-4cb4-9e35-dba2747096ba\">\n",
              "    <div class=\"colab-df-container\">\n",
              "      <div>\n",
              "<style scoped>\n",
              "    .dataframe tbody tr th:only-of-type {\n",
              "        vertical-align: middle;\n",
              "    }\n",
              "\n",
              "    .dataframe tbody tr th {\n",
              "        vertical-align: top;\n",
              "    }\n",
              "\n",
              "    .dataframe thead th {\n",
              "        text-align: right;\n",
              "    }\n",
              "</style>\n",
              "<table border=\"1\" class=\"dataframe\">\n",
              "  <thead>\n",
              "    <tr style=\"text-align: right;\">\n",
              "      <th></th>\n",
              "      <th>text</th>\n",
              "      <th>target</th>\n",
              "      <th>pred</th>\n",
              "      <th>pred_prob</th>\n",
              "    </tr>\n",
              "  </thead>\n",
              "  <tbody>\n",
              "    <tr>\n",
              "      <th>31</th>\n",
              "      <td>? High Skies - Burning Buildings ? http://t.co...</td>\n",
              "      <td>0</td>\n",
              "      <td>1.0</td>\n",
              "      <td>0.910481</td>\n",
              "    </tr>\n",
              "    <tr>\n",
              "      <th>759</th>\n",
              "      <td>FedEx will no longer transport bioterror patho...</td>\n",
              "      <td>0</td>\n",
              "      <td>1.0</td>\n",
              "      <td>0.864676</td>\n",
              "    </tr>\n",
              "    <tr>\n",
              "      <th>209</th>\n",
              "      <td>Ashes 2015: AustraliaÛªs collapse at Trent Br...</td>\n",
              "      <td>0</td>\n",
              "      <td>1.0</td>\n",
              "      <td>0.837961</td>\n",
              "    </tr>\n",
              "    <tr>\n",
              "      <th>393</th>\n",
              "      <td>@SonofLiberty357 all illuminated by the bright...</td>\n",
              "      <td>0</td>\n",
              "      <td>1.0</td>\n",
              "      <td>0.836361</td>\n",
              "    </tr>\n",
              "    <tr>\n",
              "      <th>628</th>\n",
              "      <td>@noah_anyname That's where the concentration c...</td>\n",
              "      <td>0</td>\n",
              "      <td>1.0</td>\n",
              "      <td>0.835225</td>\n",
              "    </tr>\n",
              "    <tr>\n",
              "      <th>49</th>\n",
              "      <td>@madonnamking RSPCA site multiple 7 story high...</td>\n",
              "      <td>0</td>\n",
              "      <td>1.0</td>\n",
              "      <td>0.834875</td>\n",
              "    </tr>\n",
              "    <tr>\n",
              "      <th>109</th>\n",
              "      <td>[55436] 1950 LIONEL TRAINS SMOKE LOCOMOTIVES W...</td>\n",
              "      <td>0</td>\n",
              "      <td>1.0</td>\n",
              "      <td>0.800890</td>\n",
              "    </tr>\n",
              "    <tr>\n",
              "      <th>251</th>\n",
              "      <td>@AshGhebranious civil rights continued in the ...</td>\n",
              "      <td>0</td>\n",
              "      <td>1.0</td>\n",
              "      <td>0.782611</td>\n",
              "    </tr>\n",
              "    <tr>\n",
              "      <th>698</th>\n",
              "      <td>åÈMGN-AFRICAå¨ pin:263789F4 åÈ Correction: Ten...</td>\n",
              "      <td>0</td>\n",
              "      <td>1.0</td>\n",
              "      <td>0.782433</td>\n",
              "    </tr>\n",
              "    <tr>\n",
              "      <th>144</th>\n",
              "      <td>The Sound of Arson</td>\n",
              "      <td>0</td>\n",
              "      <td>1.0</td>\n",
              "      <td>0.771343</td>\n",
              "    </tr>\n",
              "  </tbody>\n",
              "</table>\n",
              "</div>\n",
              "      <button class=\"colab-df-convert\" onclick=\"convertToInteractive('df-0de2d782-1c63-4cb4-9e35-dba2747096ba')\"\n",
              "              title=\"Convert this dataframe to an interactive table.\"\n",
              "              style=\"display:none;\">\n",
              "        \n",
              "  <svg xmlns=\"http://www.w3.org/2000/svg\" height=\"24px\"viewBox=\"0 0 24 24\"\n",
              "       width=\"24px\">\n",
              "    <path d=\"M0 0h24v24H0V0z\" fill=\"none\"/>\n",
              "    <path d=\"M18.56 5.44l.94 2.06.94-2.06 2.06-.94-2.06-.94-.94-2.06-.94 2.06-2.06.94zm-11 1L8.5 8.5l.94-2.06 2.06-.94-2.06-.94L8.5 2.5l-.94 2.06-2.06.94zm10 10l.94 2.06.94-2.06 2.06-.94-2.06-.94-.94-2.06-.94 2.06-2.06.94z\"/><path d=\"M17.41 7.96l-1.37-1.37c-.4-.4-.92-.59-1.43-.59-.52 0-1.04.2-1.43.59L10.3 9.45l-7.72 7.72c-.78.78-.78 2.05 0 2.83L4 21.41c.39.39.9.59 1.41.59.51 0 1.02-.2 1.41-.59l7.78-7.78 2.81-2.81c.8-.78.8-2.07 0-2.86zM5.41 20L4 18.59l7.72-7.72 1.47 1.35L5.41 20z\"/>\n",
              "  </svg>\n",
              "      </button>\n",
              "      \n",
              "  <style>\n",
              "    .colab-df-container {\n",
              "      display:flex;\n",
              "      flex-wrap:wrap;\n",
              "      gap: 12px;\n",
              "    }\n",
              "\n",
              "    .colab-df-convert {\n",
              "      background-color: #E8F0FE;\n",
              "      border: none;\n",
              "      border-radius: 50%;\n",
              "      cursor: pointer;\n",
              "      display: none;\n",
              "      fill: #1967D2;\n",
              "      height: 32px;\n",
              "      padding: 0 0 0 0;\n",
              "      width: 32px;\n",
              "    }\n",
              "\n",
              "    .colab-df-convert:hover {\n",
              "      background-color: #E2EBFA;\n",
              "      box-shadow: 0px 1px 2px rgba(60, 64, 67, 0.3), 0px 1px 3px 1px rgba(60, 64, 67, 0.15);\n",
              "      fill: #174EA6;\n",
              "    }\n",
              "\n",
              "    [theme=dark] .colab-df-convert {\n",
              "      background-color: #3B4455;\n",
              "      fill: #D2E3FC;\n",
              "    }\n",
              "\n",
              "    [theme=dark] .colab-df-convert:hover {\n",
              "      background-color: #434B5C;\n",
              "      box-shadow: 0px 1px 3px 1px rgba(0, 0, 0, 0.15);\n",
              "      filter: drop-shadow(0px 1px 2px rgba(0, 0, 0, 0.3));\n",
              "      fill: #FFFFFF;\n",
              "    }\n",
              "  </style>\n",
              "\n",
              "      <script>\n",
              "        const buttonEl =\n",
              "          document.querySelector('#df-0de2d782-1c63-4cb4-9e35-dba2747096ba button.colab-df-convert');\n",
              "        buttonEl.style.display =\n",
              "          google.colab.kernel.accessAllowed ? 'block' : 'none';\n",
              "\n",
              "        async function convertToInteractive(key) {\n",
              "          const element = document.querySelector('#df-0de2d782-1c63-4cb4-9e35-dba2747096ba');\n",
              "          const dataTable =\n",
              "            await google.colab.kernel.invokeFunction('convertToInteractive',\n",
              "                                                     [key], {});\n",
              "          if (!dataTable) return;\n",
              "\n",
              "          const docLinkHtml = 'Like what you see? Visit the ' +\n",
              "            '<a target=\"_blank\" href=https://colab.research.google.com/notebooks/data_table.ipynb>data table notebook</a>'\n",
              "            + ' to learn more about interactive tables.';\n",
              "          element.innerHTML = '';\n",
              "          dataTable['output_type'] = 'display_data';\n",
              "          await google.colab.output.renderOutput(dataTable, element);\n",
              "          const docLink = document.createElement('div');\n",
              "          docLink.innerHTML = docLinkHtml;\n",
              "          element.appendChild(docLink);\n",
              "        }\n",
              "      </script>\n",
              "    </div>\n",
              "  </div>\n",
              "  "
            ]
          },
          "metadata": {},
          "execution_count": 116
        }
      ]
    },
    {
      "cell_type": "markdown",
      "source": [
        "Finally, we can write some code to visualize the sample text, truth label, prediction class and prediction probability. Because we've sorted our samples by prediction probability, viewing samples from the head of our most_wrong DataFrame will show us false positives.\n",
        "\n",
        "A reminder:\n",
        "\n",
        "* 0 = Not a real diaster Tweet\n",
        "* 1 = Real diaster Tweet"
      ],
      "metadata": {
        "id": "Ccw1fMeabU6R"
      }
    },
    {
      "cell_type": "code",
      "source": [
        "# Check the false positives (model predicted 1 when should've been 0)\n",
        "for row in most_wrong[:10].itertuples(): # loop through the top 10 rows (change the index to view different rows)\n",
        "  _, text, target, pred, prob = row\n",
        "  print(f\"Target: {target}, Pred: {int(pred)}, Prob: {prob}\")\n",
        "  print(f\"Text:\\n{text}\\n\")\n",
        "  print(\"----\\n\")"
      ],
      "metadata": {
        "colab": {
          "base_uri": "https://localhost:8080/"
        },
        "id": "KesSD1pRbUTV",
        "outputId": "2bb5c4dc-e7e8-47bb-9622-50dbdeeb98af"
      },
      "execution_count": null,
      "outputs": [
        {
          "output_type": "stream",
          "name": "stdout",
          "text": [
            "Target: 0, Pred: 1, Prob: 0.9104807376861572\n",
            "Text:\n",
            "? High Skies - Burning Buildings ? http://t.co/uVq41i3Kx2 #nowplaying\n",
            "\n",
            "----\n",
            "\n",
            "Target: 0, Pred: 1, Prob: 0.8646755218505859\n",
            "Text:\n",
            "FedEx will no longer transport bioterror pathogens in wake of anthrax lab mishaps http://t.co/lHpgxc4b8J\n",
            "\n",
            "----\n",
            "\n",
            "Target: 0, Pred: 1, Prob: 0.8379610180854797\n",
            "Text:\n",
            "Ashes 2015: AustraliaÛªs collapse at Trent Bridge among worst in history: England bundled out Australia for 60 ... http://t.co/t5TrhjUAU0\n",
            "\n",
            "----\n",
            "\n",
            "Target: 0, Pred: 1, Prob: 0.8363614082336426\n",
            "Text:\n",
            "@SonofLiberty357 all illuminated by the brightly burning buildings all around the town!\n",
            "\n",
            "----\n",
            "\n",
            "Target: 0, Pred: 1, Prob: 0.8352250456809998\n",
            "Text:\n",
            "@noah_anyname That's where the concentration camps and mass murder come in. \n",
            " \n",
            "EVERY. FUCKING. TIME.\n",
            "\n",
            "----\n",
            "\n",
            "Target: 0, Pred: 1, Prob: 0.8348746299743652\n",
            "Text:\n",
            "@madonnamking RSPCA site multiple 7 story high rise buildings next to low density character residential in an area that floods\n",
            "\n",
            "----\n",
            "\n",
            "Target: 0, Pred: 1, Prob: 0.800889790058136\n",
            "Text:\n",
            "[55436] 1950 LIONEL TRAINS SMOKE LOCOMOTIVES WITH MAGNE-TRACTION INSTRUCTIONS http://t.co/xEZBs3sq0y http://t.co/C2x0QoKGlY\n",
            "\n",
            "----\n",
            "\n",
            "Target: 0, Pred: 1, Prob: 0.782611072063446\n",
            "Text:\n",
            "@AshGhebranious civil rights continued in the 60s. And what about trans-generational trauma? if anything we should listen to the Americans.\n",
            "\n",
            "----\n",
            "\n",
            "Target: 0, Pred: 1, Prob: 0.7824333310127258\n",
            "Text:\n",
            "åÈMGN-AFRICAå¨ pin:263789F4 åÈ Correction: Tent Collapse Story: Correction: Tent Collapse story åÈ http://t.co/fDJUYvZMrv @wizkidayo\n",
            "\n",
            "----\n",
            "\n",
            "Target: 0, Pred: 1, Prob: 0.7713426947593689\n",
            "Text:\n",
            "The Sound of Arson\n",
            "\n",
            "----\n",
            "\n"
          ]
        }
      ]
    },
    {
      "cell_type": "markdown",
      "source": [
        "We can view the bottom end of our most_wrong DataFrame to inspect false negatives (model predicts 0, not a real diaster Tweet, when it should've predicted 1, real diaster Tweet)."
      ],
      "metadata": {
        "id": "0Bd12wTlbdaE"
      }
    },
    {
      "cell_type": "code",
      "source": [
        "# Check the most wrong false negatives (model predicted 0 when should've predict 1)\n",
        "for row in most_wrong[-10:].itertuples():\n",
        "  _, text, target, pred, prob = row\n",
        "  print(f\"Target: {target}, Pred: {int(pred)}, Prob: {prob}\")\n",
        "  print(f\"Text:\\n{text}\\n\")\n",
        "  print(\"----\\n\")"
      ],
      "metadata": {
        "colab": {
          "base_uri": "https://localhost:8080/"
        },
        "id": "d8uvOrU3bfSl",
        "outputId": "f8c163cf-2b94-4232-b3c8-1e73f6f845f9"
      },
      "execution_count": null,
      "outputs": [
        {
          "output_type": "stream",
          "name": "stdout",
          "text": [
            "Target: 1, Pred: 0, Prob: 0.06304335594177246\n",
            "Text:\n",
            "@BoyInAHorsemask its a panda trapped in a dogs body\n",
            "\n",
            "----\n",
            "\n",
            "Target: 1, Pred: 0, Prob: 0.06279505044221878\n",
            "Text:\n",
            "going to redo my nails and watch behind the scenes of desolation of smaug ayyy\n",
            "\n",
            "----\n",
            "\n",
            "Target: 1, Pred: 0, Prob: 0.060608115047216415\n",
            "Text:\n",
            "VICTORINOX SWISS ARMY DATE WOMEN'S RUBBER MOP WATCH 241487 http://t.co/yFy3nkkcoH http://t.co/KNEhVvOHVK\n",
            "\n",
            "----\n",
            "\n",
            "Target: 1, Pred: 0, Prob: 0.0573178268969059\n",
            "Text:\n",
            "@willienelson We need help! Horses will die!Please RT &amp; sign petition!Take a stand &amp; be a voice for them! #gilbert23 https://t.co/e8dl1lNCVu\n",
            "\n",
            "----\n",
            "\n",
            "Target: 1, Pred: 0, Prob: 0.045355577021837234\n",
            "Text:\n",
            "You can never escape me. Bullets don't harm me. Nothing harms me. But I know pain. I know pain. Sometimes I share it. With someone like you.\n",
            "\n",
            "----\n",
            "\n",
            "Target: 1, Pred: 0, Prob: 0.041451405733823776\n",
            "Text:\n",
            "I get to smoke my shit in peace\n",
            "\n",
            "----\n",
            "\n",
            "Target: 1, Pred: 0, Prob: 0.039261143654584885\n",
            "Text:\n",
            "@SoonerMagic_ I mean I'm a fan but I don't need a girl sounding off like a damn siren\n",
            "\n",
            "----\n",
            "\n",
            "Target: 1, Pred: 0, Prob: 0.038593340665102005\n",
            "Text:\n",
            "Why are you deluged with low self-image? Take the quiz: http://t.co/XsPqdOrIqj http://t.co/CQYvFR4UCy\n",
            "\n",
            "----\n",
            "\n",
            "Target: 1, Pred: 0, Prob: 0.0362723171710968\n",
            "Text:\n",
            "Reddit Will Now QuarantineÛ_ http://t.co/pkUAMXw6pm #onlinecommunities #reddit #amageddon #freespeech #Business http://t.co/PAWvNJ4sAP\n",
            "\n",
            "----\n",
            "\n",
            "Target: 1, Pred: 0, Prob: 0.03288796916604042\n",
            "Text:\n",
            "Ron &amp; Fez - Dave's High School Crush https://t.co/aN3W16c8F6 via @YouTube\n",
            "\n",
            "----\n",
            "\n"
          ]
        }
      ]
    },
    {
      "cell_type": "markdown",
      "source": [
        "Do you notice anything interesting about the most wrong samples?\n",
        "\n",
        "Are the ground truth labels correct? What do you think would happen if we went back and corrected the labels which aren't?"
      ],
      "metadata": {
        "id": "mq-T3zrUbnsV"
      }
    },
    {
      "cell_type": "markdown",
      "source": [
        "##Making predictions on the test dataset\n",
        "\n",
        "Alright we've seen how our model's perform on the validation set.\n",
        "\n",
        "But how about the test dataset?\n",
        "\n",
        "We don't have labels for the test dataset so we're going to have to make some predictions and inspect them for ourselves.\n",
        "\n",
        "Let's write some code to make predictions on random samples from the test dataset and visualize them."
      ],
      "metadata": {
        "id": "A6w-rchRbvwG"
      }
    },
    {
      "cell_type": "code",
      "source": [
        "# Making predictions on the test dataset\n",
        "test_sentences = test_df[\"text\"].to_list()\n",
        "test_samples = random.sample(test_sentences, 10)\n",
        "for test_sample in test_samples:\n",
        "  pred_prob = tf.squeeze(model_6.predict([test_sample])) # has to be list\n",
        "  pred = tf.round(pred_prob)\n",
        "  print(f\"Pred: {int(pred)}, Prob: {pred_prob}\")\n",
        "  print(f\"Text:\\n{test_sample}\\n\")\n",
        "  print(\"----\\n\")"
      ],
      "metadata": {
        "colab": {
          "base_uri": "https://localhost:8080/"
        },
        "id": "rbtLlHSabjPl",
        "outputId": "a633a10a-6dc6-400e-cc29-68d51f15374f"
      },
      "execution_count": null,
      "outputs": [
        {
          "output_type": "stream",
          "name": "stdout",
          "text": [
            "Pred: 1, Prob: 0.8955252766609192\n",
            "Text:\n",
            "30 Years After the Chernobyl Nuclear Disaster via @fubiz http://t.co/N4B59iqm94\n",
            "\n",
            "----\n",
            "\n",
            "Pred: 0, Prob: 0.3684923052787781\n",
            "Text:\n",
            "http://t.co/N6Semm2M6i\n",
            "\n",
            "SAN ONOFRE NUCLEAR REACTOR WASTE TO BE BURIED UNDER SHORELINE USING 3 BILLION IN TAX PAYER DOLLARS\n",
            "\n",
            "----\n",
            "\n",
            "Pred: 1, Prob: 0.8689644932746887\n",
            "Text:\n",
            "At least 18 houses 5 bridges destroyed in flash #floods in #Gilgit-#Baltistan on Wednesday. http://t.co/HSJcR45SIS http://t.co/dQ931ea6Pr\n",
            "\n",
            "----\n",
            "\n",
            "Pred: 0, Prob: 0.2012580931186676\n",
            "Text:\n",
            "Man Hears a Loud 'Bang' Finds a Newborn Baby in a Dumpster http://t.co/W815ol0mBV via @ijreview\n",
            "\n",
            "----\n",
            "\n",
            "Pred: 0, Prob: 0.4074947237968445\n",
            "Text:\n",
            "that collision daaamn\n",
            "\n",
            "----\n",
            "\n",
            "Pred: 1, Prob: 0.9760821461677551\n",
            "Text:\n",
            "RT WatchmanIS216: #Sinjar Massacre #Yazidis Blast Lack of Action Over Hostages http://t.co/79iQDYZjBS; Portland #Û_ http://t.co/0z1PvJVdpf\n",
            "\n",
            "----\n",
            "\n",
            "Pred: 0, Prob: 0.17727838456630707\n",
            "Text:\n",
            "@_keypsters full game? Injury cut is here https://t.co/YYqws4sO9J\n",
            "\n",
            "----\n",
            "\n",
            "Pred: 1, Prob: 0.9495294094085693\n",
            "Text:\n",
            "Punjab government flood relief platform: \n",
            "\n",
            "http://t.co/bpG68gXI9k \n",
            "\n",
            "realtime information on inundation damages... http://t.co/c8T9ThI7Wd\n",
            "\n",
            "----\n",
            "\n",
            "Pred: 0, Prob: 0.13033589720726013\n",
            "Text:\n",
            "Obama 'lambasted 4 not being respected &amp; 4 being a jokeÛ\n",
            "Would #Trump prefer more civilian casualties?\n",
            "http://t.co/gxQMDMzA1u\n",
            "#GOP\n",
            "#maddow\n",
            "\n",
            "----\n",
            "\n",
            "Pred: 0, Prob: 0.045660097151994705\n",
            "Text:\n",
            "@_AfroJazz I'll add you (i dont even know what you talking about)\n",
            "\n",
            "----\n",
            "\n"
          ]
        }
      ]
    },
    {
      "cell_type": "markdown",
      "source": [
        "How do our model's predictions look on the test dataset?\n",
        "\n",
        "It's important to do these kind of visualization checks as often as possible to get a glance of how your model performs on unseen data and subsequently how it might perform on the real test: Tweets from the wild."
      ],
      "metadata": {
        "id": "SYZ4g1NKb4PG"
      }
    },
    {
      "cell_type": "markdown",
      "source": [
        "##Predicting on Tweets from the wild\n",
        "How about we find some Tweets and use our model to predict whether or not they're about a diaster or not?\n",
        "\n",
        "To start, let's take one of my own [Tweets on living life like an ensemble model](https://twitter.com/mrdbourke/status/1313649328351662082)."
      ],
      "metadata": {
        "id": "5IHcgUnxcElB"
      }
    },
    {
      "cell_type": "code",
      "source": [
        "# Turn Tweet into string\n",
        "daniels_tweet = \"Life like an ensemble: take the best choices from others and make your own\""
      ],
      "metadata": {
        "id": "kFpllle6b57R"
      },
      "execution_count": null,
      "outputs": []
    },
    {
      "cell_type": "markdown",
      "source": [
        "Now we'll write a small function to take a model and an example sentence and return a prediction."
      ],
      "metadata": {
        "id": "UYK31HrecTAU"
      }
    },
    {
      "cell_type": "code",
      "source": [
        "def predict_on_sentence(model, sentence):\n",
        "  \"\"\"\n",
        "  Uses model to make a prediction on sentence.\n",
        "\n",
        "  Returns the sentence, the predicted label and the prediction probability.\n",
        "  \"\"\"\n",
        "  pred_prob = model.predict([sentence])\n",
        "  pred_label = tf.squeeze(tf.round(pred_prob)).numpy()\n",
        "  print(f\"Pred: {pred_label}\", \"(real disaster)\" if pred_label > 0 else \"(not real disaster)\", f\"Prob: {pred_prob[0][0]}\")\n",
        "  print(f\"Text:\\n{sentence}\")"
      ],
      "metadata": {
        "id": "TeO8y-GncSXy"
      },
      "execution_count": null,
      "outputs": []
    },
    {
      "cell_type": "markdown",
      "source": [
        "Great! Time to test our model out."
      ],
      "metadata": {
        "id": "hW_zRDTxcaxe"
      }
    },
    {
      "cell_type": "code",
      "source": [
        "# Make a prediction on Tweet from the wild\n",
        "predict_on_sentence(model=model_6, # use the USE model\n",
        "                    sentence=daniels_tweet)"
      ],
      "metadata": {
        "colab": {
          "base_uri": "https://localhost:8080/"
        },
        "id": "aHRELfwgcZhg",
        "outputId": "9b264ccf-5061-4169-b1f1-4fd53595cbb5"
      },
      "execution_count": null,
      "outputs": [
        {
          "output_type": "stream",
          "name": "stdout",
          "text": [
            "Pred: 0.0 (not real disaster) Prob: 0.04623395949602127\n",
            "Text:\n",
            "Life like an ensemble: take the best choices from others and make your own\n"
          ]
        }
      ]
    },
    {
      "cell_type": "markdown",
      "source": [
        "Woohoo! Our model predicted correctly. My Tweet wasn't about a diaster.\n",
        "\n",
        "How about we find a few Tweets about actual diasters?\n",
        "\n",
        "Such as the following two Tweets about the 2020 Beirut explosions."
      ],
      "metadata": {
        "id": "Kf1eGceFcd-R"
      }
    },
    {
      "cell_type": "code",
      "source": [
        "# Source - https://twitter.com/BeirutCityGuide/status/1290696551376007168\n",
        "beirut_tweet_1 = \"Reports that the smoke in Beirut sky contains nitric acid, which is toxic. Please share and refrain from stepping outside unless urgent. #Lebanon\"\n",
        "\n",
        "# Source - https://twitter.com/BeirutCityGuide/status/1290773498743476224\n",
        "beirut_tweet_2 = \"#Beirut declared a “devastated city”, two-week state of emergency officially declared. #Lebanon\""
      ],
      "metadata": {
        "id": "zorK51iackAU"
      },
      "execution_count": null,
      "outputs": []
    },
    {
      "cell_type": "code",
      "source": [
        "# Predict on diaster Tweet 1\n",
        "predict_on_sentence(model=model_6, \n",
        "                    sentence=beirut_tweet_1)"
      ],
      "metadata": {
        "colab": {
          "base_uri": "https://localhost:8080/"
        },
        "id": "cpxz812zclpP",
        "outputId": "acddc357-076e-4dae-ac8f-31d2816adfbc"
      },
      "execution_count": null,
      "outputs": [
        {
          "output_type": "stream",
          "name": "stdout",
          "text": [
            "Pred: 1.0 (real disaster) Prob: 0.9625465869903564\n",
            "Text:\n",
            "Reports that the smoke in Beirut sky contains nitric acid, which is toxic. Please share and refrain from stepping outside unless urgent. #Lebanon\n"
          ]
        }
      ]
    },
    {
      "cell_type": "code",
      "source": [
        "# Predict on diaster Tweet 2\n",
        "predict_on_sentence(model=model_6, \n",
        "                    sentence=beirut_tweet_2)"
      ],
      "metadata": {
        "colab": {
          "base_uri": "https://localhost:8080/"
        },
        "id": "_gklJimTcmQj",
        "outputId": "9e95cff2-8276-4fde-f425-83920b7ea2f7"
      },
      "execution_count": null,
      "outputs": [
        {
          "output_type": "stream",
          "name": "stdout",
          "text": [
            "Pred: 1.0 (real disaster) Prob: 0.9678557515144348\n",
            "Text:\n",
            "#Beirut declared a “devastated city”, two-week state of emergency officially declared. #Lebanon\n"
          ]
        }
      ]
    },
    {
      "cell_type": "markdown",
      "source": [
        "Looks like our model is performing as expected, predicting both of the diaster Tweets as actual diasters.\n",
        "\n",
        "> 🔑 Note: The above examples are cherry-picked and are cases where you'd expect a model to function at high performance. For actual production systems, you'll want to continaully perform tests to see how your model is performing.\n",
        "\n"
      ],
      "metadata": {
        "id": "kpydz_MlcpMt"
      }
    },
    {
      "cell_type": "markdown",
      "source": [
        "##The speed/score tradeoff\n",
        "\n",
        "One of the final tests we're going to do is to find the speed/score tradeoffs between our best model and baseline model.\n",
        "\n",
        "Why is this important?\n",
        "\n",
        "Although it can be tempting to just choose the best performing model you find through experimentation, this model might not actually work in a production setting.\n",
        "\n",
        "Put it this way, imagine you're Twitter and receive 1 million Tweets per hour (this is a made up number, the actual number is much higher). And you're trying to build a diaster detection system to read Tweets and alert authorities with details about a diaster in close to real-time.\n",
        "\n",
        "Compute power isn't free so you're limited to a single compute machine for the project. On that machine, one of your models makes 10,000 predictions per second at 80% accuracy where as another one of your models (a larger model) makes 100 predictions per second at 85% accuracy.\n",
        "\n",
        "Which model do you choose?\n",
        "\n",
        "Is the second model's performance boost worth missing out on the extra capacity?\n",
        "\n",
        "Of course, there are many options you could try here, such as sending as many Tweets as possible to the first model and then sending the ones which the model is least certain of to the second model.\n",
        "\n",
        "The point here is to illustrate the best model you find through experimentation, might not be the model you end up using in production.\n",
        "\n",
        "To make this more concrete, let's write a function to take a model and a number of samples and time how long the given model takes to make predictions on those samples."
      ],
      "metadata": {
        "id": "KYZythYmc1t7"
      }
    },
    {
      "cell_type": "code",
      "source": [
        "# Calculate the time of predictions\n",
        "import time\n",
        "def pred_timer(model, samples):\n",
        "  \"\"\"\n",
        "  Times how long a model takes to make predictions on samples.\n",
        "  \n",
        "  Args:\n",
        "  ----\n",
        "  model = a trained model\n",
        "  sample = a list of samples\n",
        "\n",
        "  Returns:\n",
        "  ----\n",
        "  total_time = total elapsed time for model to make predictions on samples\n",
        "  time_per_pred = time in seconds per single sample\n",
        "  \"\"\"\n",
        "  start_time = time.perf_counter() # get start time\n",
        "  model.predict(samples) # make predictions\n",
        "  end_time = time.perf_counter() # get finish time\n",
        "  total_time = end_time-start_time # calculate how long predictions took to make\n",
        "  time_per_pred = total_time/len(val_sentences) # find prediction time per sample\n",
        "  return total_time, time_per_pred"
      ],
      "metadata": {
        "id": "YTElSZidc9KR"
      },
      "execution_count": null,
      "outputs": []
    },
    {
      "cell_type": "markdown",
      "source": [
        "Looking good!\n",
        "\n",
        "Now let's use our pred_timer() function to evaluate the prediction times of our best performing model (model_6) and our baseline model (model_0)."
      ],
      "metadata": {
        "id": "CcFs3CWic_3C"
      }
    },
    {
      "cell_type": "code",
      "source": [
        "# Calculate TF Hub Sentence Encoder prediction times\n",
        "model_6_total_pred_time, model_6_time_per_pred = pred_timer(model_6, val_sentences)\n",
        "model_6_total_pred_time, model_6_time_per_pred"
      ],
      "metadata": {
        "colab": {
          "base_uri": "https://localhost:8080/"
        },
        "id": "No_BBOTkdBiX",
        "outputId": "e8c291f5-f7a8-40f4-da19-5cc1291e0e5e"
      },
      "execution_count": null,
      "outputs": [
        {
          "output_type": "execute_result",
          "data": {
            "text/plain": [
              "(0.28463456500003304, 0.0003735361745407258)"
            ]
          },
          "metadata": {},
          "execution_count": 127
        }
      ]
    },
    {
      "cell_type": "code",
      "source": [
        "# Calculate Naive Bayes prediction times\n",
        "baseline_total_pred_time, baseline_time_per_pred = pred_timer(model_0, val_sentences)\n",
        "baseline_total_pred_time, baseline_time_per_pred"
      ],
      "metadata": {
        "colab": {
          "base_uri": "https://localhost:8080/"
        },
        "id": "LPC99rwxdDM9",
        "outputId": "3fc4964d-2e3d-4d9b-84cd-1dd5ed708b74"
      },
      "execution_count": null,
      "outputs": [
        {
          "output_type": "execute_result",
          "data": {
            "text/plain": [
              "(0.018550875000073574, 2.4344980315057185e-05)"
            ]
          },
          "metadata": {},
          "execution_count": 128
        }
      ]
    },
    {
      "cell_type": "markdown",
      "source": [
        "It seems with our current hardware (in my case, I'm using a Google Colab notebook) our best performing model takes over 10x the time to make predictions as our baseline model.\n",
        "\n",
        "Is that extra prediction time worth it?\n",
        "\n",
        "Let's compare time per prediction versus our model's F1-scores."
      ],
      "metadata": {
        "id": "rckqyHJzdGqE"
      }
    },
    {
      "cell_type": "code",
      "source": [
        "import matplotlib.pyplot as plt\n",
        "\n",
        "plt.figure(figsize=(10, 7))\n",
        "plt.scatter(baseline_time_per_pred, baseline_results[\"f1\"], label=\"baseline\")\n",
        "plt.scatter(model_6_time_per_pred, model_6_results[\"f1\"], label=\"tf_hub_sentence_encoder\")\n",
        "plt.legend()\n",
        "plt.title(\"F1-score versus time per prediction\")\n",
        "plt.xlabel(\"Time per prediction\")\n",
        "plt.ylabel(\"F1-Score\");"
      ],
      "metadata": {
        "colab": {
          "base_uri": "https://localhost:8080/",
          "height": 458
        },
        "id": "PvVzTNt-dICx",
        "outputId": "de104f19-5a42-4869-f922-6fbcc61781dd"
      },
      "execution_count": null,
      "outputs": [
        {
          "output_type": "display_data",
          "data": {
            "text/plain": [
              "<Figure size 720x504 with 1 Axes>"
            ],
            "image/png": "[encoded data removed]"
          },
          "metadata": {
            "needs_background": "light"
          }
        }
      ]
    },
    {
      "cell_type": "markdown",
      "source": [
        "![imagen.png](data:image/png;base64,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)\n",
        "\n",
        "Ideal position for speed and performance tradeoff model (fast predictions with great results).\n",
        "\n",
        "Of course, the ideal position for each of these dots is to be in the top left of the plot (low time per prediction, high F1-score).\n",
        "\n",
        "In our case, there's a clear tradeoff for time per prediction and performance. Our best performing model takes an order of magnitude longer per prediction but only results in a few F1-score point increase.\n",
        "\n",
        "This kind of tradeoff is something you'll need to keep in mind when incorporating machine learning models into your own applications.\n"
      ],
      "metadata": {
        "id": "XukKZCRhdPnX"
      }
    },
    {
      "cell_type": "markdown",
      "source": [
        "##🛠 Exercises\n",
        "\n",
        "\n",
        "1. Rebuild, compile and train model_1, model_2 and model_5 using the Keras Sequential API instead of the Functional API.\n",
        "2. Retrain the baseline model with 10% of the training data. How does perform compared to the Universal Sentence Encoder model with 10% of the training data?\n",
        "3. Try fine-tuning the TF Hub Universal Sentence Encoder model by setting training=True when instantiating it as a Keras layer.\n"
      ],
      "metadata": {
        "id": "ZG8qT4nWdbWY"
      }
    },
    {
      "cell_type": "code",
      "source": [
        "We can use this encoding layer in place of our text_vectorizer and embedding layer\n",
        "\n",
        "sentence_encoder_layer = hub.KerasLayer(\"https://tfhub.dev/google/universal-sentence-encoder/4\",\n",
        "                                        input_shape=[],\n",
        "                                        dtype=tf.string,\n",
        "                                        trainable=True) # turn training on to fine-tune the TensorFlow Hub model"
      ],
      "metadata": {
        "colab": {
          "base_uri": "https://localhost:8080/",
          "height": 133
        },
        "id": "CESsxqS_djoV",
        "outputId": "217e1327-efcc-4e79-bc75-d4c4467e4928"
      },
      "execution_count": null,
      "outputs": [
        {
          "output_type": "error",
          "ename": "SyntaxError",
          "evalue": "ignored",
          "traceback": [
            "\u001b[0;36m  File \u001b[0;32m\"<ipython-input-130-eb4fe0a8b106>\"\u001b[0;36m, line \u001b[0;32m1\u001b[0m\n\u001b[0;31m    We can use this encoding layer in place of our text_vectorizer and embedding layer\u001b[0m\n\u001b[0m         ^\u001b[0m\n\u001b[0;31mSyntaxError\u001b[0m\u001b[0;31m:\u001b[0m invalid syntax\n"
          ]
        }
      ]
    },
    {
      "cell_type": "markdown",
      "source": [
        "1. Retrain the best model you've got so far on the whole training set (no validation split). Then use this trained model to make predictions on the test dataset and format the predictions into the same format as the sample_submission.csv file from Kaggle (see the Files tab in Colab for what the sample_submission.csv file looks like). Once you've done this, [make a submission to the Kaggle competition](https://www.kaggle.com/c/nlp-getting-started/data), how did your model perform?\n",
        "2. Combine the ensemble predictions using the majority vote (mode), how does this perform compare to averaging the prediction probabilities of each model?\n",
        "3.Make a confusion matrix with the best performing model's predictions on the validation set and the validation ground truth labels.\n"
      ],
      "metadata": {
        "id": "8gZE9YipdmYa"
      }
    },
    {
      "cell_type": "markdown",
      "source": [
        "##📖 Extra-curriculum\n",
        "\n",
        "To practice what you've learned, a good idea would be to spend an hour on 3 of the following (3-hours total, you could through them all if you want) and then write a blog post about what you've learned.\n",
        "\n",
        "* For an overview of the different problems within NLP and how to solve them read through:\n",
        "  * [A Simple Introduction to Natural Language Processing](https://becominghuman.ai/a-simple-introduction-to-natural-language-processing-ea66a1747b32)\n",
        "  * [How to solve 90% of NLP problems: a step-by-step guide](https://blog.insightdatascience.com/how-to-solve-90-of-nlp-problems-a-step-by-step-guide-fda605278e4e)\n",
        "* Go through[ MIT's Recurrent Neural Networks lecture](https://youtu.be/SEnXr6v2ifU). This will be one of the greatest additions to what's happening behind the RNN model's you've been building.\n",
        "* Read through the [word embeddings page on the TensorFlow website](https://www.tensorflow.org/tutorials/text/word_embeddings). Embeddings are such a large part of NLP. We've covered them throughout this notebook but extra practice would be well worth it. A good exercise would be to write out all the code in the guide in a new notebook.\n",
        "* For more on RNN's in TensorFlow, read and reproduce [the TensorFlow RNN guide](https://www.tensorflow.org/guide/keras/rnn). We've covered many of the concepts in this guide, but it's worth writing the code again for yourself.\n",
        "* Text data doesn't always come in a nice package like the data we've downloaded. So if you're after more on preparing different text sources for being with your TensorFlow deep learning models, it's worth checking out the following:\n",
        "  * [TensorFlow text loading tutorial](https://www.tensorflow.org/tutorials/load_data/text).\n",
        "  * [Reading text files with Python](https://realpython.com/read-write-files-python/) by Real Python.\n",
        "* This notebook has focused on writing NLP code. For a mathematically rich overview of how NLP with Deep Learning happens, read [Standford's Natural Language Processing with Deep Learning lecture notes Part 1](https://web.stanford.edu/class/cs224n/readings/cs224n-2019-notes01-wordvecs1.pdf).\n",
        "  * For an even deeper dive, you could even do the whole [CS224n](http://web.stanford.edu/class/cs224n/) (Natural Language Processing with Deep Learning) course.\n",
        "* Great blog posts to read:\n",
        "  * Andrei Karpathy's [The Unreasonable Effectiveness of RNNs](https://karpathy.github.io/2015/05/21/rnn-effectiveness/) dives into generating Shakespeare text with RNNs.\n",
        "  * [Text Classification with NLP: Tf-Idf vs Word2Vec vs BERT](https://towardsdatascience.com/text-classification-with-nlp-tf-idf-vs-word2vec-vs-bert-41ff868d1794) by Mauro Di Pietro. An overview of different techniques for turning text into numbers and then classifying it.\n",
        "  * [What are word embeddings?](https://machinelearningmastery.com/what-are-word-embeddings/) by Machine Learning Mastery.\n",
        "* Other topics worth looking into:\n",
        "  * [Attention mechanisms](https://jalammar.github.io/visualizing-neural-machine-translation-mechanics-of-seq2seq-models-with-attention/). These are a foundational component of the transformer architecture and also often add improvments to deep NLP models.\n",
        "  * [Transformer architectures](https://jalammar.github.io/illustrated-transformer/). This model architecture has recently taken the NLP world by storm, achieving state of the art on many benchmarks. However, it does take a little more processing to get off the ground, the HuggingFace Models (formerly HuggingFace Transformers) library [texto del enlace](https://huggingface.co/models/) is probably your best quick start.\n",
        "    * And now [HuggingFace even have their own course](https://huggingface.co/course/chapter1) on how their library works! I haven't done it but anything HuggingFace makes is world-class.\n"
      ],
      "metadata": {
        "id": "9b-iYgkkd4Nv"
      }
    }
  ]
}